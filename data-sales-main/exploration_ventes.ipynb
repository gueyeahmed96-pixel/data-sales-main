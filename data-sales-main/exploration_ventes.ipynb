{
 "cells": [
  {
   "cell_type": "code",
   "execution_count": 130,
   "id": "15f97e0f",
   "metadata": {},
   "outputs": [],
   "source": [
    "# Import des packages\n",
    "import pandas as pd\n",
    "import numpy as np\n",
    "import os\n",
    "import glob\n",
    "import plotly.express as px\n",
    "import plotly.graph_objects as go\n",
    "from plotly.subplots import make_subplots\n",
    "import seaborn as sns"
   ]
  },
  {
   "cell_type": "code",
   "execution_count": 131,
   "id": "6eab9ca7",
   "metadata": {},
   "outputs": [],
   "source": [
    "# 1. Définir le chemin vers le dossier contenant les fichiers CSV\n",
    "path = '/Users/Mamad/Documents/Data_Analyst/Mes projets/data-sales-main'\n",
    "# 2. Utiliser glob pour trouver tous les fichiers .csv dans le dossier\n",
    "all_files =glob.glob(os.path.join(path,\"*.csv\"))\n",
    "\n",
    "# 3. Lire chaque fichier et les stocker dans une liste de DataFrames\n",
    "list_of_dfs = []\n",
    "for filename in all_files:\n",
    "    df =pd.read_csv(filename)\n",
    "    list_of_dfs.append(df)\n",
    "\n",
    "# 4. Concaténer (fusionner) tous les DataFrames de la liste en un seul\n",
    "combined_df = pd.concat(list_of_dfs, ignore_index=True)\n",
    "\n",
    "# 5. Sauvegarder le DataFrame combiné dans un nouveau fichier CSV\n",
    "# L'option index=False évite d'écrire une colonne d'index inutile dans le fichier\n",
    "combined_df.to_csv(\"sales_final_2019.csv\", index=False, encoding='utf-8-sig')"
   ]
  },
  {
   "cell_type": "markdown",
   "id": "2390fd32",
   "metadata": {},
   "source": [
    "# Exploration des données de la vente 2019"
   ]
  },
  {
   "cell_type": "code",
   "execution_count": 132,
   "id": "9dae5054",
   "metadata": {},
   "outputs": [
    {
     "data": {
      "application/vnd.microsoft.datawrangler.viewer.v0+json": {
       "columns": [
        {
         "name": "index",
         "rawType": "int64",
         "type": "integer"
        },
        {
         "name": "Order ID",
         "rawType": "object",
         "type": "unknown"
        },
        {
         "name": "Product",
         "rawType": "object",
         "type": "unknown"
        },
        {
         "name": "Quantity Ordered",
         "rawType": "object",
         "type": "unknown"
        },
        {
         "name": "Price Each",
         "rawType": "object",
         "type": "unknown"
        },
        {
         "name": "Order Date",
         "rawType": "object",
         "type": "unknown"
        },
        {
         "name": "Purchase Address",
         "rawType": "object",
         "type": "unknown"
        }
       ],
       "ref": "72ab83f9-7557-4b52-afdf-ce21b159f43f",
       "rows": [
        [
         "0",
         "176558",
         "USB-C Charging Cable",
         "2",
         "11.95",
         "04/19/19 08:46",
         "917 1st St, Dallas, TX 75001"
        ],
        [
         "1",
         null,
         null,
         null,
         null,
         null,
         null
        ],
        [
         "2",
         "176559",
         "Bose SoundSport Headphones",
         "1",
         "99.99",
         "04/07/19 22:30",
         "682 Chestnut St, Boston, MA 02215"
        ],
        [
         "3",
         "176560",
         "Google Phone",
         "1",
         "600",
         "04/12/19 14:38",
         "669 Spruce St, Los Angeles, CA 90001"
        ],
        [
         "4",
         "176560",
         "Wired Headphones",
         "1",
         "11.99",
         "04/12/19 14:38",
         "669 Spruce St, Los Angeles, CA 90001"
        ]
       ],
       "shape": {
        "columns": 6,
        "rows": 5
       }
      },
      "text/html": [
       "<div>\n",
       "<style scoped>\n",
       "    .dataframe tbody tr th:only-of-type {\n",
       "        vertical-align: middle;\n",
       "    }\n",
       "\n",
       "    .dataframe tbody tr th {\n",
       "        vertical-align: top;\n",
       "    }\n",
       "\n",
       "    .dataframe thead th {\n",
       "        text-align: right;\n",
       "    }\n",
       "</style>\n",
       "<table border=\"1\" class=\"dataframe\">\n",
       "  <thead>\n",
       "    <tr style=\"text-align: right;\">\n",
       "      <th></th>\n",
       "      <th>Order ID</th>\n",
       "      <th>Product</th>\n",
       "      <th>Quantity Ordered</th>\n",
       "      <th>Price Each</th>\n",
       "      <th>Order Date</th>\n",
       "      <th>Purchase Address</th>\n",
       "    </tr>\n",
       "  </thead>\n",
       "  <tbody>\n",
       "    <tr>\n",
       "      <th>0</th>\n",
       "      <td>176558</td>\n",
       "      <td>USB-C Charging Cable</td>\n",
       "      <td>2</td>\n",
       "      <td>11.95</td>\n",
       "      <td>04/19/19 08:46</td>\n",
       "      <td>917 1st St, Dallas, TX 75001</td>\n",
       "    </tr>\n",
       "    <tr>\n",
       "      <th>1</th>\n",
       "      <td>NaN</td>\n",
       "      <td>NaN</td>\n",
       "      <td>NaN</td>\n",
       "      <td>NaN</td>\n",
       "      <td>NaN</td>\n",
       "      <td>NaN</td>\n",
       "    </tr>\n",
       "    <tr>\n",
       "      <th>2</th>\n",
       "      <td>176559</td>\n",
       "      <td>Bose SoundSport Headphones</td>\n",
       "      <td>1</td>\n",
       "      <td>99.99</td>\n",
       "      <td>04/07/19 22:30</td>\n",
       "      <td>682 Chestnut St, Boston, MA 02215</td>\n",
       "    </tr>\n",
       "    <tr>\n",
       "      <th>3</th>\n",
       "      <td>176560</td>\n",
       "      <td>Google Phone</td>\n",
       "      <td>1</td>\n",
       "      <td>600</td>\n",
       "      <td>04/12/19 14:38</td>\n",
       "      <td>669 Spruce St, Los Angeles, CA 90001</td>\n",
       "    </tr>\n",
       "    <tr>\n",
       "      <th>4</th>\n",
       "      <td>176560</td>\n",
       "      <td>Wired Headphones</td>\n",
       "      <td>1</td>\n",
       "      <td>11.99</td>\n",
       "      <td>04/12/19 14:38</td>\n",
       "      <td>669 Spruce St, Los Angeles, CA 90001</td>\n",
       "    </tr>\n",
       "  </tbody>\n",
       "</table>\n",
       "</div>"
      ],
      "text/plain": [
       "  Order ID                     Product Quantity Ordered Price Each  \\\n",
       "0   176558        USB-C Charging Cable                2      11.95   \n",
       "1      NaN                         NaN              NaN        NaN   \n",
       "2   176559  Bose SoundSport Headphones                1      99.99   \n",
       "3   176560                Google Phone                1        600   \n",
       "4   176560            Wired Headphones                1      11.99   \n",
       "\n",
       "       Order Date                      Purchase Address  \n",
       "0  04/19/19 08:46          917 1st St, Dallas, TX 75001  \n",
       "1             NaN                                   NaN  \n",
       "2  04/07/19 22:30     682 Chestnut St, Boston, MA 02215  \n",
       "3  04/12/19 14:38  669 Spruce St, Los Angeles, CA 90001  \n",
       "4  04/12/19 14:38  669 Spruce St, Los Angeles, CA 90001  "
      ]
     },
     "execution_count": 132,
     "metadata": {},
     "output_type": "execute_result"
    }
   ],
   "source": [
    "df = pd.read_csv('sales_final_2019.csv')\n",
    "df.head()"
   ]
  },
  {
   "cell_type": "code",
   "execution_count": 133,
   "id": "ac68483e",
   "metadata": {},
   "outputs": [
    {
     "data": {
      "text/plain": [
       "(186850, 6)"
      ]
     },
     "execution_count": 133,
     "metadata": {},
     "output_type": "execute_result"
    }
   ],
   "source": [
    "# le nombre de ligne et de colonne\n",
    "df.shape"
   ]
  },
  {
   "cell_type": "code",
   "execution_count": 134,
   "id": "70fde096",
   "metadata": {},
   "outputs": [
    {
     "data": {
      "application/vnd.microsoft.datawrangler.viewer.v0+json": {
       "columns": [
        {
         "name": "index",
         "rawType": "object",
         "type": "string"
        },
        {
         "name": "0",
         "rawType": "object",
         "type": "unknown"
        }
       ],
       "ref": "6159a650-7736-4cfc-86e9-f55cb7fb5e3b",
       "rows": [
        [
         "Order ID",
         "object"
        ],
        [
         "Product",
         "object"
        ],
        [
         "Quantity Ordered",
         "object"
        ],
        [
         "Price Each",
         "object"
        ],
        [
         "Order Date",
         "object"
        ],
        [
         "Purchase Address",
         "object"
        ]
       ],
       "shape": {
        "columns": 1,
        "rows": 6
       }
      },
      "text/plain": [
       "Order ID            object\n",
       "Product             object\n",
       "Quantity Ordered    object\n",
       "Price Each          object\n",
       "Order Date          object\n",
       "Purchase Address    object\n",
       "dtype: object"
      ]
     },
     "execution_count": 134,
     "metadata": {},
     "output_type": "execute_result"
    }
   ],
   "source": [
    "# les types de variable\n",
    "df.dtypes"
   ]
  },
  {
   "cell_type": "code",
   "execution_count": 135,
   "id": "7f812519",
   "metadata": {},
   "outputs": [
    {
     "data": {
      "application/vnd.microsoft.datawrangler.viewer.v0+json": {
       "columns": [
        {
         "name": "index",
         "rawType": "object",
         "type": "string"
        },
        {
         "name": "0",
         "rawType": "int64",
         "type": "integer"
        }
       ],
       "ref": "03437fe4-4362-4cbe-a232-ba46ea98dd48",
       "rows": [
        [
         "Order ID",
         "545"
        ],
        [
         "Product",
         "545"
        ],
        [
         "Quantity Ordered",
         "545"
        ],
        [
         "Price Each",
         "545"
        ],
        [
         "Order Date",
         "545"
        ],
        [
         "Purchase Address",
         "545"
        ]
       ],
       "shape": {
        "columns": 1,
        "rows": 6
       }
      },
      "text/plain": [
       "Order ID            545\n",
       "Product             545\n",
       "Quantity Ordered    545\n",
       "Price Each          545\n",
       "Order Date          545\n",
       "Purchase Address    545\n",
       "dtype: int64"
      ]
     },
     "execution_count": 135,
     "metadata": {},
     "output_type": "execute_result"
    }
   ],
   "source": [
    "# les valeurs manquantes\n",
    "df.isnull().sum()"
   ]
  },
  {
   "cell_type": "code",
   "execution_count": 136,
   "id": "62d02e37",
   "metadata": {},
   "outputs": [],
   "source": [
    "# Suppression des valeurs manquantes\n",
    "df = df.dropna(how='all')"
   ]
  },
  {
   "cell_type": "code",
   "execution_count": 137,
   "id": "c1715a48",
   "metadata": {},
   "outputs": [
    {
     "data": {
      "application/vnd.microsoft.datawrangler.viewer.v0+json": {
       "columns": [
        {
         "name": "index",
         "rawType": "object",
         "type": "string"
        },
        {
         "name": "0",
         "rawType": "int64",
         "type": "integer"
        }
       ],
       "ref": "5693af67-a863-4cfe-a6bd-e43a903c16b4",
       "rows": [
        [
         "Order ID",
         "0"
        ],
        [
         "Product",
         "0"
        ],
        [
         "Quantity Ordered",
         "0"
        ],
        [
         "Price Each",
         "0"
        ],
        [
         "Order Date",
         "0"
        ],
        [
         "Purchase Address",
         "0"
        ]
       ],
       "shape": {
        "columns": 1,
        "rows": 6
       }
      },
      "text/plain": [
       "Order ID            0\n",
       "Product             0\n",
       "Quantity Ordered    0\n",
       "Price Each          0\n",
       "Order Date          0\n",
       "Purchase Address    0\n",
       "dtype: int64"
      ]
     },
     "execution_count": 137,
     "metadata": {},
     "output_type": "execute_result"
    }
   ],
   "source": [
    "# Vérification des valeurs manquantes\n",
    "df.isnull().sum()"
   ]
  },
  {
   "cell_type": "markdown",
   "id": "ee4f3eec",
   "metadata": {},
   "source": [
    "# Quel est le mois durant lequel nous avons réalisé le meilleur chiffre d'affaire ?"
   ]
  },
  {
   "cell_type": "code",
   "execution_count": 138,
   "id": "35036da9",
   "metadata": {},
   "outputs": [],
   "source": [
    "def month(x):\n",
    "    return x.split('/')[0]"
   ]
  },
  {
   "cell_type": "code",
   "execution_count": 139,
   "id": "a34c6cca",
   "metadata": {},
   "outputs": [
    {
     "data": {
      "application/vnd.microsoft.datawrangler.viewer.v0+json": {
       "columns": [
        {
         "name": "index",
         "rawType": "int64",
         "type": "integer"
        },
        {
         "name": "Order ID",
         "rawType": "object",
         "type": "string"
        },
        {
         "name": "Product",
         "rawType": "object",
         "type": "string"
        },
        {
         "name": "Quantity Ordered",
         "rawType": "object",
         "type": "string"
        },
        {
         "name": "Price Each",
         "rawType": "object",
         "type": "string"
        },
        {
         "name": "Order Date",
         "rawType": "object",
         "type": "string"
        },
        {
         "name": "Purchase Address",
         "rawType": "object",
         "type": "string"
        },
        {
         "name": "Month",
         "rawType": "object",
         "type": "string"
        }
       ],
       "ref": "b311c97a-d93a-44e8-bf2b-da5f6c8c65ea",
       "rows": [
        [
         "0",
         "176558",
         "USB-C Charging Cable",
         "2",
         "11.95",
         "04/19/19 08:46",
         "917 1st St, Dallas, TX 75001",
         "04"
        ],
        [
         "2",
         "176559",
         "Bose SoundSport Headphones",
         "1",
         "99.99",
         "04/07/19 22:30",
         "682 Chestnut St, Boston, MA 02215",
         "04"
        ],
        [
         "3",
         "176560",
         "Google Phone",
         "1",
         "600",
         "04/12/19 14:38",
         "669 Spruce St, Los Angeles, CA 90001",
         "04"
        ],
        [
         "4",
         "176560",
         "Wired Headphones",
         "1",
         "11.99",
         "04/12/19 14:38",
         "669 Spruce St, Los Angeles, CA 90001",
         "04"
        ],
        [
         "5",
         "176561",
         "Wired Headphones",
         "1",
         "11.99",
         "04/30/19 09:27",
         "333 8th St, Los Angeles, CA 90001",
         "04"
        ],
        [
         "6",
         "176562",
         "USB-C Charging Cable",
         "1",
         "11.95",
         "04/29/19 13:03",
         "381 Wilson St, San Francisco, CA 94016",
         "04"
        ],
        [
         "7",
         "176563",
         "Bose SoundSport Headphones",
         "1",
         "99.99",
         "04/02/19 07:46",
         "668 Center St, Seattle, WA 98101",
         "04"
        ],
        [
         "8",
         "176564",
         "USB-C Charging Cable",
         "1",
         "11.95",
         "04/12/19 10:58",
         "790 Ridge St, Atlanta, GA 30301",
         "04"
        ],
        [
         "9",
         "176565",
         "Macbook Pro Laptop",
         "1",
         "1700",
         "04/24/19 10:38",
         "915 Willow St, San Francisco, CA 94016",
         "04"
        ],
        [
         "10",
         "176566",
         "Wired Headphones",
         "1",
         "11.99",
         "04/08/19 14:05",
         "83 7th St, Boston, MA 02215",
         "04"
        ],
        [
         "11",
         "176567",
         "Google Phone",
         "1",
         "600",
         "04/18/19 17:18",
         "444 7th St, Los Angeles, CA 90001",
         "04"
        ],
        [
         "12",
         "176568",
         "Lightning Charging Cable",
         "1",
         "14.95",
         "04/15/19 12:18",
         "438 Elm St, Seattle, WA 98101",
         "04"
        ],
        [
         "13",
         "176569",
         "27in 4K Gaming Monitor",
         "1",
         "389.99",
         "04/16/19 19:23",
         "657 Hill St, Dallas, TX 75001",
         "04"
        ],
        [
         "14",
         "176570",
         "AA Batteries (4-pack)",
         "1",
         "3.84",
         "04/22/19 15:09",
         "186 12th St, Dallas, TX 75001",
         "04"
        ],
        [
         "15",
         "176571",
         "Lightning Charging Cable",
         "1",
         "14.95",
         "04/19/19 14:29",
         "253 Johnson St, Atlanta, GA 30301",
         "04"
        ],
        [
         "16",
         "176572",
         "Apple Airpods Headphones",
         "1",
         "150",
         "04/04/19 20:30",
         "149 Dogwood St, New York City, NY 10001",
         "04"
        ],
        [
         "17",
         "176573",
         "USB-C Charging Cable",
         "1",
         "11.95",
         "04/27/19 18:41",
         "214 Chestnut St, San Francisco, CA 94016",
         "04"
        ],
        [
         "18",
         "176574",
         "Google Phone",
         "1",
         "600",
         "04/03/19 19:42",
         "20 Hill St, Los Angeles, CA 90001",
         "04"
        ],
        [
         "19",
         "176574",
         "USB-C Charging Cable",
         "1",
         "11.95",
         "04/03/19 19:42",
         "20 Hill St, Los Angeles, CA 90001",
         "04"
        ],
        [
         "20",
         "176575",
         "AAA Batteries (4-pack)",
         "1",
         "2.99",
         "04/27/19 00:30",
         "433 Hill St, New York City, NY 10001",
         "04"
        ],
        [
         "21",
         "176576",
         "Apple Airpods Headphones",
         "1",
         "150",
         "04/28/19 11:42",
         "771 Ridge St, Los Angeles, CA 90001",
         "04"
        ],
        [
         "22",
         "176577",
         "Apple Airpods Headphones",
         "1",
         "150",
         "04/04/19 19:25",
         "260 Spruce St, Dallas, TX 75001",
         "04"
        ],
        [
         "23",
         "176578",
         "Apple Airpods Headphones",
         "1",
         "150",
         "04/09/19 23:35",
         "513 Church St, Boston, MA 02215",
         "04"
        ],
        [
         "24",
         "176579",
         "AA Batteries (4-pack)",
         "1",
         "3.84",
         "04/11/19 10:23",
         "886 Jefferson St, New York City, NY 10001",
         "04"
        ],
        [
         "25",
         "176580",
         "USB-C Charging Cable",
         "1",
         "11.95",
         "04/05/19 00:35",
         "886 Willow St, Los Angeles, CA 90001",
         "04"
        ],
        [
         "26",
         "176581",
         "iPhone",
         "1",
         "700",
         "04/09/19 21:38",
         "84 Jackson St, Boston, MA 02215",
         "04"
        ],
        [
         "27",
         "176582",
         "Bose SoundSport Headphones",
         "1",
         "99.99",
         "04/27/19 12:20",
         "178 Lincoln St, Atlanta, GA 30301",
         "04"
        ],
        [
         "28",
         "176583",
         "AAA Batteries (4-pack)",
         "2",
         "2.99",
         "04/20/19 12:00",
         "146 Jackson St, Portland, OR 97035",
         "04"
        ],
        [
         "29",
         "176584",
         "Flatscreen TV",
         "1",
         "300",
         "04/24/19 20:39",
         "936 Church St, San Francisco, CA 94016",
         "04"
        ],
        [
         "30",
         "176585",
         "Bose SoundSport Headphones",
         "1",
         "99.99",
         "04/07/19 11:31",
         "823 Highland St, Boston, MA 02215",
         "04"
        ],
        [
         "31",
         "176585",
         "Bose SoundSport Headphones",
         "1",
         "99.99",
         "04/07/19 11:31",
         "823 Highland St, Boston, MA 02215",
         "04"
        ],
        [
         "32",
         "176586",
         "AAA Batteries (4-pack)",
         "2",
         "2.99",
         "04/10/19 17:00",
         "365 Center St, San Francisco, CA 94016",
         "04"
        ],
        [
         "33",
         "176586",
         "Google Phone",
         "1",
         "600",
         "04/10/19 17:00",
         "365 Center St, San Francisco, CA 94016",
         "04"
        ],
        [
         "34",
         "176587",
         "27in FHD Monitor",
         "1",
         "149.99",
         "04/29/19 19:38",
         "557 5th St, Los Angeles, CA 90001",
         "04"
        ],
        [
         "35",
         "176588",
         "20in Monitor",
         "1",
         "109.99",
         "04/02/19 04:00",
         "765 Cherry St, Seattle, WA 98101",
         "04"
        ],
        [
         "36",
         "176589",
         "Lightning Charging Cable",
         "1",
         "14.95",
         "04/04/19 12:23",
         "846 Highland St, Atlanta, GA 30301",
         "04"
        ],
        [
         "37",
         "176590",
         "Google Phone",
         "1",
         "600",
         "04/11/19 11:46",
         "873 6th St, New York City, NY 10001",
         "04"
        ],
        [
         "38",
         "176591",
         "Apple Airpods Headphones",
         "1",
         "150",
         "04/21/19 07:21",
         "600 Maple St, Austin, TX 73301",
         "04"
        ],
        [
         "39",
         "176592",
         "USB-C Charging Cable",
         "1",
         "11.95",
         "04/27/19 13:04",
         "352 4th St, Los Angeles, CA 90001",
         "04"
        ],
        [
         "40",
         "176593",
         "Lightning Charging Cable",
         "2",
         "14.95",
         "04/15/19 13:45",
         "906 7th St, Portland, OR 97035",
         "04"
        ],
        [
         "41",
         "176594",
         "Wired Headphones",
         "1",
         "11.99",
         "04/17/19 23:04",
         "63 Maple St, San Francisco, CA 94016",
         "04"
        ],
        [
         "42",
         "176595",
         "Wired Headphones",
         "3",
         "11.99",
         "04/02/19 09:11",
         "383 6th St, Los Angeles, CA 90001",
         "04"
        ],
        [
         "43",
         "176596",
         "Apple Airpods Headphones",
         "1",
         "150",
         "04/27/19 20:11",
         "572 Meadow St, Dallas, TX 75001",
         "04"
        ],
        [
         "44",
         "176597",
         "USB-C Charging Cable",
         "1",
         "11.95",
         "04/19/19 13:39",
         "681 11th St, San Francisco, CA 94016",
         "04"
        ],
        [
         "45",
         "176598",
         "AAA Batteries (4-pack)",
         "2",
         "2.99",
         "04/21/19 20:33",
         "294 Park St, San Francisco, CA 94016",
         "04"
        ],
        [
         "46",
         "176599",
         "Lightning Charging Cable",
         "1",
         "14.95",
         "04/11/19 15:25",
         "279 Maple St, New York City, NY 10001",
         "04"
        ],
        [
         "47",
         "176600",
         "27in 4K Gaming Monitor",
         "1",
         "389.99",
         "04/30/19 15:54",
         "87 West St, Boston, MA 02215",
         "04"
        ],
        [
         "48",
         "176601",
         "USB-C Charging Cable",
         "1",
         "11.95",
         "04/02/19 22:32",
         "754 10th St, Los Angeles, CA 90001",
         "04"
        ],
        [
         "49",
         "176602",
         "Lightning Charging Cable",
         "1",
         "14.95",
         "04/30/19 09:39",
         "9 Jefferson St, Dallas, TX 75001",
         "04"
        ],
        [
         "50",
         "176603",
         "USB-C Charging Cable",
         "1",
         "11.95",
         "04/01/19 07:46",
         "858 6th St, San Francisco, CA 94016",
         "04"
        ]
       ],
       "shape": {
        "columns": 7,
        "rows": 186305
       }
      },
      "text/html": [
       "<div>\n",
       "<style scoped>\n",
       "    .dataframe tbody tr th:only-of-type {\n",
       "        vertical-align: middle;\n",
       "    }\n",
       "\n",
       "    .dataframe tbody tr th {\n",
       "        vertical-align: top;\n",
       "    }\n",
       "\n",
       "    .dataframe thead th {\n",
       "        text-align: right;\n",
       "    }\n",
       "</style>\n",
       "<table border=\"1\" class=\"dataframe\">\n",
       "  <thead>\n",
       "    <tr style=\"text-align: right;\">\n",
       "      <th></th>\n",
       "      <th>Order ID</th>\n",
       "      <th>Product</th>\n",
       "      <th>Quantity Ordered</th>\n",
       "      <th>Price Each</th>\n",
       "      <th>Order Date</th>\n",
       "      <th>Purchase Address</th>\n",
       "      <th>Month</th>\n",
       "    </tr>\n",
       "  </thead>\n",
       "  <tbody>\n",
       "    <tr>\n",
       "      <th>0</th>\n",
       "      <td>176558</td>\n",
       "      <td>USB-C Charging Cable</td>\n",
       "      <td>2</td>\n",
       "      <td>11.95</td>\n",
       "      <td>04/19/19 08:46</td>\n",
       "      <td>917 1st St, Dallas, TX 75001</td>\n",
       "      <td>04</td>\n",
       "    </tr>\n",
       "    <tr>\n",
       "      <th>2</th>\n",
       "      <td>176559</td>\n",
       "      <td>Bose SoundSport Headphones</td>\n",
       "      <td>1</td>\n",
       "      <td>99.99</td>\n",
       "      <td>04/07/19 22:30</td>\n",
       "      <td>682 Chestnut St, Boston, MA 02215</td>\n",
       "      <td>04</td>\n",
       "    </tr>\n",
       "    <tr>\n",
       "      <th>3</th>\n",
       "      <td>176560</td>\n",
       "      <td>Google Phone</td>\n",
       "      <td>1</td>\n",
       "      <td>600</td>\n",
       "      <td>04/12/19 14:38</td>\n",
       "      <td>669 Spruce St, Los Angeles, CA 90001</td>\n",
       "      <td>04</td>\n",
       "    </tr>\n",
       "    <tr>\n",
       "      <th>4</th>\n",
       "      <td>176560</td>\n",
       "      <td>Wired Headphones</td>\n",
       "      <td>1</td>\n",
       "      <td>11.99</td>\n",
       "      <td>04/12/19 14:38</td>\n",
       "      <td>669 Spruce St, Los Angeles, CA 90001</td>\n",
       "      <td>04</td>\n",
       "    </tr>\n",
       "    <tr>\n",
       "      <th>5</th>\n",
       "      <td>176561</td>\n",
       "      <td>Wired Headphones</td>\n",
       "      <td>1</td>\n",
       "      <td>11.99</td>\n",
       "      <td>04/30/19 09:27</td>\n",
       "      <td>333 8th St, Los Angeles, CA 90001</td>\n",
       "      <td>04</td>\n",
       "    </tr>\n",
       "    <tr>\n",
       "      <th>...</th>\n",
       "      <td>...</td>\n",
       "      <td>...</td>\n",
       "      <td>...</td>\n",
       "      <td>...</td>\n",
       "      <td>...</td>\n",
       "      <td>...</td>\n",
       "      <td>...</td>\n",
       "    </tr>\n",
       "    <tr>\n",
       "      <th>186845</th>\n",
       "      <td>259353</td>\n",
       "      <td>AAA Batteries (4-pack)</td>\n",
       "      <td>3</td>\n",
       "      <td>2.99</td>\n",
       "      <td>09/17/19 20:56</td>\n",
       "      <td>840 Highland St, Los Angeles, CA 90001</td>\n",
       "      <td>09</td>\n",
       "    </tr>\n",
       "    <tr>\n",
       "      <th>186846</th>\n",
       "      <td>259354</td>\n",
       "      <td>iPhone</td>\n",
       "      <td>1</td>\n",
       "      <td>700</td>\n",
       "      <td>09/01/19 16:00</td>\n",
       "      <td>216 Dogwood St, San Francisco, CA 94016</td>\n",
       "      <td>09</td>\n",
       "    </tr>\n",
       "    <tr>\n",
       "      <th>186847</th>\n",
       "      <td>259355</td>\n",
       "      <td>iPhone</td>\n",
       "      <td>1</td>\n",
       "      <td>700</td>\n",
       "      <td>09/23/19 07:39</td>\n",
       "      <td>220 12th St, San Francisco, CA 94016</td>\n",
       "      <td>09</td>\n",
       "    </tr>\n",
       "    <tr>\n",
       "      <th>186848</th>\n",
       "      <td>259356</td>\n",
       "      <td>34in Ultrawide Monitor</td>\n",
       "      <td>1</td>\n",
       "      <td>379.99</td>\n",
       "      <td>09/19/19 17:30</td>\n",
       "      <td>511 Forest St, San Francisco, CA 94016</td>\n",
       "      <td>09</td>\n",
       "    </tr>\n",
       "    <tr>\n",
       "      <th>186849</th>\n",
       "      <td>259357</td>\n",
       "      <td>USB-C Charging Cable</td>\n",
       "      <td>1</td>\n",
       "      <td>11.95</td>\n",
       "      <td>09/30/19 00:18</td>\n",
       "      <td>250 Meadow St, San Francisco, CA 94016</td>\n",
       "      <td>09</td>\n",
       "    </tr>\n",
       "  </tbody>\n",
       "</table>\n",
       "<p>186305 rows × 7 columns</p>\n",
       "</div>"
      ],
      "text/plain": [
       "       Order ID                     Product Quantity Ordered Price Each  \\\n",
       "0        176558        USB-C Charging Cable                2      11.95   \n",
       "2        176559  Bose SoundSport Headphones                1      99.99   \n",
       "3        176560                Google Phone                1        600   \n",
       "4        176560            Wired Headphones                1      11.99   \n",
       "5        176561            Wired Headphones                1      11.99   \n",
       "...         ...                         ...              ...        ...   \n",
       "186845   259353      AAA Batteries (4-pack)                3       2.99   \n",
       "186846   259354                      iPhone                1        700   \n",
       "186847   259355                      iPhone                1        700   \n",
       "186848   259356      34in Ultrawide Monitor                1     379.99   \n",
       "186849   259357        USB-C Charging Cable                1      11.95   \n",
       "\n",
       "            Order Date                         Purchase Address Month  \n",
       "0       04/19/19 08:46             917 1st St, Dallas, TX 75001    04  \n",
       "2       04/07/19 22:30        682 Chestnut St, Boston, MA 02215    04  \n",
       "3       04/12/19 14:38     669 Spruce St, Los Angeles, CA 90001    04  \n",
       "4       04/12/19 14:38     669 Spruce St, Los Angeles, CA 90001    04  \n",
       "5       04/30/19 09:27        333 8th St, Los Angeles, CA 90001    04  \n",
       "...                ...                                      ...   ...  \n",
       "186845  09/17/19 20:56   840 Highland St, Los Angeles, CA 90001    09  \n",
       "186846  09/01/19 16:00  216 Dogwood St, San Francisco, CA 94016    09  \n",
       "186847  09/23/19 07:39     220 12th St, San Francisco, CA 94016    09  \n",
       "186848  09/19/19 17:30   511 Forest St, San Francisco, CA 94016    09  \n",
       "186849  09/30/19 00:18   250 Meadow St, San Francisco, CA 94016    09  \n",
       "\n",
       "[186305 rows x 7 columns]"
      ]
     },
     "execution_count": 139,
     "metadata": {},
     "output_type": "execute_result"
    }
   ],
   "source": [
    "df['Month']= df['Order Date'].apply(month)\n",
    "df"
   ]
  },
  {
   "cell_type": "code",
   "execution_count": 140,
   "id": "3f7f00b7",
   "metadata": {},
   "outputs": [
    {
     "data": {
      "text/plain": [
       "array(['04', '05', 'Order Date', '08', '09', '12', '01', '02', '03', '07',\n",
       "       '06', '11', '10'], dtype=object)"
      ]
     },
     "execution_count": 140,
     "metadata": {},
     "output_type": "execute_result"
    }
   ],
   "source": [
    "df['Month'].unique()"
   ]
  },
  {
   "cell_type": "code",
   "execution_count": 141,
   "id": "fe2096e6",
   "metadata": {},
   "outputs": [
    {
     "data": {
      "text/plain": [
       "array(['04', '05', '08', '09', '12', '01', '02', '03', '07', '06', '11',\n",
       "       '10'], dtype=object)"
      ]
     },
     "execution_count": 141,
     "metadata": {},
     "output_type": "execute_result"
    }
   ],
   "source": [
    "# Drop rows where Month is 'Order Date'\n",
    "df = df[df['Month']!='Order Date']\n",
    "df['Month'].unique()"
   ]
  },
  {
   "cell_type": "code",
   "execution_count": 142,
   "id": "7457071b",
   "metadata": {},
   "outputs": [
    {
     "data": {
      "application/vnd.microsoft.datawrangler.viewer.v0+json": {
       "columns": [
        {
         "name": "index",
         "rawType": "object",
         "type": "string"
        },
        {
         "name": "0",
         "rawType": "object",
         "type": "unknown"
        }
       ],
       "ref": "287219a6-6cfe-49d8-8710-b1fd33fa1eea",
       "rows": [
        [
         "Order ID",
         "object"
        ],
        [
         "Product",
         "object"
        ],
        [
         "Quantity Ordered",
         "object"
        ],
        [
         "Price Each",
         "object"
        ],
        [
         "Order Date",
         "object"
        ],
        [
         "Purchase Address",
         "object"
        ],
        [
         "Month",
         "int64"
        ]
       ],
       "shape": {
        "columns": 1,
        "rows": 7
       }
      },
      "text/plain": [
       "Order ID            object\n",
       "Product             object\n",
       "Quantity Ordered    object\n",
       "Price Each          object\n",
       "Order Date          object\n",
       "Purchase Address    object\n",
       "Month                int64\n",
       "dtype: object"
      ]
     },
     "execution_count": 142,
     "metadata": {},
     "output_type": "execute_result"
    }
   ],
   "source": [
    "# Drop rows where 'Month' is NaN before converting to int\n",
    "df = df[df['Month'].notna()]\n",
    "df['Month'] = df['Month'].astype(int)\n",
    "df.dtypes"
   ]
  },
  {
   "cell_type": "code",
   "execution_count": 143,
   "id": "25635d69",
   "metadata": {},
   "outputs": [
    {
     "data": {
      "application/vnd.microsoft.datawrangler.viewer.v0+json": {
       "columns": [
        {
         "name": "index",
         "rawType": "object",
         "type": "string"
        },
        {
         "name": "0",
         "rawType": "object",
         "type": "unknown"
        }
       ],
       "ref": "f6712cc2-d778-4c5c-86c5-79bbd60b7371",
       "rows": [
        [
         "Order ID",
         "object"
        ],
        [
         "Product",
         "object"
        ],
        [
         "Quantity Ordered",
         "int64"
        ],
        [
         "Price Each",
         "float64"
        ],
        [
         "Order Date",
         "object"
        ],
        [
         "Purchase Address",
         "object"
        ],
        [
         "Month",
         "int64"
        ]
       ],
       "shape": {
        "columns": 1,
        "rows": 7
       }
      },
      "text/plain": [
       "Order ID             object\n",
       "Product              object\n",
       "Quantity Ordered      int64\n",
       "Price Each          float64\n",
       "Order Date           object\n",
       "Purchase Address     object\n",
       "Month                 int64\n",
       "dtype: object"
      ]
     },
     "execution_count": 143,
     "metadata": {},
     "output_type": "execute_result"
    }
   ],
   "source": [
    "# Conversion de la quantité et du prix en entier\n",
    "# Pour la quantité\n",
    "df = df[df['Quantity Ordered'].notna()]\n",
    "df['Quantity Ordered'] = df['Quantity Ordered'].astype(int)\n",
    "# Pour le prix \n",
    "df = df[df['Price Each'].notna()]\n",
    "df['Price Each'] = df['Price Each'].astype(float)\n",
    "df.dtypes"
   ]
  },
  {
   "cell_type": "code",
   "execution_count": 144,
   "id": "df314835",
   "metadata": {},
   "outputs": [
    {
     "data": {
      "application/vnd.microsoft.datawrangler.viewer.v0+json": {
       "columns": [
        {
         "name": "index",
         "rawType": "int64",
         "type": "integer"
        },
        {
         "name": "Order ID",
         "rawType": "object",
         "type": "string"
        },
        {
         "name": "Product",
         "rawType": "object",
         "type": "string"
        },
        {
         "name": "Quantity Ordered",
         "rawType": "int64",
         "type": "integer"
        },
        {
         "name": "Price Each",
         "rawType": "float64",
         "type": "float"
        },
        {
         "name": "Order Date",
         "rawType": "object",
         "type": "string"
        },
        {
         "name": "Purchase Address",
         "rawType": "object",
         "type": "string"
        },
        {
         "name": "Month",
         "rawType": "int64",
         "type": "integer"
        },
        {
         "name": "Chiffre_d'affaire",
         "rawType": "float64",
         "type": "float"
        }
       ],
       "ref": "5457ea3c-c529-415e-8735-e398d46c7ebd",
       "rows": [
        [
         "0",
         "176558",
         "USB-C Charging Cable",
         "2",
         "11.95",
         "04/19/19 08:46",
         "917 1st St, Dallas, TX 75001",
         "4",
         "23.9"
        ],
        [
         "2",
         "176559",
         "Bose SoundSport Headphones",
         "1",
         "99.99",
         "04/07/19 22:30",
         "682 Chestnut St, Boston, MA 02215",
         "4",
         "99.99"
        ],
        [
         "3",
         "176560",
         "Google Phone",
         "1",
         "600.0",
         "04/12/19 14:38",
         "669 Spruce St, Los Angeles, CA 90001",
         "4",
         "600.0"
        ],
        [
         "4",
         "176560",
         "Wired Headphones",
         "1",
         "11.99",
         "04/12/19 14:38",
         "669 Spruce St, Los Angeles, CA 90001",
         "4",
         "11.99"
        ],
        [
         "5",
         "176561",
         "Wired Headphones",
         "1",
         "11.99",
         "04/30/19 09:27",
         "333 8th St, Los Angeles, CA 90001",
         "4",
         "11.99"
        ],
        [
         "6",
         "176562",
         "USB-C Charging Cable",
         "1",
         "11.95",
         "04/29/19 13:03",
         "381 Wilson St, San Francisco, CA 94016",
         "4",
         "11.95"
        ],
        [
         "7",
         "176563",
         "Bose SoundSport Headphones",
         "1",
         "99.99",
         "04/02/19 07:46",
         "668 Center St, Seattle, WA 98101",
         "4",
         "99.99"
        ],
        [
         "8",
         "176564",
         "USB-C Charging Cable",
         "1",
         "11.95",
         "04/12/19 10:58",
         "790 Ridge St, Atlanta, GA 30301",
         "4",
         "11.95"
        ],
        [
         "9",
         "176565",
         "Macbook Pro Laptop",
         "1",
         "1700.0",
         "04/24/19 10:38",
         "915 Willow St, San Francisco, CA 94016",
         "4",
         "1700.0"
        ],
        [
         "10",
         "176566",
         "Wired Headphones",
         "1",
         "11.99",
         "04/08/19 14:05",
         "83 7th St, Boston, MA 02215",
         "4",
         "11.99"
        ],
        [
         "11",
         "176567",
         "Google Phone",
         "1",
         "600.0",
         "04/18/19 17:18",
         "444 7th St, Los Angeles, CA 90001",
         "4",
         "600.0"
        ],
        [
         "12",
         "176568",
         "Lightning Charging Cable",
         "1",
         "14.95",
         "04/15/19 12:18",
         "438 Elm St, Seattle, WA 98101",
         "4",
         "14.95"
        ],
        [
         "13",
         "176569",
         "27in 4K Gaming Monitor",
         "1",
         "389.99",
         "04/16/19 19:23",
         "657 Hill St, Dallas, TX 75001",
         "4",
         "389.99"
        ],
        [
         "14",
         "176570",
         "AA Batteries (4-pack)",
         "1",
         "3.84",
         "04/22/19 15:09",
         "186 12th St, Dallas, TX 75001",
         "4",
         "3.84"
        ],
        [
         "15",
         "176571",
         "Lightning Charging Cable",
         "1",
         "14.95",
         "04/19/19 14:29",
         "253 Johnson St, Atlanta, GA 30301",
         "4",
         "14.95"
        ],
        [
         "16",
         "176572",
         "Apple Airpods Headphones",
         "1",
         "150.0",
         "04/04/19 20:30",
         "149 Dogwood St, New York City, NY 10001",
         "4",
         "150.0"
        ],
        [
         "17",
         "176573",
         "USB-C Charging Cable",
         "1",
         "11.95",
         "04/27/19 18:41",
         "214 Chestnut St, San Francisco, CA 94016",
         "4",
         "11.95"
        ],
        [
         "18",
         "176574",
         "Google Phone",
         "1",
         "600.0",
         "04/03/19 19:42",
         "20 Hill St, Los Angeles, CA 90001",
         "4",
         "600.0"
        ],
        [
         "19",
         "176574",
         "USB-C Charging Cable",
         "1",
         "11.95",
         "04/03/19 19:42",
         "20 Hill St, Los Angeles, CA 90001",
         "4",
         "11.95"
        ],
        [
         "20",
         "176575",
         "AAA Batteries (4-pack)",
         "1",
         "2.99",
         "04/27/19 00:30",
         "433 Hill St, New York City, NY 10001",
         "4",
         "2.99"
        ],
        [
         "21",
         "176576",
         "Apple Airpods Headphones",
         "1",
         "150.0",
         "04/28/19 11:42",
         "771 Ridge St, Los Angeles, CA 90001",
         "4",
         "150.0"
        ],
        [
         "22",
         "176577",
         "Apple Airpods Headphones",
         "1",
         "150.0",
         "04/04/19 19:25",
         "260 Spruce St, Dallas, TX 75001",
         "4",
         "150.0"
        ],
        [
         "23",
         "176578",
         "Apple Airpods Headphones",
         "1",
         "150.0",
         "04/09/19 23:35",
         "513 Church St, Boston, MA 02215",
         "4",
         "150.0"
        ],
        [
         "24",
         "176579",
         "AA Batteries (4-pack)",
         "1",
         "3.84",
         "04/11/19 10:23",
         "886 Jefferson St, New York City, NY 10001",
         "4",
         "3.84"
        ],
        [
         "25",
         "176580",
         "USB-C Charging Cable",
         "1",
         "11.95",
         "04/05/19 00:35",
         "886 Willow St, Los Angeles, CA 90001",
         "4",
         "11.95"
        ],
        [
         "26",
         "176581",
         "iPhone",
         "1",
         "700.0",
         "04/09/19 21:38",
         "84 Jackson St, Boston, MA 02215",
         "4",
         "700.0"
        ],
        [
         "27",
         "176582",
         "Bose SoundSport Headphones",
         "1",
         "99.99",
         "04/27/19 12:20",
         "178 Lincoln St, Atlanta, GA 30301",
         "4",
         "99.99"
        ],
        [
         "28",
         "176583",
         "AAA Batteries (4-pack)",
         "2",
         "2.99",
         "04/20/19 12:00",
         "146 Jackson St, Portland, OR 97035",
         "4",
         "5.98"
        ],
        [
         "29",
         "176584",
         "Flatscreen TV",
         "1",
         "300.0",
         "04/24/19 20:39",
         "936 Church St, San Francisco, CA 94016",
         "4",
         "300.0"
        ],
        [
         "30",
         "176585",
         "Bose SoundSport Headphones",
         "1",
         "99.99",
         "04/07/19 11:31",
         "823 Highland St, Boston, MA 02215",
         "4",
         "99.99"
        ],
        [
         "31",
         "176585",
         "Bose SoundSport Headphones",
         "1",
         "99.99",
         "04/07/19 11:31",
         "823 Highland St, Boston, MA 02215",
         "4",
         "99.99"
        ],
        [
         "32",
         "176586",
         "AAA Batteries (4-pack)",
         "2",
         "2.99",
         "04/10/19 17:00",
         "365 Center St, San Francisco, CA 94016",
         "4",
         "5.98"
        ],
        [
         "33",
         "176586",
         "Google Phone",
         "1",
         "600.0",
         "04/10/19 17:00",
         "365 Center St, San Francisco, CA 94016",
         "4",
         "600.0"
        ],
        [
         "34",
         "176587",
         "27in FHD Monitor",
         "1",
         "149.99",
         "04/29/19 19:38",
         "557 5th St, Los Angeles, CA 90001",
         "4",
         "149.99"
        ],
        [
         "35",
         "176588",
         "20in Monitor",
         "1",
         "109.99",
         "04/02/19 04:00",
         "765 Cherry St, Seattle, WA 98101",
         "4",
         "109.99"
        ],
        [
         "36",
         "176589",
         "Lightning Charging Cable",
         "1",
         "14.95",
         "04/04/19 12:23",
         "846 Highland St, Atlanta, GA 30301",
         "4",
         "14.95"
        ],
        [
         "37",
         "176590",
         "Google Phone",
         "1",
         "600.0",
         "04/11/19 11:46",
         "873 6th St, New York City, NY 10001",
         "4",
         "600.0"
        ],
        [
         "38",
         "176591",
         "Apple Airpods Headphones",
         "1",
         "150.0",
         "04/21/19 07:21",
         "600 Maple St, Austin, TX 73301",
         "4",
         "150.0"
        ],
        [
         "39",
         "176592",
         "USB-C Charging Cable",
         "1",
         "11.95",
         "04/27/19 13:04",
         "352 4th St, Los Angeles, CA 90001",
         "4",
         "11.95"
        ],
        [
         "40",
         "176593",
         "Lightning Charging Cable",
         "2",
         "14.95",
         "04/15/19 13:45",
         "906 7th St, Portland, OR 97035",
         "4",
         "29.9"
        ],
        [
         "41",
         "176594",
         "Wired Headphones",
         "1",
         "11.99",
         "04/17/19 23:04",
         "63 Maple St, San Francisco, CA 94016",
         "4",
         "11.99"
        ],
        [
         "42",
         "176595",
         "Wired Headphones",
         "3",
         "11.99",
         "04/02/19 09:11",
         "383 6th St, Los Angeles, CA 90001",
         "4",
         "35.97"
        ],
        [
         "43",
         "176596",
         "Apple Airpods Headphones",
         "1",
         "150.0",
         "04/27/19 20:11",
         "572 Meadow St, Dallas, TX 75001",
         "4",
         "150.0"
        ],
        [
         "44",
         "176597",
         "USB-C Charging Cable",
         "1",
         "11.95",
         "04/19/19 13:39",
         "681 11th St, San Francisco, CA 94016",
         "4",
         "11.95"
        ],
        [
         "45",
         "176598",
         "AAA Batteries (4-pack)",
         "2",
         "2.99",
         "04/21/19 20:33",
         "294 Park St, San Francisco, CA 94016",
         "4",
         "5.98"
        ],
        [
         "46",
         "176599",
         "Lightning Charging Cable",
         "1",
         "14.95",
         "04/11/19 15:25",
         "279 Maple St, New York City, NY 10001",
         "4",
         "14.95"
        ],
        [
         "47",
         "176600",
         "27in 4K Gaming Monitor",
         "1",
         "389.99",
         "04/30/19 15:54",
         "87 West St, Boston, MA 02215",
         "4",
         "389.99"
        ],
        [
         "48",
         "176601",
         "USB-C Charging Cable",
         "1",
         "11.95",
         "04/02/19 22:32",
         "754 10th St, Los Angeles, CA 90001",
         "4",
         "11.95"
        ],
        [
         "49",
         "176602",
         "Lightning Charging Cable",
         "1",
         "14.95",
         "04/30/19 09:39",
         "9 Jefferson St, Dallas, TX 75001",
         "4",
         "14.95"
        ],
        [
         "50",
         "176603",
         "USB-C Charging Cable",
         "1",
         "11.95",
         "04/01/19 07:46",
         "858 6th St, San Francisco, CA 94016",
         "4",
         "11.95"
        ]
       ],
       "shape": {
        "columns": 8,
        "rows": 185950
       }
      },
      "text/html": [
       "<div>\n",
       "<style scoped>\n",
       "    .dataframe tbody tr th:only-of-type {\n",
       "        vertical-align: middle;\n",
       "    }\n",
       "\n",
       "    .dataframe tbody tr th {\n",
       "        vertical-align: top;\n",
       "    }\n",
       "\n",
       "    .dataframe thead th {\n",
       "        text-align: right;\n",
       "    }\n",
       "</style>\n",
       "<table border=\"1\" class=\"dataframe\">\n",
       "  <thead>\n",
       "    <tr style=\"text-align: right;\">\n",
       "      <th></th>\n",
       "      <th>Order ID</th>\n",
       "      <th>Product</th>\n",
       "      <th>Quantity Ordered</th>\n",
       "      <th>Price Each</th>\n",
       "      <th>Order Date</th>\n",
       "      <th>Purchase Address</th>\n",
       "      <th>Month</th>\n",
       "      <th>Chiffre_d'affaire</th>\n",
       "    </tr>\n",
       "  </thead>\n",
       "  <tbody>\n",
       "    <tr>\n",
       "      <th>0</th>\n",
       "      <td>176558</td>\n",
       "      <td>USB-C Charging Cable</td>\n",
       "      <td>2</td>\n",
       "      <td>11.95</td>\n",
       "      <td>04/19/19 08:46</td>\n",
       "      <td>917 1st St, Dallas, TX 75001</td>\n",
       "      <td>4</td>\n",
       "      <td>23.90</td>\n",
       "    </tr>\n",
       "    <tr>\n",
       "      <th>2</th>\n",
       "      <td>176559</td>\n",
       "      <td>Bose SoundSport Headphones</td>\n",
       "      <td>1</td>\n",
       "      <td>99.99</td>\n",
       "      <td>04/07/19 22:30</td>\n",
       "      <td>682 Chestnut St, Boston, MA 02215</td>\n",
       "      <td>4</td>\n",
       "      <td>99.99</td>\n",
       "    </tr>\n",
       "    <tr>\n",
       "      <th>3</th>\n",
       "      <td>176560</td>\n",
       "      <td>Google Phone</td>\n",
       "      <td>1</td>\n",
       "      <td>600.00</td>\n",
       "      <td>04/12/19 14:38</td>\n",
       "      <td>669 Spruce St, Los Angeles, CA 90001</td>\n",
       "      <td>4</td>\n",
       "      <td>600.00</td>\n",
       "    </tr>\n",
       "    <tr>\n",
       "      <th>4</th>\n",
       "      <td>176560</td>\n",
       "      <td>Wired Headphones</td>\n",
       "      <td>1</td>\n",
       "      <td>11.99</td>\n",
       "      <td>04/12/19 14:38</td>\n",
       "      <td>669 Spruce St, Los Angeles, CA 90001</td>\n",
       "      <td>4</td>\n",
       "      <td>11.99</td>\n",
       "    </tr>\n",
       "    <tr>\n",
       "      <th>5</th>\n",
       "      <td>176561</td>\n",
       "      <td>Wired Headphones</td>\n",
       "      <td>1</td>\n",
       "      <td>11.99</td>\n",
       "      <td>04/30/19 09:27</td>\n",
       "      <td>333 8th St, Los Angeles, CA 90001</td>\n",
       "      <td>4</td>\n",
       "      <td>11.99</td>\n",
       "    </tr>\n",
       "    <tr>\n",
       "      <th>...</th>\n",
       "      <td>...</td>\n",
       "      <td>...</td>\n",
       "      <td>...</td>\n",
       "      <td>...</td>\n",
       "      <td>...</td>\n",
       "      <td>...</td>\n",
       "      <td>...</td>\n",
       "      <td>...</td>\n",
       "    </tr>\n",
       "    <tr>\n",
       "      <th>186845</th>\n",
       "      <td>259353</td>\n",
       "      <td>AAA Batteries (4-pack)</td>\n",
       "      <td>3</td>\n",
       "      <td>2.99</td>\n",
       "      <td>09/17/19 20:56</td>\n",
       "      <td>840 Highland St, Los Angeles, CA 90001</td>\n",
       "      <td>9</td>\n",
       "      <td>8.97</td>\n",
       "    </tr>\n",
       "    <tr>\n",
       "      <th>186846</th>\n",
       "      <td>259354</td>\n",
       "      <td>iPhone</td>\n",
       "      <td>1</td>\n",
       "      <td>700.00</td>\n",
       "      <td>09/01/19 16:00</td>\n",
       "      <td>216 Dogwood St, San Francisco, CA 94016</td>\n",
       "      <td>9</td>\n",
       "      <td>700.00</td>\n",
       "    </tr>\n",
       "    <tr>\n",
       "      <th>186847</th>\n",
       "      <td>259355</td>\n",
       "      <td>iPhone</td>\n",
       "      <td>1</td>\n",
       "      <td>700.00</td>\n",
       "      <td>09/23/19 07:39</td>\n",
       "      <td>220 12th St, San Francisco, CA 94016</td>\n",
       "      <td>9</td>\n",
       "      <td>700.00</td>\n",
       "    </tr>\n",
       "    <tr>\n",
       "      <th>186848</th>\n",
       "      <td>259356</td>\n",
       "      <td>34in Ultrawide Monitor</td>\n",
       "      <td>1</td>\n",
       "      <td>379.99</td>\n",
       "      <td>09/19/19 17:30</td>\n",
       "      <td>511 Forest St, San Francisco, CA 94016</td>\n",
       "      <td>9</td>\n",
       "      <td>379.99</td>\n",
       "    </tr>\n",
       "    <tr>\n",
       "      <th>186849</th>\n",
       "      <td>259357</td>\n",
       "      <td>USB-C Charging Cable</td>\n",
       "      <td>1</td>\n",
       "      <td>11.95</td>\n",
       "      <td>09/30/19 00:18</td>\n",
       "      <td>250 Meadow St, San Francisco, CA 94016</td>\n",
       "      <td>9</td>\n",
       "      <td>11.95</td>\n",
       "    </tr>\n",
       "  </tbody>\n",
       "</table>\n",
       "<p>185950 rows × 8 columns</p>\n",
       "</div>"
      ],
      "text/plain": [
       "       Order ID                     Product  Quantity Ordered  Price Each  \\\n",
       "0        176558        USB-C Charging Cable                 2       11.95   \n",
       "2        176559  Bose SoundSport Headphones                 1       99.99   \n",
       "3        176560                Google Phone                 1      600.00   \n",
       "4        176560            Wired Headphones                 1       11.99   \n",
       "5        176561            Wired Headphones                 1       11.99   \n",
       "...         ...                         ...               ...         ...   \n",
       "186845   259353      AAA Batteries (4-pack)                 3        2.99   \n",
       "186846   259354                      iPhone                 1      700.00   \n",
       "186847   259355                      iPhone                 1      700.00   \n",
       "186848   259356      34in Ultrawide Monitor                 1      379.99   \n",
       "186849   259357        USB-C Charging Cable                 1       11.95   \n",
       "\n",
       "            Order Date                         Purchase Address  Month  \\\n",
       "0       04/19/19 08:46             917 1st St, Dallas, TX 75001      4   \n",
       "2       04/07/19 22:30        682 Chestnut St, Boston, MA 02215      4   \n",
       "3       04/12/19 14:38     669 Spruce St, Los Angeles, CA 90001      4   \n",
       "4       04/12/19 14:38     669 Spruce St, Los Angeles, CA 90001      4   \n",
       "5       04/30/19 09:27        333 8th St, Los Angeles, CA 90001      4   \n",
       "...                ...                                      ...    ...   \n",
       "186845  09/17/19 20:56   840 Highland St, Los Angeles, CA 90001      9   \n",
       "186846  09/01/19 16:00  216 Dogwood St, San Francisco, CA 94016      9   \n",
       "186847  09/23/19 07:39     220 12th St, San Francisco, CA 94016      9   \n",
       "186848  09/19/19 17:30   511 Forest St, San Francisco, CA 94016      9   \n",
       "186849  09/30/19 00:18   250 Meadow St, San Francisco, CA 94016      9   \n",
       "\n",
       "        Chiffre_d'affaire  \n",
       "0                   23.90  \n",
       "2                   99.99  \n",
       "3                  600.00  \n",
       "4                   11.99  \n",
       "5                   11.99  \n",
       "...                   ...  \n",
       "186845               8.97  \n",
       "186846             700.00  \n",
       "186847             700.00  \n",
       "186848             379.99  \n",
       "186849              11.95  \n",
       "\n",
       "[185950 rows x 8 columns]"
      ]
     },
     "execution_count": 144,
     "metadata": {},
     "output_type": "execute_result"
    }
   ],
   "source": [
    "df['Chiffre_d\\'affaire']= df['Quantity Ordered']*df['Price Each']\n",
    "df"
   ]
  },
  {
   "cell_type": "code",
   "execution_count": 145,
   "id": "738a56f3",
   "metadata": {},
   "outputs": [
    {
     "data": {
      "application/vnd.microsoft.datawrangler.viewer.v0+json": {
       "columns": [
        {
         "name": "Month",
         "rawType": "int64",
         "type": "integer"
        },
        {
         "name": "Chiffre_d'affaire",
         "rawType": "float64",
         "type": "float"
        }
       ],
       "ref": "251fb5c7-6338-4beb-938d-14cffb4c0ecd",
       "rows": [
        [
         "1",
         "1822256.73"
        ],
        [
         "2",
         "2202022.42"
        ],
        [
         "3",
         "2807100.38"
        ],
        [
         "4",
         "3390670.24"
        ],
        [
         "5",
         "3152606.75"
        ],
        [
         "6",
         "2577802.2600000002"
        ],
        [
         "7",
         "2647775.7600000002"
        ],
        [
         "8",
         "2244467.88"
        ],
        [
         "9",
         "2097560.13"
        ],
        [
         "10",
         "3736726.88"
        ],
        [
         "11",
         "3199603.2"
        ],
        [
         "12",
         "4613443.34"
        ]
       ],
       "shape": {
        "columns": 1,
        "rows": 12
       }
      },
      "text/plain": [
       "Month\n",
       "1     1822256.73\n",
       "2     2202022.42\n",
       "3     2807100.38\n",
       "4     3390670.24\n",
       "5     3152606.75\n",
       "6     2577802.26\n",
       "7     2647775.76\n",
       "8     2244467.88\n",
       "9     2097560.13\n",
       "10    3736726.88\n",
       "11    3199603.20\n",
       "12    4613443.34\n",
       "Name: Chiffre_d'affaire, dtype: float64"
      ]
     },
     "execution_count": 145,
     "metadata": {},
     "output_type": "execute_result"
    }
   ],
   "source": [
    "df.groupby('Month')['Chiffre_d\\'affaire'].sum()"
   ]
  },
  {
   "cell_type": "code",
   "execution_count": 146,
   "id": "7df69f83",
   "metadata": {},
   "outputs": [
    {
     "data": {
      "text/plain": [
       "<Axes: >"
      ]
     },
     "execution_count": 146,
     "metadata": {},
     "output_type": "execute_result"
    },
    {
     "data": {
      "image/png": "[encoded data removed]",
      "text/plain": [
       "<Figure size 640x480 with 2 Axes>"
      ]
     },
     "metadata": {},
     "output_type": "display_data"
    }
   ],
   "source": [
    "sns.heatmap(df.corr(numeric_only=True), annot= True)"
   ]
  },
  {
   "cell_type": "code",
   "execution_count": 147,
   "id": "2a386501",
   "metadata": {},
   "outputs": [
    {
     "data": {
      "application/vnd.plotly.v1+json": {
       "config": {
        "plotlyServerURL": "https://plot.ly"
       },
       "data": [
        {
         "hovertemplate": "Month=%{marker.color}<br>Chiffre_d'affaire=%{y}<extra></extra>",
         "legendgroup": "",
         "marker": {
          "color": {
           "bdata": "AQIDBAUGBwgJCgsM",
           "dtype": "i1"
          },
          "coloraxis": "coloraxis",
          "pattern": {
           "shape": ""
          }
         },
         "name": "",
         "orientation": "v",
         "showlegend": false,
         "textposition": "auto",
         "type": "bar",
         "x": {
          "bdata": "AQIDBAUGBwgJCgsM",
          "dtype": "i1"
         },
         "xaxis": "x",
         "y": {
          "bdata": "rkfhujDOO0Fcj8I108xAQQrXozCeakVB7FG4HmfeSUEAAABgbw1IQRWuRyHFqkNBFa5H4W8zREEK16PwuR9BQQrXoxDMAEBBCtejcEuCTEGamZmZOWlIQVyPwtVQmVFB",
          "dtype": "f8"
         },
         "yaxis": "y"
        }
       ],
       "layout": {
        "barmode": "relative",
        "coloraxis": {
         "colorbar": {
          "title": {
           "text": "Month"
          }
         },
         "colorscale": [
          [
           0,
           "#0d0887"
          ],
          [
           0.1111111111111111,
           "#46039f"
          ],
          [
           0.2222222222222222,
           "#7201a8"
          ],
          [
           0.3333333333333333,
           "#9c179e"
          ],
          [
           0.4444444444444444,
           "#bd3786"
          ],
          [
           0.5555555555555556,
           "#d8576b"
          ],
          [
           0.6666666666666666,
           "#ed7953"
          ],
          [
           0.7777777777777778,
           "#fb9f3a"
          ],
          [
           0.8888888888888888,
           "#fdca26"
          ],
          [
           1,
           "#f0f921"
          ]
         ]
        },
        "legend": {
         "tracegroupgap": 0
        },
        "template": {
         "data": {
          "bar": [
           {
            "error_x": {
             "color": "#2a3f5f"
            },
            "error_y": {
             "color": "#2a3f5f"
            },
            "marker": {
             "line": {
              "color": "#E5ECF6",
              "width": 0.5
             },
             "pattern": {
              "fillmode": "overlay",
              "size": 10,
              "solidity": 0.2
             }
            },
            "type": "bar"
           }
          ],
          "barpolar": [
           {
            "marker": {
             "line": {
              "color": "#E5ECF6",
              "width": 0.5
             },
             "pattern": {
              "fillmode": "overlay",
              "size": 10,
              "solidity": 0.2
             }
            },
            "type": "barpolar"
           }
          ],
          "carpet": [
           {
            "aaxis": {
             "endlinecolor": "#2a3f5f",
             "gridcolor": "white",
             "linecolor": "white",
             "minorgridcolor": "white",
             "startlinecolor": "#2a3f5f"
            },
            "baxis": {
             "endlinecolor": "#2a3f5f",
             "gridcolor": "white",
             "linecolor": "white",
             "minorgridcolor": "white",
             "startlinecolor": "#2a3f5f"
            },
            "type": "carpet"
           }
          ],
          "choropleth": [
           {
            "colorbar": {
             "outlinewidth": 0,
             "ticks": ""
            },
            "type": "choropleth"
           }
          ],
          "contour": [
           {
            "colorbar": {
             "outlinewidth": 0,
             "ticks": ""
            },
            "colorscale": [
             [
              0,
              "#0d0887"
             ],
             [
              0.1111111111111111,
              "#46039f"
             ],
             [
              0.2222222222222222,
              "#7201a8"
             ],
             [
              0.3333333333333333,
              "#9c179e"
             ],
             [
              0.4444444444444444,
              "#bd3786"
             ],
             [
              0.5555555555555556,
              "#d8576b"
             ],
             [
              0.6666666666666666,
              "#ed7953"
             ],
             [
              0.7777777777777778,
              "#fb9f3a"
             ],
             [
              0.8888888888888888,
              "#fdca26"
             ],
             [
              1,
              "#f0f921"
             ]
            ],
            "type": "contour"
           }
          ],
          "contourcarpet": [
           {
            "colorbar": {
             "outlinewidth": 0,
             "ticks": ""
            },
            "type": "contourcarpet"
           }
          ],
          "heatmap": [
           {
            "colorbar": {
             "outlinewidth": 0,
             "ticks": ""
            },
            "colorscale": [
             [
              0,
              "#0d0887"
             ],
             [
              0.1111111111111111,
              "#46039f"
             ],
             [
              0.2222222222222222,
              "#7201a8"
             ],
             [
              0.3333333333333333,
              "#9c179e"
             ],
             [
              0.4444444444444444,
              "#bd3786"
             ],
             [
              0.5555555555555556,
              "#d8576b"
             ],
             [
              0.6666666666666666,
              "#ed7953"
             ],
             [
              0.7777777777777778,
              "#fb9f3a"
             ],
             [
              0.8888888888888888,
              "#fdca26"
             ],
             [
              1,
              "#f0f921"
             ]
            ],
            "type": "heatmap"
           }
          ],
          "histogram": [
           {
            "marker": {
             "pattern": {
              "fillmode": "overlay",
              "size": 10,
              "solidity": 0.2
             }
            },
            "type": "histogram"
           }
          ],
          "histogram2d": [
           {
            "colorbar": {
             "outlinewidth": 0,
             "ticks": ""
            },
            "colorscale": [
             [
              0,
              "#0d0887"
             ],
             [
              0.1111111111111111,
              "#46039f"
             ],
             [
              0.2222222222222222,
              "#7201a8"
             ],
             [
              0.3333333333333333,
              "#9c179e"
             ],
             [
              0.4444444444444444,
              "#bd3786"
             ],
             [
              0.5555555555555556,
              "#d8576b"
             ],
             [
              0.6666666666666666,
              "#ed7953"
             ],
             [
              0.7777777777777778,
              "#fb9f3a"
             ],
             [
              0.8888888888888888,
              "#fdca26"
             ],
             [
              1,
              "#f0f921"
             ]
            ],
            "type": "histogram2d"
           }
          ],
          "histogram2dcontour": [
           {
            "colorbar": {
             "outlinewidth": 0,
             "ticks": ""
            },
            "colorscale": [
             [
              0,
              "#0d0887"
             ],
             [
              0.1111111111111111,
              "#46039f"
             ],
             [
              0.2222222222222222,
              "#7201a8"
             ],
             [
              0.3333333333333333,
              "#9c179e"
             ],
             [
              0.4444444444444444,
              "#bd3786"
             ],
             [
              0.5555555555555556,
              "#d8576b"
             ],
             [
              0.6666666666666666,
              "#ed7953"
             ],
             [
              0.7777777777777778,
              "#fb9f3a"
             ],
             [
              0.8888888888888888,
              "#fdca26"
             ],
             [
              1,
              "#f0f921"
             ]
            ],
            "type": "histogram2dcontour"
           }
          ],
          "mesh3d": [
           {
            "colorbar": {
             "outlinewidth": 0,
             "ticks": ""
            },
            "type": "mesh3d"
           }
          ],
          "parcoords": [
           {
            "line": {
             "colorbar": {
              "outlinewidth": 0,
              "ticks": ""
             }
            },
            "type": "parcoords"
           }
          ],
          "pie": [
           {
            "automargin": true,
            "type": "pie"
           }
          ],
          "scatter": [
           {
            "fillpattern": {
             "fillmode": "overlay",
             "size": 10,
             "solidity": 0.2
            },
            "type": "scatter"
           }
          ],
          "scatter3d": [
           {
            "line": {
             "colorbar": {
              "outlinewidth": 0,
              "ticks": ""
             }
            },
            "marker": {
             "colorbar": {
              "outlinewidth": 0,
              "ticks": ""
             }
            },
            "type": "scatter3d"
           }
          ],
          "scattercarpet": [
           {
            "marker": {
             "colorbar": {
              "outlinewidth": 0,
              "ticks": ""
             }
            },
            "type": "scattercarpet"
           }
          ],
          "scattergeo": [
           {
            "marker": {
             "colorbar": {
              "outlinewidth": 0,
              "ticks": ""
             }
            },
            "type": "scattergeo"
           }
          ],
          "scattergl": [
           {
            "marker": {
             "colorbar": {
              "outlinewidth": 0,
              "ticks": ""
             }
            },
            "type": "scattergl"
           }
          ],
          "scattermap": [
           {
            "marker": {
             "colorbar": {
              "outlinewidth": 0,
              "ticks": ""
             }
            },
            "type": "scattermap"
           }
          ],
          "scattermapbox": [
           {
            "marker": {
             "colorbar": {
              "outlinewidth": 0,
              "ticks": ""
             }
            },
            "type": "scattermapbox"
           }
          ],
          "scatterpolar": [
           {
            "marker": {
             "colorbar": {
              "outlinewidth": 0,
              "ticks": ""
             }
            },
            "type": "scatterpolar"
           }
          ],
          "scatterpolargl": [
           {
            "marker": {
             "colorbar": {
              "outlinewidth": 0,
              "ticks": ""
             }
            },
            "type": "scatterpolargl"
           }
          ],
          "scatterternary": [
           {
            "marker": {
             "colorbar": {
              "outlinewidth": 0,
              "ticks": ""
             }
            },
            "type": "scatterternary"
           }
          ],
          "surface": [
           {
            "colorbar": {
             "outlinewidth": 0,
             "ticks": ""
            },
            "colorscale": [
             [
              0,
              "#0d0887"
             ],
             [
              0.1111111111111111,
              "#46039f"
             ],
             [
              0.2222222222222222,
              "#7201a8"
             ],
             [
              0.3333333333333333,
              "#9c179e"
             ],
             [
              0.4444444444444444,
              "#bd3786"
             ],
             [
              0.5555555555555556,
              "#d8576b"
             ],
             [
              0.6666666666666666,
              "#ed7953"
             ],
             [
              0.7777777777777778,
              "#fb9f3a"
             ],
             [
              0.8888888888888888,
              "#fdca26"
             ],
             [
              1,
              "#f0f921"
             ]
            ],
            "type": "surface"
           }
          ],
          "table": [
           {
            "cells": {
             "fill": {
              "color": "#EBF0F8"
             },
             "line": {
              "color": "white"
             }
            },
            "header": {
             "fill": {
              "color": "#C8D4E3"
             },
             "line": {
              "color": "white"
             }
            },
            "type": "table"
           }
          ]
         },
         "layout": {
          "annotationdefaults": {
           "arrowcolor": "#2a3f5f",
           "arrowhead": 0,
           "arrowwidth": 1
          },
          "autotypenumbers": "strict",
          "coloraxis": {
           "colorbar": {
            "outlinewidth": 0,
            "ticks": ""
           }
          },
          "colorscale": {
           "diverging": [
            [
             0,
             "#8e0152"
            ],
            [
             0.1,
             "#c51b7d"
            ],
            [
             0.2,
             "#de77ae"
            ],
            [
             0.3,
             "#f1b6da"
            ],
            [
             0.4,
             "#fde0ef"
            ],
            [
             0.5,
             "#f7f7f7"
            ],
            [
             0.6,
             "#e6f5d0"
            ],
            [
             0.7,
             "#b8e186"
            ],
            [
             0.8,
             "#7fbc41"
            ],
            [
             0.9,
             "#4d9221"
            ],
            [
             1,
             "#276419"
            ]
           ],
           "sequential": [
            [
             0,
             "#0d0887"
            ],
            [
             0.1111111111111111,
             "#46039f"
            ],
            [
             0.2222222222222222,
             "#7201a8"
            ],
            [
             0.3333333333333333,
             "#9c179e"
            ],
            [
             0.4444444444444444,
             "#bd3786"
            ],
            [
             0.5555555555555556,
             "#d8576b"
            ],
            [
             0.6666666666666666,
             "#ed7953"
            ],
            [
             0.7777777777777778,
             "#fb9f3a"
            ],
            [
             0.8888888888888888,
             "#fdca26"
            ],
            [
             1,
             "#f0f921"
            ]
           ],
           "sequentialminus": [
            [
             0,
             "#0d0887"
            ],
            [
             0.1111111111111111,
             "#46039f"
            ],
            [
             0.2222222222222222,
             "#7201a8"
            ],
            [
             0.3333333333333333,
             "#9c179e"
            ],
            [
             0.4444444444444444,
             "#bd3786"
            ],
            [
             0.5555555555555556,
             "#d8576b"
            ],
            [
             0.6666666666666666,
             "#ed7953"
            ],
            [
             0.7777777777777778,
             "#fb9f3a"
            ],
            [
             0.8888888888888888,
             "#fdca26"
            ],
            [
             1,
             "#f0f921"
            ]
           ]
          },
          "colorway": [
           "#636efa",
           "#EF553B",
           "#00cc96",
           "#ab63fa",
           "#FFA15A",
           "#19d3f3",
           "#FF6692",
           "#B6E880",
           "#FF97FF",
           "#FECB52"
          ],
          "font": {
           "color": "#2a3f5f"
          },
          "geo": {
           "bgcolor": "white",
           "lakecolor": "white",
           "landcolor": "#E5ECF6",
           "showlakes": true,
           "showland": true,
           "subunitcolor": "white"
          },
          "hoverlabel": {
           "align": "left"
          },
          "hovermode": "closest",
          "mapbox": {
           "style": "light"
          },
          "paper_bgcolor": "white",
          "plot_bgcolor": "#E5ECF6",
          "polar": {
           "angularaxis": {
            "gridcolor": "white",
            "linecolor": "white",
            "ticks": ""
           },
           "bgcolor": "#E5ECF6",
           "radialaxis": {
            "gridcolor": "white",
            "linecolor": "white",
            "ticks": ""
           }
          },
          "scene": {
           "xaxis": {
            "backgroundcolor": "#E5ECF6",
            "gridcolor": "white",
            "gridwidth": 2,
            "linecolor": "white",
            "showbackground": true,
            "ticks": "",
            "zerolinecolor": "white"
           },
           "yaxis": {
            "backgroundcolor": "#E5ECF6",
            "gridcolor": "white",
            "gridwidth": 2,
            "linecolor": "white",
            "showbackground": true,
            "ticks": "",
            "zerolinecolor": "white"
           },
           "zaxis": {
            "backgroundcolor": "#E5ECF6",
            "gridcolor": "white",
            "gridwidth": 2,
            "linecolor": "white",
            "showbackground": true,
            "ticks": "",
            "zerolinecolor": "white"
           }
          },
          "shapedefaults": {
           "line": {
            "color": "#2a3f5f"
           }
          },
          "ternary": {
           "aaxis": {
            "gridcolor": "white",
            "linecolor": "white",
            "ticks": ""
           },
           "baxis": {
            "gridcolor": "white",
            "linecolor": "white",
            "ticks": ""
           },
           "bgcolor": "#E5ECF6",
           "caxis": {
            "gridcolor": "white",
            "linecolor": "white",
            "ticks": ""
           }
          },
          "title": {
           "x": 0.05
          },
          "xaxis": {
           "automargin": true,
           "gridcolor": "white",
           "linecolor": "white",
           "ticks": "",
           "title": {
            "standoff": 15
           },
           "zerolinecolor": "white",
           "zerolinewidth": 2
          },
          "yaxis": {
           "automargin": true,
           "gridcolor": "white",
           "linecolor": "white",
           "ticks": "",
           "title": {
            "standoff": 15
           },
           "zerolinecolor": "white",
           "zerolinewidth": 2
          }
         }
        },
        "title": {
         "text": "Le chiffre d'affaire en fonction des mois"
        },
        "xaxis": {
         "anchor": "y",
         "domain": [
          0,
          1
         ],
         "title": {
          "text": "Month"
         }
        },
        "yaxis": {
         "anchor": "x",
         "domain": [
          0,
          1
         ],
         "title": {
          "text": "Chiffre_d'affaire"
         }
        }
       }
      }
     },
     "metadata": {},
     "output_type": "display_data"
    }
   ],
   "source": [
    "# Calculer le chiffre d'affaire par mois puis tracer\n",
    "monthly_sales = df.groupby('Month')[\"Chiffre_d'affaire\"].sum().reset_index().sort_values('Month')\n",
    "fig1 = px.bar(monthly_sales, x='Month', y=\"Chiffre_d'affaire\",\n",
    "       title=\"Le chiffre d'affaire en fonction des mois\",\n",
    "       color='Month')\n",
    "fig1.show()"
   ]
  },
  {
   "cell_type": "code",
   "execution_count": 148,
   "id": "588cef20",
   "metadata": {},
   "outputs": [
    {
     "data": {
      "application/vnd.plotly.v1+json": {
       "config": {
        "plotlyServerURL": "https://plot.ly"
       },
       "data": [
        {
         "name": "Barres",
         "type": "bar",
         "x": {
          "bdata": "AQIDBAUGBwgJCgsM",
          "dtype": "i1"
         },
         "xaxis": "x",
         "y": {
          "bdata": "rkfhujDOO0Fcj8I108xAQQrXozCeakVB7FG4HmfeSUEAAABgbw1IQRWuRyHFqkNBFa5H4W8zREEK16PwuR9BQQrXoxDMAEBBCtejcEuCTEGamZmZOWlIQVyPwtVQmVFB",
          "dtype": "f8"
         },
         "yaxis": "y"
        },
        {
         "mode": "lines+markers",
         "name": "Ligne",
         "type": "scatter",
         "x": {
          "bdata": "AQIDBAUGBwgJCgsM",
          "dtype": "i1"
         },
         "xaxis": "x2",
         "y": {
          "bdata": "rkfhujDOO0Fcj8I108xAQQrXozCeakVB7FG4HmfeSUEAAABgbw1IQRWuRyHFqkNBFa5H4W8zREEK16PwuR9BQQrXoxDMAEBBCtejcEuCTEGamZmZOWlIQVyPwtVQmVFB",
          "dtype": "f8"
         },
         "yaxis": "y2"
        }
       ],
       "layout": {
        "annotations": [
         {
          "font": {
           "size": 16
          },
          "showarrow": false,
          "text": "Graphique en barres",
          "x": 0.5,
          "xanchor": "center",
          "xref": "paper",
          "y": 1,
          "yanchor": "bottom",
          "yref": "paper"
         },
         {
          "font": {
           "size": 16
          },
          "showarrow": false,
          "text": "Graphique en ligne",
          "x": 0.5,
          "xanchor": "center",
          "xref": "paper",
          "y": 0.375,
          "yanchor": "bottom",
          "yref": "paper"
         }
        ],
        "height": 800,
        "template": {
         "data": {
          "bar": [
           {
            "error_x": {
             "color": "#2a3f5f"
            },
            "error_y": {
             "color": "#2a3f5f"
            },
            "marker": {
             "line": {
              "color": "#E5ECF6",
              "width": 0.5
             },
             "pattern": {
              "fillmode": "overlay",
              "size": 10,
              "solidity": 0.2
             }
            },
            "type": "bar"
           }
          ],
          "barpolar": [
           {
            "marker": {
             "line": {
              "color": "#E5ECF6",
              "width": 0.5
             },
             "pattern": {
              "fillmode": "overlay",
              "size": 10,
              "solidity": 0.2
             }
            },
            "type": "barpolar"
           }
          ],
          "carpet": [
           {
            "aaxis": {
             "endlinecolor": "#2a3f5f",
             "gridcolor": "white",
             "linecolor": "white",
             "minorgridcolor": "white",
             "startlinecolor": "#2a3f5f"
            },
            "baxis": {
             "endlinecolor": "#2a3f5f",
             "gridcolor": "white",
             "linecolor": "white",
             "minorgridcolor": "white",
             "startlinecolor": "#2a3f5f"
            },
            "type": "carpet"
           }
          ],
          "choropleth": [
           {
            "colorbar": {
             "outlinewidth": 0,
             "ticks": ""
            },
            "type": "choropleth"
           }
          ],
          "contour": [
           {
            "colorbar": {
             "outlinewidth": 0,
             "ticks": ""
            },
            "colorscale": [
             [
              0,
              "#0d0887"
             ],
             [
              0.1111111111111111,
              "#46039f"
             ],
             [
              0.2222222222222222,
              "#7201a8"
             ],
             [
              0.3333333333333333,
              "#9c179e"
             ],
             [
              0.4444444444444444,
              "#bd3786"
             ],
             [
              0.5555555555555556,
              "#d8576b"
             ],
             [
              0.6666666666666666,
              "#ed7953"
             ],
             [
              0.7777777777777778,
              "#fb9f3a"
             ],
             [
              0.8888888888888888,
              "#fdca26"
             ],
             [
              1,
              "#f0f921"
             ]
            ],
            "type": "contour"
           }
          ],
          "contourcarpet": [
           {
            "colorbar": {
             "outlinewidth": 0,
             "ticks": ""
            },
            "type": "contourcarpet"
           }
          ],
          "heatmap": [
           {
            "colorbar": {
             "outlinewidth": 0,
             "ticks": ""
            },
            "colorscale": [
             [
              0,
              "#0d0887"
             ],
             [
              0.1111111111111111,
              "#46039f"
             ],
             [
              0.2222222222222222,
              "#7201a8"
             ],
             [
              0.3333333333333333,
              "#9c179e"
             ],
             [
              0.4444444444444444,
              "#bd3786"
             ],
             [
              0.5555555555555556,
              "#d8576b"
             ],
             [
              0.6666666666666666,
              "#ed7953"
             ],
             [
              0.7777777777777778,
              "#fb9f3a"
             ],
             [
              0.8888888888888888,
              "#fdca26"
             ],
             [
              1,
              "#f0f921"
             ]
            ],
            "type": "heatmap"
           }
          ],
          "histogram": [
           {
            "marker": {
             "pattern": {
              "fillmode": "overlay",
              "size": 10,
              "solidity": 0.2
             }
            },
            "type": "histogram"
           }
          ],
          "histogram2d": [
           {
            "colorbar": {
             "outlinewidth": 0,
             "ticks": ""
            },
            "colorscale": [
             [
              0,
              "#0d0887"
             ],
             [
              0.1111111111111111,
              "#46039f"
             ],
             [
              0.2222222222222222,
              "#7201a8"
             ],
             [
              0.3333333333333333,
              "#9c179e"
             ],
             [
              0.4444444444444444,
              "#bd3786"
             ],
             [
              0.5555555555555556,
              "#d8576b"
             ],
             [
              0.6666666666666666,
              "#ed7953"
             ],
             [
              0.7777777777777778,
              "#fb9f3a"
             ],
             [
              0.8888888888888888,
              "#fdca26"
             ],
             [
              1,
              "#f0f921"
             ]
            ],
            "type": "histogram2d"
           }
          ],
          "histogram2dcontour": [
           {
            "colorbar": {
             "outlinewidth": 0,
             "ticks": ""
            },
            "colorscale": [
             [
              0,
              "#0d0887"
             ],
             [
              0.1111111111111111,
              "#46039f"
             ],
             [
              0.2222222222222222,
              "#7201a8"
             ],
             [
              0.3333333333333333,
              "#9c179e"
             ],
             [
              0.4444444444444444,
              "#bd3786"
             ],
             [
              0.5555555555555556,
              "#d8576b"
             ],
             [
              0.6666666666666666,
              "#ed7953"
             ],
             [
              0.7777777777777778,
              "#fb9f3a"
             ],
             [
              0.8888888888888888,
              "#fdca26"
             ],
             [
              1,
              "#f0f921"
             ]
            ],
            "type": "histogram2dcontour"
           }
          ],
          "mesh3d": [
           {
            "colorbar": {
             "outlinewidth": 0,
             "ticks": ""
            },
            "type": "mesh3d"
           }
          ],
          "parcoords": [
           {
            "line": {
             "colorbar": {
              "outlinewidth": 0,
              "ticks": ""
             }
            },
            "type": "parcoords"
           }
          ],
          "pie": [
           {
            "automargin": true,
            "type": "pie"
           }
          ],
          "scatter": [
           {
            "fillpattern": {
             "fillmode": "overlay",
             "size": 10,
             "solidity": 0.2
            },
            "type": "scatter"
           }
          ],
          "scatter3d": [
           {
            "line": {
             "colorbar": {
              "outlinewidth": 0,
              "ticks": ""
             }
            },
            "marker": {
             "colorbar": {
              "outlinewidth": 0,
              "ticks": ""
             }
            },
            "type": "scatter3d"
           }
          ],
          "scattercarpet": [
           {
            "marker": {
             "colorbar": {
              "outlinewidth": 0,
              "ticks": ""
             }
            },
            "type": "scattercarpet"
           }
          ],
          "scattergeo": [
           {
            "marker": {
             "colorbar": {
              "outlinewidth": 0,
              "ticks": ""
             }
            },
            "type": "scattergeo"
           }
          ],
          "scattergl": [
           {
            "marker": {
             "colorbar": {
              "outlinewidth": 0,
              "ticks": ""
             }
            },
            "type": "scattergl"
           }
          ],
          "scattermap": [
           {
            "marker": {
             "colorbar": {
              "outlinewidth": 0,
              "ticks": ""
             }
            },
            "type": "scattermap"
           }
          ],
          "scattermapbox": [
           {
            "marker": {
             "colorbar": {
              "outlinewidth": 0,
              "ticks": ""
             }
            },
            "type": "scattermapbox"
           }
          ],
          "scatterpolar": [
           {
            "marker": {
             "colorbar": {
              "outlinewidth": 0,
              "ticks": ""
             }
            },
            "type": "scatterpolar"
           }
          ],
          "scatterpolargl": [
           {
            "marker": {
             "colorbar": {
              "outlinewidth": 0,
              "ticks": ""
             }
            },
            "type": "scatterpolargl"
           }
          ],
          "scatterternary": [
           {
            "marker": {
             "colorbar": {
              "outlinewidth": 0,
              "ticks": ""
             }
            },
            "type": "scatterternary"
           }
          ],
          "surface": [
           {
            "colorbar": {
             "outlinewidth": 0,
             "ticks": ""
            },
            "colorscale": [
             [
              0,
              "#0d0887"
             ],
             [
              0.1111111111111111,
              "#46039f"
             ],
             [
              0.2222222222222222,
              "#7201a8"
             ],
             [
              0.3333333333333333,
              "#9c179e"
             ],
             [
              0.4444444444444444,
              "#bd3786"
             ],
             [
              0.5555555555555556,
              "#d8576b"
             ],
             [
              0.6666666666666666,
              "#ed7953"
             ],
             [
              0.7777777777777778,
              "#fb9f3a"
             ],
             [
              0.8888888888888888,
              "#fdca26"
             ],
             [
              1,
              "#f0f921"
             ]
            ],
            "type": "surface"
           }
          ],
          "table": [
           {
            "cells": {
             "fill": {
              "color": "#EBF0F8"
             },
             "line": {
              "color": "white"
             }
            },
            "header": {
             "fill": {
              "color": "#C8D4E3"
             },
             "line": {
              "color": "white"
             }
            },
            "type": "table"
           }
          ]
         },
         "layout": {
          "annotationdefaults": {
           "arrowcolor": "#2a3f5f",
           "arrowhead": 0,
           "arrowwidth": 1
          },
          "autotypenumbers": "strict",
          "coloraxis": {
           "colorbar": {
            "outlinewidth": 0,
            "ticks": ""
           }
          },
          "colorscale": {
           "diverging": [
            [
             0,
             "#8e0152"
            ],
            [
             0.1,
             "#c51b7d"
            ],
            [
             0.2,
             "#de77ae"
            ],
            [
             0.3,
             "#f1b6da"
            ],
            [
             0.4,
             "#fde0ef"
            ],
            [
             0.5,
             "#f7f7f7"
            ],
            [
             0.6,
             "#e6f5d0"
            ],
            [
             0.7,
             "#b8e186"
            ],
            [
             0.8,
             "#7fbc41"
            ],
            [
             0.9,
             "#4d9221"
            ],
            [
             1,
             "#276419"
            ]
           ],
           "sequential": [
            [
             0,
             "#0d0887"
            ],
            [
             0.1111111111111111,
             "#46039f"
            ],
            [
             0.2222222222222222,
             "#7201a8"
            ],
            [
             0.3333333333333333,
             "#9c179e"
            ],
            [
             0.4444444444444444,
             "#bd3786"
            ],
            [
             0.5555555555555556,
             "#d8576b"
            ],
            [
             0.6666666666666666,
             "#ed7953"
            ],
            [
             0.7777777777777778,
             "#fb9f3a"
            ],
            [
             0.8888888888888888,
             "#fdca26"
            ],
            [
             1,
             "#f0f921"
            ]
           ],
           "sequentialminus": [
            [
             0,
             "#0d0887"
            ],
            [
             0.1111111111111111,
             "#46039f"
            ],
            [
             0.2222222222222222,
             "#7201a8"
            ],
            [
             0.3333333333333333,
             "#9c179e"
            ],
            [
             0.4444444444444444,
             "#bd3786"
            ],
            [
             0.5555555555555556,
             "#d8576b"
            ],
            [
             0.6666666666666666,
             "#ed7953"
            ],
            [
             0.7777777777777778,
             "#fb9f3a"
            ],
            [
             0.8888888888888888,
             "#fdca26"
            ],
            [
             1,
             "#f0f921"
            ]
           ]
          },
          "colorway": [
           "#636efa",
           "#EF553B",
           "#00cc96",
           "#ab63fa",
           "#FFA15A",
           "#19d3f3",
           "#FF6692",
           "#B6E880",
           "#FF97FF",
           "#FECB52"
          ],
          "font": {
           "color": "#2a3f5f"
          },
          "geo": {
           "bgcolor": "white",
           "lakecolor": "white",
           "landcolor": "#E5ECF6",
           "showlakes": true,
           "showland": true,
           "subunitcolor": "white"
          },
          "hoverlabel": {
           "align": "left"
          },
          "hovermode": "closest",
          "mapbox": {
           "style": "light"
          },
          "paper_bgcolor": "white",
          "plot_bgcolor": "#E5ECF6",
          "polar": {
           "angularaxis": {
            "gridcolor": "white",
            "linecolor": "white",
            "ticks": ""
           },
           "bgcolor": "#E5ECF6",
           "radialaxis": {
            "gridcolor": "white",
            "linecolor": "white",
            "ticks": ""
           }
          },
          "scene": {
           "xaxis": {
            "backgroundcolor": "#E5ECF6",
            "gridcolor": "white",
            "gridwidth": 2,
            "linecolor": "white",
            "showbackground": true,
            "ticks": "",
            "zerolinecolor": "white"
           },
           "yaxis": {
            "backgroundcolor": "#E5ECF6",
            "gridcolor": "white",
            "gridwidth": 2,
            "linecolor": "white",
            "showbackground": true,
            "ticks": "",
            "zerolinecolor": "white"
           },
           "zaxis": {
            "backgroundcolor": "#E5ECF6",
            "gridcolor": "white",
            "gridwidth": 2,
            "linecolor": "white",
            "showbackground": true,
            "ticks": "",
            "zerolinecolor": "white"
           }
          },
          "shapedefaults": {
           "line": {
            "color": "#2a3f5f"
           }
          },
          "ternary": {
           "aaxis": {
            "gridcolor": "white",
            "linecolor": "white",
            "ticks": ""
           },
           "baxis": {
            "gridcolor": "white",
            "linecolor": "white",
            "ticks": ""
           },
           "bgcolor": "#E5ECF6",
           "caxis": {
            "gridcolor": "white",
            "linecolor": "white",
            "ticks": ""
           }
          },
          "title": {
           "x": 0.05
          },
          "xaxis": {
           "automargin": true,
           "gridcolor": "white",
           "linecolor": "white",
           "ticks": "",
           "title": {
            "standoff": 15
           },
           "zerolinecolor": "white",
           "zerolinewidth": 2
          },
          "yaxis": {
           "automargin": true,
           "gridcolor": "white",
           "linecolor": "white",
           "ticks": "",
           "title": {
            "standoff": 15
           },
           "zerolinecolor": "white",
           "zerolinewidth": 2
          }
         }
        },
        "title": {
         "text": "Chiffre d'affaire mensuel - Comparaison des visualisations"
        },
        "xaxis": {
         "anchor": "y",
         "domain": [
          0,
          1
         ]
        },
        "xaxis2": {
         "anchor": "y2",
         "domain": [
          0,
          1
         ]
        },
        "yaxis": {
         "anchor": "x",
         "domain": [
          0.625,
          1
         ]
        },
        "yaxis2": {
         "anchor": "x2",
         "domain": [
          0,
          0.375
         ]
        }
       }
      }
     },
     "metadata": {},
     "output_type": "display_data"
    }
   ],
   "source": [
    "# Créer une figure avec deux sous-graphiques\n",
    "fig = make_subplots(rows=2, cols=1, subplot_titles=(\"Graphique en barres\", \"Graphique en ligne\"))\n",
    "\n",
    "# Ajouter le graphique en barres\n",
    "fig.add_trace(\n",
    "    go.Bar(x=monthly_sales['Month'], y=monthly_sales[\"Chiffre_d'affaire\"], name=\"Barres\"),\n",
    "    row=1, col=1\n",
    ")\n",
    "\n",
    "# Ajouter le graphique en ligne\n",
    "fig.add_trace(\n",
    "    go.Scatter(x=monthly_sales['Month'], y=monthly_sales[\"Chiffre_d'affaire\"], \n",
    "              mode='lines+markers', name=\"Ligne\"),\n",
    "    row=2, col=1\n",
    ")\n",
    "\n",
    "# Mise à jour du layout\n",
    "fig.update_layout(height=800, title_text=\"Chiffre d'affaire mensuel - Comparaison des visualisations\")\n",
    "fig.show()"
   ]
  },
  {
   "cell_type": "markdown",
   "id": "122b0a3e",
   "metadata": {},
   "source": [
    "## Interprétation\n",
    "#### Analyse des tendances\n",
    "Points clés :\n",
    "- Le pic de ventes se situe en décembre (mois 12) avec le chiffre d'affaires le plus élevé\n",
    "- Le point le plus bas est en janvier (mois 1)\n",
    "On observe une tendance générale à la hausse au fil de l'année\n",
    "#### Tendances saisonnières :\n",
    "- Premier trimestre (1-3) : Démarrage faible avec une légère hausse\n",
    "- Deuxième trimestre (4-6) : Stabilisation des ventes\n",
    "- Troisième trimestre (7-9) : Légère diminution progressive\n",
    "- Quatrième trimestre (10-12) : Forte croissance culminant en décembre\n",
    "#### Insights :\n",
    "La période des fêtes de fin d'année (décembre) génère clairement les meilleures performances\n",
    "Il y a une saisonnalité marquée avec des ventes plus faibles en début d'année\n",
    "Les ventes semblent suivre un cycle avec une progression graduelle jusqu'au pic de décembre"
   ]
  },
  {
   "cell_type": "markdown",
   "id": "c6c6d2d1",
   "metadata": {},
   "source": [
    "# Dans quelle ville nous avons enregistré un maximum de commandes ?"
   ]
  },
  {
   "cell_type": "code",
   "execution_count": 149,
   "id": "6146f6c2",
   "metadata": {},
   "outputs": [
    {
     "data": {
      "application/vnd.microsoft.datawrangler.viewer.v0+json": {
       "columns": [
        {
         "name": "index",
         "rawType": "int64",
         "type": "integer"
        },
        {
         "name": "Order ID",
         "rawType": "object",
         "type": "string"
        },
        {
         "name": "Product",
         "rawType": "object",
         "type": "string"
        },
        {
         "name": "Quantity Ordered",
         "rawType": "int64",
         "type": "integer"
        },
        {
         "name": "Price Each",
         "rawType": "float64",
         "type": "float"
        },
        {
         "name": "Order Date",
         "rawType": "object",
         "type": "string"
        },
        {
         "name": "Purchase Address",
         "rawType": "object",
         "type": "string"
        },
        {
         "name": "Month",
         "rawType": "int64",
         "type": "integer"
        },
        {
         "name": "Chiffre_d'affaire",
         "rawType": "float64",
         "type": "float"
        }
       ],
       "ref": "dd4ae2de-4c09-439b-bc8a-6a1f286c22da",
       "rows": [
        [
         "0",
         "176558",
         "USB-C Charging Cable",
         "2",
         "11.95",
         "04/19/19 08:46",
         "917 1st St, Dallas, TX 75001",
         "4",
         "23.9"
        ],
        [
         "2",
         "176559",
         "Bose SoundSport Headphones",
         "1",
         "99.99",
         "04/07/19 22:30",
         "682 Chestnut St, Boston, MA 02215",
         "4",
         "99.99"
        ],
        [
         "3",
         "176560",
         "Google Phone",
         "1",
         "600.0",
         "04/12/19 14:38",
         "669 Spruce St, Los Angeles, CA 90001",
         "4",
         "600.0"
        ],
        [
         "4",
         "176560",
         "Wired Headphones",
         "1",
         "11.99",
         "04/12/19 14:38",
         "669 Spruce St, Los Angeles, CA 90001",
         "4",
         "11.99"
        ],
        [
         "5",
         "176561",
         "Wired Headphones",
         "1",
         "11.99",
         "04/30/19 09:27",
         "333 8th St, Los Angeles, CA 90001",
         "4",
         "11.99"
        ],
        [
         "6",
         "176562",
         "USB-C Charging Cable",
         "1",
         "11.95",
         "04/29/19 13:03",
         "381 Wilson St, San Francisco, CA 94016",
         "4",
         "11.95"
        ],
        [
         "7",
         "176563",
         "Bose SoundSport Headphones",
         "1",
         "99.99",
         "04/02/19 07:46",
         "668 Center St, Seattle, WA 98101",
         "4",
         "99.99"
        ],
        [
         "8",
         "176564",
         "USB-C Charging Cable",
         "1",
         "11.95",
         "04/12/19 10:58",
         "790 Ridge St, Atlanta, GA 30301",
         "4",
         "11.95"
        ],
        [
         "9",
         "176565",
         "Macbook Pro Laptop",
         "1",
         "1700.0",
         "04/24/19 10:38",
         "915 Willow St, San Francisco, CA 94016",
         "4",
         "1700.0"
        ],
        [
         "10",
         "176566",
         "Wired Headphones",
         "1",
         "11.99",
         "04/08/19 14:05",
         "83 7th St, Boston, MA 02215",
         "4",
         "11.99"
        ],
        [
         "11",
         "176567",
         "Google Phone",
         "1",
         "600.0",
         "04/18/19 17:18",
         "444 7th St, Los Angeles, CA 90001",
         "4",
         "600.0"
        ],
        [
         "12",
         "176568",
         "Lightning Charging Cable",
         "1",
         "14.95",
         "04/15/19 12:18",
         "438 Elm St, Seattle, WA 98101",
         "4",
         "14.95"
        ],
        [
         "13",
         "176569",
         "27in 4K Gaming Monitor",
         "1",
         "389.99",
         "04/16/19 19:23",
         "657 Hill St, Dallas, TX 75001",
         "4",
         "389.99"
        ],
        [
         "14",
         "176570",
         "AA Batteries (4-pack)",
         "1",
         "3.84",
         "04/22/19 15:09",
         "186 12th St, Dallas, TX 75001",
         "4",
         "3.84"
        ],
        [
         "15",
         "176571",
         "Lightning Charging Cable",
         "1",
         "14.95",
         "04/19/19 14:29",
         "253 Johnson St, Atlanta, GA 30301",
         "4",
         "14.95"
        ],
        [
         "16",
         "176572",
         "Apple Airpods Headphones",
         "1",
         "150.0",
         "04/04/19 20:30",
         "149 Dogwood St, New York City, NY 10001",
         "4",
         "150.0"
        ],
        [
         "17",
         "176573",
         "USB-C Charging Cable",
         "1",
         "11.95",
         "04/27/19 18:41",
         "214 Chestnut St, San Francisco, CA 94016",
         "4",
         "11.95"
        ],
        [
         "18",
         "176574",
         "Google Phone",
         "1",
         "600.0",
         "04/03/19 19:42",
         "20 Hill St, Los Angeles, CA 90001",
         "4",
         "600.0"
        ],
        [
         "19",
         "176574",
         "USB-C Charging Cable",
         "1",
         "11.95",
         "04/03/19 19:42",
         "20 Hill St, Los Angeles, CA 90001",
         "4",
         "11.95"
        ],
        [
         "20",
         "176575",
         "AAA Batteries (4-pack)",
         "1",
         "2.99",
         "04/27/19 00:30",
         "433 Hill St, New York City, NY 10001",
         "4",
         "2.99"
        ],
        [
         "21",
         "176576",
         "Apple Airpods Headphones",
         "1",
         "150.0",
         "04/28/19 11:42",
         "771 Ridge St, Los Angeles, CA 90001",
         "4",
         "150.0"
        ],
        [
         "22",
         "176577",
         "Apple Airpods Headphones",
         "1",
         "150.0",
         "04/04/19 19:25",
         "260 Spruce St, Dallas, TX 75001",
         "4",
         "150.0"
        ],
        [
         "23",
         "176578",
         "Apple Airpods Headphones",
         "1",
         "150.0",
         "04/09/19 23:35",
         "513 Church St, Boston, MA 02215",
         "4",
         "150.0"
        ],
        [
         "24",
         "176579",
         "AA Batteries (4-pack)",
         "1",
         "3.84",
         "04/11/19 10:23",
         "886 Jefferson St, New York City, NY 10001",
         "4",
         "3.84"
        ],
        [
         "25",
         "176580",
         "USB-C Charging Cable",
         "1",
         "11.95",
         "04/05/19 00:35",
         "886 Willow St, Los Angeles, CA 90001",
         "4",
         "11.95"
        ],
        [
         "26",
         "176581",
         "iPhone",
         "1",
         "700.0",
         "04/09/19 21:38",
         "84 Jackson St, Boston, MA 02215",
         "4",
         "700.0"
        ],
        [
         "27",
         "176582",
         "Bose SoundSport Headphones",
         "1",
         "99.99",
         "04/27/19 12:20",
         "178 Lincoln St, Atlanta, GA 30301",
         "4",
         "99.99"
        ],
        [
         "28",
         "176583",
         "AAA Batteries (4-pack)",
         "2",
         "2.99",
         "04/20/19 12:00",
         "146 Jackson St, Portland, OR 97035",
         "4",
         "5.98"
        ],
        [
         "29",
         "176584",
         "Flatscreen TV",
         "1",
         "300.0",
         "04/24/19 20:39",
         "936 Church St, San Francisco, CA 94016",
         "4",
         "300.0"
        ],
        [
         "30",
         "176585",
         "Bose SoundSport Headphones",
         "1",
         "99.99",
         "04/07/19 11:31",
         "823 Highland St, Boston, MA 02215",
         "4",
         "99.99"
        ],
        [
         "31",
         "176585",
         "Bose SoundSport Headphones",
         "1",
         "99.99",
         "04/07/19 11:31",
         "823 Highland St, Boston, MA 02215",
         "4",
         "99.99"
        ],
        [
         "32",
         "176586",
         "AAA Batteries (4-pack)",
         "2",
         "2.99",
         "04/10/19 17:00",
         "365 Center St, San Francisco, CA 94016",
         "4",
         "5.98"
        ],
        [
         "33",
         "176586",
         "Google Phone",
         "1",
         "600.0",
         "04/10/19 17:00",
         "365 Center St, San Francisco, CA 94016",
         "4",
         "600.0"
        ],
        [
         "34",
         "176587",
         "27in FHD Monitor",
         "1",
         "149.99",
         "04/29/19 19:38",
         "557 5th St, Los Angeles, CA 90001",
         "4",
         "149.99"
        ],
        [
         "35",
         "176588",
         "20in Monitor",
         "1",
         "109.99",
         "04/02/19 04:00",
         "765 Cherry St, Seattle, WA 98101",
         "4",
         "109.99"
        ],
        [
         "36",
         "176589",
         "Lightning Charging Cable",
         "1",
         "14.95",
         "04/04/19 12:23",
         "846 Highland St, Atlanta, GA 30301",
         "4",
         "14.95"
        ],
        [
         "37",
         "176590",
         "Google Phone",
         "1",
         "600.0",
         "04/11/19 11:46",
         "873 6th St, New York City, NY 10001",
         "4",
         "600.0"
        ],
        [
         "38",
         "176591",
         "Apple Airpods Headphones",
         "1",
         "150.0",
         "04/21/19 07:21",
         "600 Maple St, Austin, TX 73301",
         "4",
         "150.0"
        ],
        [
         "39",
         "176592",
         "USB-C Charging Cable",
         "1",
         "11.95",
         "04/27/19 13:04",
         "352 4th St, Los Angeles, CA 90001",
         "4",
         "11.95"
        ],
        [
         "40",
         "176593",
         "Lightning Charging Cable",
         "2",
         "14.95",
         "04/15/19 13:45",
         "906 7th St, Portland, OR 97035",
         "4",
         "29.9"
        ],
        [
         "41",
         "176594",
         "Wired Headphones",
         "1",
         "11.99",
         "04/17/19 23:04",
         "63 Maple St, San Francisco, CA 94016",
         "4",
         "11.99"
        ],
        [
         "42",
         "176595",
         "Wired Headphones",
         "3",
         "11.99",
         "04/02/19 09:11",
         "383 6th St, Los Angeles, CA 90001",
         "4",
         "35.97"
        ],
        [
         "43",
         "176596",
         "Apple Airpods Headphones",
         "1",
         "150.0",
         "04/27/19 20:11",
         "572 Meadow St, Dallas, TX 75001",
         "4",
         "150.0"
        ],
        [
         "44",
         "176597",
         "USB-C Charging Cable",
         "1",
         "11.95",
         "04/19/19 13:39",
         "681 11th St, San Francisco, CA 94016",
         "4",
         "11.95"
        ],
        [
         "45",
         "176598",
         "AAA Batteries (4-pack)",
         "2",
         "2.99",
         "04/21/19 20:33",
         "294 Park St, San Francisco, CA 94016",
         "4",
         "5.98"
        ],
        [
         "46",
         "176599",
         "Lightning Charging Cable",
         "1",
         "14.95",
         "04/11/19 15:25",
         "279 Maple St, New York City, NY 10001",
         "4",
         "14.95"
        ],
        [
         "47",
         "176600",
         "27in 4K Gaming Monitor",
         "1",
         "389.99",
         "04/30/19 15:54",
         "87 West St, Boston, MA 02215",
         "4",
         "389.99"
        ],
        [
         "48",
         "176601",
         "USB-C Charging Cable",
         "1",
         "11.95",
         "04/02/19 22:32",
         "754 10th St, Los Angeles, CA 90001",
         "4",
         "11.95"
        ],
        [
         "49",
         "176602",
         "Lightning Charging Cable",
         "1",
         "14.95",
         "04/30/19 09:39",
         "9 Jefferson St, Dallas, TX 75001",
         "4",
         "14.95"
        ],
        [
         "50",
         "176603",
         "USB-C Charging Cable",
         "1",
         "11.95",
         "04/01/19 07:46",
         "858 6th St, San Francisco, CA 94016",
         "4",
         "11.95"
        ]
       ],
       "shape": {
        "columns": 8,
        "rows": 185950
       }
      },
      "text/html": [
       "<div>\n",
       "<style scoped>\n",
       "    .dataframe tbody tr th:only-of-type {\n",
       "        vertical-align: middle;\n",
       "    }\n",
       "\n",
       "    .dataframe tbody tr th {\n",
       "        vertical-align: top;\n",
       "    }\n",
       "\n",
       "    .dataframe thead th {\n",
       "        text-align: right;\n",
       "    }\n",
       "</style>\n",
       "<table border=\"1\" class=\"dataframe\">\n",
       "  <thead>\n",
       "    <tr style=\"text-align: right;\">\n",
       "      <th></th>\n",
       "      <th>Order ID</th>\n",
       "      <th>Product</th>\n",
       "      <th>Quantity Ordered</th>\n",
       "      <th>Price Each</th>\n",
       "      <th>Order Date</th>\n",
       "      <th>Purchase Address</th>\n",
       "      <th>Month</th>\n",
       "      <th>Chiffre_d'affaire</th>\n",
       "    </tr>\n",
       "  </thead>\n",
       "  <tbody>\n",
       "    <tr>\n",
       "      <th>0</th>\n",
       "      <td>176558</td>\n",
       "      <td>USB-C Charging Cable</td>\n",
       "      <td>2</td>\n",
       "      <td>11.95</td>\n",
       "      <td>04/19/19 08:46</td>\n",
       "      <td>917 1st St, Dallas, TX 75001</td>\n",
       "      <td>4</td>\n",
       "      <td>23.90</td>\n",
       "    </tr>\n",
       "    <tr>\n",
       "      <th>2</th>\n",
       "      <td>176559</td>\n",
       "      <td>Bose SoundSport Headphones</td>\n",
       "      <td>1</td>\n",
       "      <td>99.99</td>\n",
       "      <td>04/07/19 22:30</td>\n",
       "      <td>682 Chestnut St, Boston, MA 02215</td>\n",
       "      <td>4</td>\n",
       "      <td>99.99</td>\n",
       "    </tr>\n",
       "    <tr>\n",
       "      <th>3</th>\n",
       "      <td>176560</td>\n",
       "      <td>Google Phone</td>\n",
       "      <td>1</td>\n",
       "      <td>600.00</td>\n",
       "      <td>04/12/19 14:38</td>\n",
       "      <td>669 Spruce St, Los Angeles, CA 90001</td>\n",
       "      <td>4</td>\n",
       "      <td>600.00</td>\n",
       "    </tr>\n",
       "    <tr>\n",
       "      <th>4</th>\n",
       "      <td>176560</td>\n",
       "      <td>Wired Headphones</td>\n",
       "      <td>1</td>\n",
       "      <td>11.99</td>\n",
       "      <td>04/12/19 14:38</td>\n",
       "      <td>669 Spruce St, Los Angeles, CA 90001</td>\n",
       "      <td>4</td>\n",
       "      <td>11.99</td>\n",
       "    </tr>\n",
       "    <tr>\n",
       "      <th>5</th>\n",
       "      <td>176561</td>\n",
       "      <td>Wired Headphones</td>\n",
       "      <td>1</td>\n",
       "      <td>11.99</td>\n",
       "      <td>04/30/19 09:27</td>\n",
       "      <td>333 8th St, Los Angeles, CA 90001</td>\n",
       "      <td>4</td>\n",
       "      <td>11.99</td>\n",
       "    </tr>\n",
       "    <tr>\n",
       "      <th>...</th>\n",
       "      <td>...</td>\n",
       "      <td>...</td>\n",
       "      <td>...</td>\n",
       "      <td>...</td>\n",
       "      <td>...</td>\n",
       "      <td>...</td>\n",
       "      <td>...</td>\n",
       "      <td>...</td>\n",
       "    </tr>\n",
       "    <tr>\n",
       "      <th>186845</th>\n",
       "      <td>259353</td>\n",
       "      <td>AAA Batteries (4-pack)</td>\n",
       "      <td>3</td>\n",
       "      <td>2.99</td>\n",
       "      <td>09/17/19 20:56</td>\n",
       "      <td>840 Highland St, Los Angeles, CA 90001</td>\n",
       "      <td>9</td>\n",
       "      <td>8.97</td>\n",
       "    </tr>\n",
       "    <tr>\n",
       "      <th>186846</th>\n",
       "      <td>259354</td>\n",
       "      <td>iPhone</td>\n",
       "      <td>1</td>\n",
       "      <td>700.00</td>\n",
       "      <td>09/01/19 16:00</td>\n",
       "      <td>216 Dogwood St, San Francisco, CA 94016</td>\n",
       "      <td>9</td>\n",
       "      <td>700.00</td>\n",
       "    </tr>\n",
       "    <tr>\n",
       "      <th>186847</th>\n",
       "      <td>259355</td>\n",
       "      <td>iPhone</td>\n",
       "      <td>1</td>\n",
       "      <td>700.00</td>\n",
       "      <td>09/23/19 07:39</td>\n",
       "      <td>220 12th St, San Francisco, CA 94016</td>\n",
       "      <td>9</td>\n",
       "      <td>700.00</td>\n",
       "    </tr>\n",
       "    <tr>\n",
       "      <th>186848</th>\n",
       "      <td>259356</td>\n",
       "      <td>34in Ultrawide Monitor</td>\n",
       "      <td>1</td>\n",
       "      <td>379.99</td>\n",
       "      <td>09/19/19 17:30</td>\n",
       "      <td>511 Forest St, San Francisco, CA 94016</td>\n",
       "      <td>9</td>\n",
       "      <td>379.99</td>\n",
       "    </tr>\n",
       "    <tr>\n",
       "      <th>186849</th>\n",
       "      <td>259357</td>\n",
       "      <td>USB-C Charging Cable</td>\n",
       "      <td>1</td>\n",
       "      <td>11.95</td>\n",
       "      <td>09/30/19 00:18</td>\n",
       "      <td>250 Meadow St, San Francisco, CA 94016</td>\n",
       "      <td>9</td>\n",
       "      <td>11.95</td>\n",
       "    </tr>\n",
       "  </tbody>\n",
       "</table>\n",
       "<p>185950 rows × 8 columns</p>\n",
       "</div>"
      ],
      "text/plain": [
       "       Order ID                     Product  Quantity Ordered  Price Each  \\\n",
       "0        176558        USB-C Charging Cable                 2       11.95   \n",
       "2        176559  Bose SoundSport Headphones                 1       99.99   \n",
       "3        176560                Google Phone                 1      600.00   \n",
       "4        176560            Wired Headphones                 1       11.99   \n",
       "5        176561            Wired Headphones                 1       11.99   \n",
       "...         ...                         ...               ...         ...   \n",
       "186845   259353      AAA Batteries (4-pack)                 3        2.99   \n",
       "186846   259354                      iPhone                 1      700.00   \n",
       "186847   259355                      iPhone                 1      700.00   \n",
       "186848   259356      34in Ultrawide Monitor                 1      379.99   \n",
       "186849   259357        USB-C Charging Cable                 1       11.95   \n",
       "\n",
       "            Order Date                         Purchase Address  Month  \\\n",
       "0       04/19/19 08:46             917 1st St, Dallas, TX 75001      4   \n",
       "2       04/07/19 22:30        682 Chestnut St, Boston, MA 02215      4   \n",
       "3       04/12/19 14:38     669 Spruce St, Los Angeles, CA 90001      4   \n",
       "4       04/12/19 14:38     669 Spruce St, Los Angeles, CA 90001      4   \n",
       "5       04/30/19 09:27        333 8th St, Los Angeles, CA 90001      4   \n",
       "...                ...                                      ...    ...   \n",
       "186845  09/17/19 20:56   840 Highland St, Los Angeles, CA 90001      9   \n",
       "186846  09/01/19 16:00  216 Dogwood St, San Francisco, CA 94016      9   \n",
       "186847  09/23/19 07:39     220 12th St, San Francisco, CA 94016      9   \n",
       "186848  09/19/19 17:30   511 Forest St, San Francisco, CA 94016      9   \n",
       "186849  09/30/19 00:18   250 Meadow St, San Francisco, CA 94016      9   \n",
       "\n",
       "        Chiffre_d'affaire  \n",
       "0                   23.90  \n",
       "2                   99.99  \n",
       "3                  600.00  \n",
       "4                   11.99  \n",
       "5                   11.99  \n",
       "...                   ...  \n",
       "186845               8.97  \n",
       "186846             700.00  \n",
       "186847             700.00  \n",
       "186848             379.99  \n",
       "186849              11.95  \n",
       "\n",
       "[185950 rows x 8 columns]"
      ]
     },
     "execution_count": 149,
     "metadata": {},
     "output_type": "execute_result"
    }
   ],
   "source": [
    "df"
   ]
  },
  {
   "cell_type": "code",
   "execution_count": 150,
   "id": "77e98f45",
   "metadata": {},
   "outputs": [
    {
     "data": {
      "text/plain": [
       "' Dallas'"
      ]
     },
     "execution_count": 150,
     "metadata": {},
     "output_type": "execute_result"
    }
   ],
   "source": [
    "'917 1st St, Dallas, TX 75001'.split(',')[1]"
   ]
  },
  {
   "cell_type": "code",
   "execution_count": 151,
   "id": "bf08ed96",
   "metadata": {},
   "outputs": [],
   "source": [
    "def ville(x):\n",
    "    return x.split(',')[1]\n"
   ]
  },
  {
   "cell_type": "code",
   "execution_count": 152,
   "id": "0c99606b",
   "metadata": {},
   "outputs": [
    {
     "data": {
      "application/vnd.microsoft.datawrangler.viewer.v0+json": {
       "columns": [
        {
         "name": "index",
         "rawType": "int64",
         "type": "integer"
        },
        {
         "name": "Order ID",
         "rawType": "object",
         "type": "string"
        },
        {
         "name": "Product",
         "rawType": "object",
         "type": "string"
        },
        {
         "name": "Quantity Ordered",
         "rawType": "int64",
         "type": "integer"
        },
        {
         "name": "Price Each",
         "rawType": "float64",
         "type": "float"
        },
        {
         "name": "Order Date",
         "rawType": "object",
         "type": "string"
        },
        {
         "name": "Purchase Address",
         "rawType": "object",
         "type": "string"
        },
        {
         "name": "Month",
         "rawType": "int64",
         "type": "integer"
        },
        {
         "name": "Chiffre_d'affaire",
         "rawType": "float64",
         "type": "float"
        },
        {
         "name": "ville",
         "rawType": "object",
         "type": "string"
        }
       ],
       "ref": "b96aca28-1ec6-46c2-a69c-a6305fa86dc7",
       "rows": [
        [
         "0",
         "176558",
         "USB-C Charging Cable",
         "2",
         "11.95",
         "04/19/19 08:46",
         "917 1st St, Dallas, TX 75001",
         "4",
         "23.9",
         " Dallas"
        ],
        [
         "2",
         "176559",
         "Bose SoundSport Headphones",
         "1",
         "99.99",
         "04/07/19 22:30",
         "682 Chestnut St, Boston, MA 02215",
         "4",
         "99.99",
         " Boston"
        ],
        [
         "3",
         "176560",
         "Google Phone",
         "1",
         "600.0",
         "04/12/19 14:38",
         "669 Spruce St, Los Angeles, CA 90001",
         "4",
         "600.0",
         " Los Angeles"
        ],
        [
         "4",
         "176560",
         "Wired Headphones",
         "1",
         "11.99",
         "04/12/19 14:38",
         "669 Spruce St, Los Angeles, CA 90001",
         "4",
         "11.99",
         " Los Angeles"
        ],
        [
         "5",
         "176561",
         "Wired Headphones",
         "1",
         "11.99",
         "04/30/19 09:27",
         "333 8th St, Los Angeles, CA 90001",
         "4",
         "11.99",
         " Los Angeles"
        ],
        [
         "6",
         "176562",
         "USB-C Charging Cable",
         "1",
         "11.95",
         "04/29/19 13:03",
         "381 Wilson St, San Francisco, CA 94016",
         "4",
         "11.95",
         " San Francisco"
        ],
        [
         "7",
         "176563",
         "Bose SoundSport Headphones",
         "1",
         "99.99",
         "04/02/19 07:46",
         "668 Center St, Seattle, WA 98101",
         "4",
         "99.99",
         " Seattle"
        ],
        [
         "8",
         "176564",
         "USB-C Charging Cable",
         "1",
         "11.95",
         "04/12/19 10:58",
         "790 Ridge St, Atlanta, GA 30301",
         "4",
         "11.95",
         " Atlanta"
        ],
        [
         "9",
         "176565",
         "Macbook Pro Laptop",
         "1",
         "1700.0",
         "04/24/19 10:38",
         "915 Willow St, San Francisco, CA 94016",
         "4",
         "1700.0",
         " San Francisco"
        ],
        [
         "10",
         "176566",
         "Wired Headphones",
         "1",
         "11.99",
         "04/08/19 14:05",
         "83 7th St, Boston, MA 02215",
         "4",
         "11.99",
         " Boston"
        ],
        [
         "11",
         "176567",
         "Google Phone",
         "1",
         "600.0",
         "04/18/19 17:18",
         "444 7th St, Los Angeles, CA 90001",
         "4",
         "600.0",
         " Los Angeles"
        ],
        [
         "12",
         "176568",
         "Lightning Charging Cable",
         "1",
         "14.95",
         "04/15/19 12:18",
         "438 Elm St, Seattle, WA 98101",
         "4",
         "14.95",
         " Seattle"
        ],
        [
         "13",
         "176569",
         "27in 4K Gaming Monitor",
         "1",
         "389.99",
         "04/16/19 19:23",
         "657 Hill St, Dallas, TX 75001",
         "4",
         "389.99",
         " Dallas"
        ],
        [
         "14",
         "176570",
         "AA Batteries (4-pack)",
         "1",
         "3.84",
         "04/22/19 15:09",
         "186 12th St, Dallas, TX 75001",
         "4",
         "3.84",
         " Dallas"
        ],
        [
         "15",
         "176571",
         "Lightning Charging Cable",
         "1",
         "14.95",
         "04/19/19 14:29",
         "253 Johnson St, Atlanta, GA 30301",
         "4",
         "14.95",
         " Atlanta"
        ],
        [
         "16",
         "176572",
         "Apple Airpods Headphones",
         "1",
         "150.0",
         "04/04/19 20:30",
         "149 Dogwood St, New York City, NY 10001",
         "4",
         "150.0",
         " New York City"
        ],
        [
         "17",
         "176573",
         "USB-C Charging Cable",
         "1",
         "11.95",
         "04/27/19 18:41",
         "214 Chestnut St, San Francisco, CA 94016",
         "4",
         "11.95",
         " San Francisco"
        ],
        [
         "18",
         "176574",
         "Google Phone",
         "1",
         "600.0",
         "04/03/19 19:42",
         "20 Hill St, Los Angeles, CA 90001",
         "4",
         "600.0",
         " Los Angeles"
        ],
        [
         "19",
         "176574",
         "USB-C Charging Cable",
         "1",
         "11.95",
         "04/03/19 19:42",
         "20 Hill St, Los Angeles, CA 90001",
         "4",
         "11.95",
         " Los Angeles"
        ],
        [
         "20",
         "176575",
         "AAA Batteries (4-pack)",
         "1",
         "2.99",
         "04/27/19 00:30",
         "433 Hill St, New York City, NY 10001",
         "4",
         "2.99",
         " New York City"
        ],
        [
         "21",
         "176576",
         "Apple Airpods Headphones",
         "1",
         "150.0",
         "04/28/19 11:42",
         "771 Ridge St, Los Angeles, CA 90001",
         "4",
         "150.0",
         " Los Angeles"
        ],
        [
         "22",
         "176577",
         "Apple Airpods Headphones",
         "1",
         "150.0",
         "04/04/19 19:25",
         "260 Spruce St, Dallas, TX 75001",
         "4",
         "150.0",
         " Dallas"
        ],
        [
         "23",
         "176578",
         "Apple Airpods Headphones",
         "1",
         "150.0",
         "04/09/19 23:35",
         "513 Church St, Boston, MA 02215",
         "4",
         "150.0",
         " Boston"
        ],
        [
         "24",
         "176579",
         "AA Batteries (4-pack)",
         "1",
         "3.84",
         "04/11/19 10:23",
         "886 Jefferson St, New York City, NY 10001",
         "4",
         "3.84",
         " New York City"
        ],
        [
         "25",
         "176580",
         "USB-C Charging Cable",
         "1",
         "11.95",
         "04/05/19 00:35",
         "886 Willow St, Los Angeles, CA 90001",
         "4",
         "11.95",
         " Los Angeles"
        ],
        [
         "26",
         "176581",
         "iPhone",
         "1",
         "700.0",
         "04/09/19 21:38",
         "84 Jackson St, Boston, MA 02215",
         "4",
         "700.0",
         " Boston"
        ],
        [
         "27",
         "176582",
         "Bose SoundSport Headphones",
         "1",
         "99.99",
         "04/27/19 12:20",
         "178 Lincoln St, Atlanta, GA 30301",
         "4",
         "99.99",
         " Atlanta"
        ],
        [
         "28",
         "176583",
         "AAA Batteries (4-pack)",
         "2",
         "2.99",
         "04/20/19 12:00",
         "146 Jackson St, Portland, OR 97035",
         "4",
         "5.98",
         " Portland"
        ],
        [
         "29",
         "176584",
         "Flatscreen TV",
         "1",
         "300.0",
         "04/24/19 20:39",
         "936 Church St, San Francisco, CA 94016",
         "4",
         "300.0",
         " San Francisco"
        ],
        [
         "30",
         "176585",
         "Bose SoundSport Headphones",
         "1",
         "99.99",
         "04/07/19 11:31",
         "823 Highland St, Boston, MA 02215",
         "4",
         "99.99",
         " Boston"
        ],
        [
         "31",
         "176585",
         "Bose SoundSport Headphones",
         "1",
         "99.99",
         "04/07/19 11:31",
         "823 Highland St, Boston, MA 02215",
         "4",
         "99.99",
         " Boston"
        ],
        [
         "32",
         "176586",
         "AAA Batteries (4-pack)",
         "2",
         "2.99",
         "04/10/19 17:00",
         "365 Center St, San Francisco, CA 94016",
         "4",
         "5.98",
         " San Francisco"
        ],
        [
         "33",
         "176586",
         "Google Phone",
         "1",
         "600.0",
         "04/10/19 17:00",
         "365 Center St, San Francisco, CA 94016",
         "4",
         "600.0",
         " San Francisco"
        ],
        [
         "34",
         "176587",
         "27in FHD Monitor",
         "1",
         "149.99",
         "04/29/19 19:38",
         "557 5th St, Los Angeles, CA 90001",
         "4",
         "149.99",
         " Los Angeles"
        ],
        [
         "35",
         "176588",
         "20in Monitor",
         "1",
         "109.99",
         "04/02/19 04:00",
         "765 Cherry St, Seattle, WA 98101",
         "4",
         "109.99",
         " Seattle"
        ],
        [
         "36",
         "176589",
         "Lightning Charging Cable",
         "1",
         "14.95",
         "04/04/19 12:23",
         "846 Highland St, Atlanta, GA 30301",
         "4",
         "14.95",
         " Atlanta"
        ],
        [
         "37",
         "176590",
         "Google Phone",
         "1",
         "600.0",
         "04/11/19 11:46",
         "873 6th St, New York City, NY 10001",
         "4",
         "600.0",
         " New York City"
        ],
        [
         "38",
         "176591",
         "Apple Airpods Headphones",
         "1",
         "150.0",
         "04/21/19 07:21",
         "600 Maple St, Austin, TX 73301",
         "4",
         "150.0",
         " Austin"
        ],
        [
         "39",
         "176592",
         "USB-C Charging Cable",
         "1",
         "11.95",
         "04/27/19 13:04",
         "352 4th St, Los Angeles, CA 90001",
         "4",
         "11.95",
         " Los Angeles"
        ],
        [
         "40",
         "176593",
         "Lightning Charging Cable",
         "2",
         "14.95",
         "04/15/19 13:45",
         "906 7th St, Portland, OR 97035",
         "4",
         "29.9",
         " Portland"
        ],
        [
         "41",
         "176594",
         "Wired Headphones",
         "1",
         "11.99",
         "04/17/19 23:04",
         "63 Maple St, San Francisco, CA 94016",
         "4",
         "11.99",
         " San Francisco"
        ],
        [
         "42",
         "176595",
         "Wired Headphones",
         "3",
         "11.99",
         "04/02/19 09:11",
         "383 6th St, Los Angeles, CA 90001",
         "4",
         "35.97",
         " Los Angeles"
        ],
        [
         "43",
         "176596",
         "Apple Airpods Headphones",
         "1",
         "150.0",
         "04/27/19 20:11",
         "572 Meadow St, Dallas, TX 75001",
         "4",
         "150.0",
         " Dallas"
        ],
        [
         "44",
         "176597",
         "USB-C Charging Cable",
         "1",
         "11.95",
         "04/19/19 13:39",
         "681 11th St, San Francisco, CA 94016",
         "4",
         "11.95",
         " San Francisco"
        ],
        [
         "45",
         "176598",
         "AAA Batteries (4-pack)",
         "2",
         "2.99",
         "04/21/19 20:33",
         "294 Park St, San Francisco, CA 94016",
         "4",
         "5.98",
         " San Francisco"
        ],
        [
         "46",
         "176599",
         "Lightning Charging Cable",
         "1",
         "14.95",
         "04/11/19 15:25",
         "279 Maple St, New York City, NY 10001",
         "4",
         "14.95",
         " New York City"
        ],
        [
         "47",
         "176600",
         "27in 4K Gaming Monitor",
         "1",
         "389.99",
         "04/30/19 15:54",
         "87 West St, Boston, MA 02215",
         "4",
         "389.99",
         " Boston"
        ],
        [
         "48",
         "176601",
         "USB-C Charging Cable",
         "1",
         "11.95",
         "04/02/19 22:32",
         "754 10th St, Los Angeles, CA 90001",
         "4",
         "11.95",
         " Los Angeles"
        ],
        [
         "49",
         "176602",
         "Lightning Charging Cable",
         "1",
         "14.95",
         "04/30/19 09:39",
         "9 Jefferson St, Dallas, TX 75001",
         "4",
         "14.95",
         " Dallas"
        ],
        [
         "50",
         "176603",
         "USB-C Charging Cable",
         "1",
         "11.95",
         "04/01/19 07:46",
         "858 6th St, San Francisco, CA 94016",
         "4",
         "11.95",
         " San Francisco"
        ]
       ],
       "shape": {
        "columns": 9,
        "rows": 185950
       }
      },
      "text/html": [
       "<div>\n",
       "<style scoped>\n",
       "    .dataframe tbody tr th:only-of-type {\n",
       "        vertical-align: middle;\n",
       "    }\n",
       "\n",
       "    .dataframe tbody tr th {\n",
       "        vertical-align: top;\n",
       "    }\n",
       "\n",
       "    .dataframe thead th {\n",
       "        text-align: right;\n",
       "    }\n",
       "</style>\n",
       "<table border=\"1\" class=\"dataframe\">\n",
       "  <thead>\n",
       "    <tr style=\"text-align: right;\">\n",
       "      <th></th>\n",
       "      <th>Order ID</th>\n",
       "      <th>Product</th>\n",
       "      <th>Quantity Ordered</th>\n",
       "      <th>Price Each</th>\n",
       "      <th>Order Date</th>\n",
       "      <th>Purchase Address</th>\n",
       "      <th>Month</th>\n",
       "      <th>Chiffre_d'affaire</th>\n",
       "      <th>ville</th>\n",
       "    </tr>\n",
       "  </thead>\n",
       "  <tbody>\n",
       "    <tr>\n",
       "      <th>0</th>\n",
       "      <td>176558</td>\n",
       "      <td>USB-C Charging Cable</td>\n",
       "      <td>2</td>\n",
       "      <td>11.95</td>\n",
       "      <td>04/19/19 08:46</td>\n",
       "      <td>917 1st St, Dallas, TX 75001</td>\n",
       "      <td>4</td>\n",
       "      <td>23.90</td>\n",
       "      <td>Dallas</td>\n",
       "    </tr>\n",
       "    <tr>\n",
       "      <th>2</th>\n",
       "      <td>176559</td>\n",
       "      <td>Bose SoundSport Headphones</td>\n",
       "      <td>1</td>\n",
       "      <td>99.99</td>\n",
       "      <td>04/07/19 22:30</td>\n",
       "      <td>682 Chestnut St, Boston, MA 02215</td>\n",
       "      <td>4</td>\n",
       "      <td>99.99</td>\n",
       "      <td>Boston</td>\n",
       "    </tr>\n",
       "    <tr>\n",
       "      <th>3</th>\n",
       "      <td>176560</td>\n",
       "      <td>Google Phone</td>\n",
       "      <td>1</td>\n",
       "      <td>600.00</td>\n",
       "      <td>04/12/19 14:38</td>\n",
       "      <td>669 Spruce St, Los Angeles, CA 90001</td>\n",
       "      <td>4</td>\n",
       "      <td>600.00</td>\n",
       "      <td>Los Angeles</td>\n",
       "    </tr>\n",
       "    <tr>\n",
       "      <th>4</th>\n",
       "      <td>176560</td>\n",
       "      <td>Wired Headphones</td>\n",
       "      <td>1</td>\n",
       "      <td>11.99</td>\n",
       "      <td>04/12/19 14:38</td>\n",
       "      <td>669 Spruce St, Los Angeles, CA 90001</td>\n",
       "      <td>4</td>\n",
       "      <td>11.99</td>\n",
       "      <td>Los Angeles</td>\n",
       "    </tr>\n",
       "    <tr>\n",
       "      <th>5</th>\n",
       "      <td>176561</td>\n",
       "      <td>Wired Headphones</td>\n",
       "      <td>1</td>\n",
       "      <td>11.99</td>\n",
       "      <td>04/30/19 09:27</td>\n",
       "      <td>333 8th St, Los Angeles, CA 90001</td>\n",
       "      <td>4</td>\n",
       "      <td>11.99</td>\n",
       "      <td>Los Angeles</td>\n",
       "    </tr>\n",
       "    <tr>\n",
       "      <th>...</th>\n",
       "      <td>...</td>\n",
       "      <td>...</td>\n",
       "      <td>...</td>\n",
       "      <td>...</td>\n",
       "      <td>...</td>\n",
       "      <td>...</td>\n",
       "      <td>...</td>\n",
       "      <td>...</td>\n",
       "      <td>...</td>\n",
       "    </tr>\n",
       "    <tr>\n",
       "      <th>186845</th>\n",
       "      <td>259353</td>\n",
       "      <td>AAA Batteries (4-pack)</td>\n",
       "      <td>3</td>\n",
       "      <td>2.99</td>\n",
       "      <td>09/17/19 20:56</td>\n",
       "      <td>840 Highland St, Los Angeles, CA 90001</td>\n",
       "      <td>9</td>\n",
       "      <td>8.97</td>\n",
       "      <td>Los Angeles</td>\n",
       "    </tr>\n",
       "    <tr>\n",
       "      <th>186846</th>\n",
       "      <td>259354</td>\n",
       "      <td>iPhone</td>\n",
       "      <td>1</td>\n",
       "      <td>700.00</td>\n",
       "      <td>09/01/19 16:00</td>\n",
       "      <td>216 Dogwood St, San Francisco, CA 94016</td>\n",
       "      <td>9</td>\n",
       "      <td>700.00</td>\n",
       "      <td>San Francisco</td>\n",
       "    </tr>\n",
       "    <tr>\n",
       "      <th>186847</th>\n",
       "      <td>259355</td>\n",
       "      <td>iPhone</td>\n",
       "      <td>1</td>\n",
       "      <td>700.00</td>\n",
       "      <td>09/23/19 07:39</td>\n",
       "      <td>220 12th St, San Francisco, CA 94016</td>\n",
       "      <td>9</td>\n",
       "      <td>700.00</td>\n",
       "      <td>San Francisco</td>\n",
       "    </tr>\n",
       "    <tr>\n",
       "      <th>186848</th>\n",
       "      <td>259356</td>\n",
       "      <td>34in Ultrawide Monitor</td>\n",
       "      <td>1</td>\n",
       "      <td>379.99</td>\n",
       "      <td>09/19/19 17:30</td>\n",
       "      <td>511 Forest St, San Francisco, CA 94016</td>\n",
       "      <td>9</td>\n",
       "      <td>379.99</td>\n",
       "      <td>San Francisco</td>\n",
       "    </tr>\n",
       "    <tr>\n",
       "      <th>186849</th>\n",
       "      <td>259357</td>\n",
       "      <td>USB-C Charging Cable</td>\n",
       "      <td>1</td>\n",
       "      <td>11.95</td>\n",
       "      <td>09/30/19 00:18</td>\n",
       "      <td>250 Meadow St, San Francisco, CA 94016</td>\n",
       "      <td>9</td>\n",
       "      <td>11.95</td>\n",
       "      <td>San Francisco</td>\n",
       "    </tr>\n",
       "  </tbody>\n",
       "</table>\n",
       "<p>185950 rows × 9 columns</p>\n",
       "</div>"
      ],
      "text/plain": [
       "       Order ID                     Product  Quantity Ordered  Price Each  \\\n",
       "0        176558        USB-C Charging Cable                 2       11.95   \n",
       "2        176559  Bose SoundSport Headphones                 1       99.99   \n",
       "3        176560                Google Phone                 1      600.00   \n",
       "4        176560            Wired Headphones                 1       11.99   \n",
       "5        176561            Wired Headphones                 1       11.99   \n",
       "...         ...                         ...               ...         ...   \n",
       "186845   259353      AAA Batteries (4-pack)                 3        2.99   \n",
       "186846   259354                      iPhone                 1      700.00   \n",
       "186847   259355                      iPhone                 1      700.00   \n",
       "186848   259356      34in Ultrawide Monitor                 1      379.99   \n",
       "186849   259357        USB-C Charging Cable                 1       11.95   \n",
       "\n",
       "            Order Date                         Purchase Address  Month  \\\n",
       "0       04/19/19 08:46             917 1st St, Dallas, TX 75001      4   \n",
       "2       04/07/19 22:30        682 Chestnut St, Boston, MA 02215      4   \n",
       "3       04/12/19 14:38     669 Spruce St, Los Angeles, CA 90001      4   \n",
       "4       04/12/19 14:38     669 Spruce St, Los Angeles, CA 90001      4   \n",
       "5       04/30/19 09:27        333 8th St, Los Angeles, CA 90001      4   \n",
       "...                ...                                      ...    ...   \n",
       "186845  09/17/19 20:56   840 Highland St, Los Angeles, CA 90001      9   \n",
       "186846  09/01/19 16:00  216 Dogwood St, San Francisco, CA 94016      9   \n",
       "186847  09/23/19 07:39     220 12th St, San Francisco, CA 94016      9   \n",
       "186848  09/19/19 17:30   511 Forest St, San Francisco, CA 94016      9   \n",
       "186849  09/30/19 00:18   250 Meadow St, San Francisco, CA 94016      9   \n",
       "\n",
       "        Chiffre_d'affaire           ville  \n",
       "0                   23.90          Dallas  \n",
       "2                   99.99          Boston  \n",
       "3                  600.00     Los Angeles  \n",
       "4                   11.99     Los Angeles  \n",
       "5                   11.99     Los Angeles  \n",
       "...                   ...             ...  \n",
       "186845               8.97     Los Angeles  \n",
       "186846             700.00   San Francisco  \n",
       "186847             700.00   San Francisco  \n",
       "186848             379.99   San Francisco  \n",
       "186849              11.95   San Francisco  \n",
       "\n",
       "[185950 rows x 9 columns]"
      ]
     },
     "execution_count": 152,
     "metadata": {},
     "output_type": "execute_result"
    }
   ],
   "source": [
    "df['ville'] = df['Purchase Address'].apply(ville)\n",
    "df"
   ]
  },
  {
   "cell_type": "code",
   "execution_count": 153,
   "id": "129d9465",
   "metadata": {},
   "outputs": [
    {
     "data": {
      "application/vnd.microsoft.datawrangler.viewer.v0+json": {
       "columns": [
        {
         "name": "ville",
         "rawType": "object",
         "type": "string"
        },
        {
         "name": "ville",
         "rawType": "int64",
         "type": "integer"
        }
       ],
       "ref": "067509a1-0345-47f3-8b51-e6fd59cc32b7",
       "rows": [
        [
         " Atlanta",
         "14881"
        ],
        [
         " Austin",
         "9905"
        ],
        [
         " Boston",
         "19934"
        ],
        [
         " Dallas",
         "14820"
        ],
        [
         " Los Angeles",
         "29605"
        ],
        [
         " New York City",
         "24876"
        ],
        [
         " Portland",
         "12465"
        ],
        [
         " San Francisco",
         "44732"
        ],
        [
         " Seattle",
         "14732"
        ]
       ],
       "shape": {
        "columns": 1,
        "rows": 9
       }
      },
      "text/plain": [
       "ville\n",
       "Atlanta          14881\n",
       "Austin            9905\n",
       "Boston           19934\n",
       "Dallas           14820\n",
       "Los Angeles      29605\n",
       "New York City    24876\n",
       "Portland         12465\n",
       "San Francisco    44732\n",
       "Seattle          14732\n",
       "Name: ville, dtype: int64"
      ]
     },
     "execution_count": 153,
     "metadata": {},
     "output_type": "execute_result"
    }
   ],
   "source": [
    "ville_count = df.groupby('ville')['ville'].count()\n",
    "ville_count"
   ]
  },
  {
   "cell_type": "code",
   "execution_count": 154,
   "id": "5a1e859c",
   "metadata": {},
   "outputs": [
    {
     "data": {
      "application/vnd.plotly.v1+json": {
       "config": {
        "plotlyServerURL": "https://plot.ly"
       },
       "data": [
        {
         "hovertemplate": "Ville=%{x}<br>Nombre_commandes=%{y}<extra></extra>",
         "legendgroup": " Atlanta",
         "marker": {
          "color": "#636efa",
          "pattern": {
           "shape": ""
          }
         },
         "name": " Atlanta",
         "orientation": "v",
         "showlegend": true,
         "textposition": "auto",
         "type": "bar",
         "x": [
          " Atlanta"
         ],
         "xaxis": "x",
         "y": {
          "bdata": "ITo=",
          "dtype": "i2"
         },
         "yaxis": "y"
        },
        {
         "hovertemplate": "Ville=%{x}<br>Nombre_commandes=%{y}<extra></extra>",
         "legendgroup": " Austin",
         "marker": {
          "color": "#EF553B",
          "pattern": {
           "shape": ""
          }
         },
         "name": " Austin",
         "orientation": "v",
         "showlegend": true,
         "textposition": "auto",
         "type": "bar",
         "x": [
          " Austin"
         ],
         "xaxis": "x",
         "y": {
          "bdata": "sSY=",
          "dtype": "i2"
         },
         "yaxis": "y"
        },
        {
         "hovertemplate": "Ville=%{x}<br>Nombre_commandes=%{y}<extra></extra>",
         "legendgroup": " Boston",
         "marker": {
          "color": "#00cc96",
          "pattern": {
           "shape": ""
          }
         },
         "name": " Boston",
         "orientation": "v",
         "showlegend": true,
         "textposition": "auto",
         "type": "bar",
         "x": [
          " Boston"
         ],
         "xaxis": "x",
         "y": {
          "bdata": "3k0=",
          "dtype": "i2"
         },
         "yaxis": "y"
        },
        {
         "hovertemplate": "Ville=%{x}<br>Nombre_commandes=%{y}<extra></extra>",
         "legendgroup": " Dallas",
         "marker": {
          "color": "#ab63fa",
          "pattern": {
           "shape": ""
          }
         },
         "name": " Dallas",
         "orientation": "v",
         "showlegend": true,
         "textposition": "auto",
         "type": "bar",
         "x": [
          " Dallas"
         ],
         "xaxis": "x",
         "y": {
          "bdata": "5Dk=",
          "dtype": "i2"
         },
         "yaxis": "y"
        },
        {
         "hovertemplate": "Ville=%{x}<br>Nombre_commandes=%{y}<extra></extra>",
         "legendgroup": " Los Angeles",
         "marker": {
          "color": "#FFA15A",
          "pattern": {
           "shape": ""
          }
         },
         "name": " Los Angeles",
         "orientation": "v",
         "showlegend": true,
         "textposition": "auto",
         "type": "bar",
         "x": [
          " Los Angeles"
         ],
         "xaxis": "x",
         "y": {
          "bdata": "pXM=",
          "dtype": "i2"
         },
         "yaxis": "y"
        },
        {
         "hovertemplate": "Ville=%{x}<br>Nombre_commandes=%{y}<extra></extra>",
         "legendgroup": " New York City",
         "marker": {
          "color": "#19d3f3",
          "pattern": {
           "shape": ""
          }
         },
         "name": " New York City",
         "orientation": "v",
         "showlegend": true,
         "textposition": "auto",
         "type": "bar",
         "x": [
          " New York City"
         ],
         "xaxis": "x",
         "y": {
          "bdata": "LGE=",
          "dtype": "i2"
         },
         "yaxis": "y"
        },
        {
         "hovertemplate": "Ville=%{x}<br>Nombre_commandes=%{y}<extra></extra>",
         "legendgroup": " Portland",
         "marker": {
          "color": "#FF6692",
          "pattern": {
           "shape": ""
          }
         },
         "name": " Portland",
         "orientation": "v",
         "showlegend": true,
         "textposition": "auto",
         "type": "bar",
         "x": [
          " Portland"
         ],
         "xaxis": "x",
         "y": {
          "bdata": "sTA=",
          "dtype": "i2"
         },
         "yaxis": "y"
        },
        {
         "hovertemplate": "Ville=%{x}<br>Nombre_commandes=%{y}<extra></extra>",
         "legendgroup": " San Francisco",
         "marker": {
          "color": "#B6E880",
          "pattern": {
           "shape": ""
          }
         },
         "name": " San Francisco",
         "orientation": "v",
         "showlegend": true,
         "textposition": "auto",
         "type": "bar",
         "x": [
          " San Francisco"
         ],
         "xaxis": "x",
         "y": {
          "bdata": "vK4AAA==",
          "dtype": "i4"
         },
         "yaxis": "y"
        },
        {
         "hovertemplate": "Ville=%{x}<br>Nombre_commandes=%{y}<extra></extra>",
         "legendgroup": " Seattle",
         "marker": {
          "color": "#FF97FF",
          "pattern": {
           "shape": ""
          }
         },
         "name": " Seattle",
         "orientation": "v",
         "showlegend": true,
         "textposition": "auto",
         "type": "bar",
         "x": [
          " Seattle"
         ],
         "xaxis": "x",
         "y": {
          "bdata": "jDk=",
          "dtype": "i2"
         },
         "yaxis": "y"
        }
       ],
       "layout": {
        "barmode": "relative",
        "legend": {
         "title": {
          "text": "Ville"
         },
         "tracegroupgap": 0
        },
        "template": {
         "data": {
          "bar": [
           {
            "error_x": {
             "color": "#2a3f5f"
            },
            "error_y": {
             "color": "#2a3f5f"
            },
            "marker": {
             "line": {
              "color": "#E5ECF6",
              "width": 0.5
             },
             "pattern": {
              "fillmode": "overlay",
              "size": 10,
              "solidity": 0.2
             }
            },
            "type": "bar"
           }
          ],
          "barpolar": [
           {
            "marker": {
             "line": {
              "color": "#E5ECF6",
              "width": 0.5
             },
             "pattern": {
              "fillmode": "overlay",
              "size": 10,
              "solidity": 0.2
             }
            },
            "type": "barpolar"
           }
          ],
          "carpet": [
           {
            "aaxis": {
             "endlinecolor": "#2a3f5f",
             "gridcolor": "white",
             "linecolor": "white",
             "minorgridcolor": "white",
             "startlinecolor": "#2a3f5f"
            },
            "baxis": {
             "endlinecolor": "#2a3f5f",
             "gridcolor": "white",
             "linecolor": "white",
             "minorgridcolor": "white",
             "startlinecolor": "#2a3f5f"
            },
            "type": "carpet"
           }
          ],
          "choropleth": [
           {
            "colorbar": {
             "outlinewidth": 0,
             "ticks": ""
            },
            "type": "choropleth"
           }
          ],
          "contour": [
           {
            "colorbar": {
             "outlinewidth": 0,
             "ticks": ""
            },
            "colorscale": [
             [
              0,
              "#0d0887"
             ],
             [
              0.1111111111111111,
              "#46039f"
             ],
             [
              0.2222222222222222,
              "#7201a8"
             ],
             [
              0.3333333333333333,
              "#9c179e"
             ],
             [
              0.4444444444444444,
              "#bd3786"
             ],
             [
              0.5555555555555556,
              "#d8576b"
             ],
             [
              0.6666666666666666,
              "#ed7953"
             ],
             [
              0.7777777777777778,
              "#fb9f3a"
             ],
             [
              0.8888888888888888,
              "#fdca26"
             ],
             [
              1,
              "#f0f921"
             ]
            ],
            "type": "contour"
           }
          ],
          "contourcarpet": [
           {
            "colorbar": {
             "outlinewidth": 0,
             "ticks": ""
            },
            "type": "contourcarpet"
           }
          ],
          "heatmap": [
           {
            "colorbar": {
             "outlinewidth": 0,
             "ticks": ""
            },
            "colorscale": [
             [
              0,
              "#0d0887"
             ],
             [
              0.1111111111111111,
              "#46039f"
             ],
             [
              0.2222222222222222,
              "#7201a8"
             ],
             [
              0.3333333333333333,
              "#9c179e"
             ],
             [
              0.4444444444444444,
              "#bd3786"
             ],
             [
              0.5555555555555556,
              "#d8576b"
             ],
             [
              0.6666666666666666,
              "#ed7953"
             ],
             [
              0.7777777777777778,
              "#fb9f3a"
             ],
             [
              0.8888888888888888,
              "#fdca26"
             ],
             [
              1,
              "#f0f921"
             ]
            ],
            "type": "heatmap"
           }
          ],
          "histogram": [
           {
            "marker": {
             "pattern": {
              "fillmode": "overlay",
              "size": 10,
              "solidity": 0.2
             }
            },
            "type": "histogram"
           }
          ],
          "histogram2d": [
           {
            "colorbar": {
             "outlinewidth": 0,
             "ticks": ""
            },
            "colorscale": [
             [
              0,
              "#0d0887"
             ],
             [
              0.1111111111111111,
              "#46039f"
             ],
             [
              0.2222222222222222,
              "#7201a8"
             ],
             [
              0.3333333333333333,
              "#9c179e"
             ],
             [
              0.4444444444444444,
              "#bd3786"
             ],
             [
              0.5555555555555556,
              "#d8576b"
             ],
             [
              0.6666666666666666,
              "#ed7953"
             ],
             [
              0.7777777777777778,
              "#fb9f3a"
             ],
             [
              0.8888888888888888,
              "#fdca26"
             ],
             [
              1,
              "#f0f921"
             ]
            ],
            "type": "histogram2d"
           }
          ],
          "histogram2dcontour": [
           {
            "colorbar": {
             "outlinewidth": 0,
             "ticks": ""
            },
            "colorscale": [
             [
              0,
              "#0d0887"
             ],
             [
              0.1111111111111111,
              "#46039f"
             ],
             [
              0.2222222222222222,
              "#7201a8"
             ],
             [
              0.3333333333333333,
              "#9c179e"
             ],
             [
              0.4444444444444444,
              "#bd3786"
             ],
             [
              0.5555555555555556,
              "#d8576b"
             ],
             [
              0.6666666666666666,
              "#ed7953"
             ],
             [
              0.7777777777777778,
              "#fb9f3a"
             ],
             [
              0.8888888888888888,
              "#fdca26"
             ],
             [
              1,
              "#f0f921"
             ]
            ],
            "type": "histogram2dcontour"
           }
          ],
          "mesh3d": [
           {
            "colorbar": {
             "outlinewidth": 0,
             "ticks": ""
            },
            "type": "mesh3d"
           }
          ],
          "parcoords": [
           {
            "line": {
             "colorbar": {
              "outlinewidth": 0,
              "ticks": ""
             }
            },
            "type": "parcoords"
           }
          ],
          "pie": [
           {
            "automargin": true,
            "type": "pie"
           }
          ],
          "scatter": [
           {
            "fillpattern": {
             "fillmode": "overlay",
             "size": 10,
             "solidity": 0.2
            },
            "type": "scatter"
           }
          ],
          "scatter3d": [
           {
            "line": {
             "colorbar": {
              "outlinewidth": 0,
              "ticks": ""
             }
            },
            "marker": {
             "colorbar": {
              "outlinewidth": 0,
              "ticks": ""
             }
            },
            "type": "scatter3d"
           }
          ],
          "scattercarpet": [
           {
            "marker": {
             "colorbar": {
              "outlinewidth": 0,
              "ticks": ""
             }
            },
            "type": "scattercarpet"
           }
          ],
          "scattergeo": [
           {
            "marker": {
             "colorbar": {
              "outlinewidth": 0,
              "ticks": ""
             }
            },
            "type": "scattergeo"
           }
          ],
          "scattergl": [
           {
            "marker": {
             "colorbar": {
              "outlinewidth": 0,
              "ticks": ""
             }
            },
            "type": "scattergl"
           }
          ],
          "scattermap": [
           {
            "marker": {
             "colorbar": {
              "outlinewidth": 0,
              "ticks": ""
             }
            },
            "type": "scattermap"
           }
          ],
          "scattermapbox": [
           {
            "marker": {
             "colorbar": {
              "outlinewidth": 0,
              "ticks": ""
             }
            },
            "type": "scattermapbox"
           }
          ],
          "scatterpolar": [
           {
            "marker": {
             "colorbar": {
              "outlinewidth": 0,
              "ticks": ""
             }
            },
            "type": "scatterpolar"
           }
          ],
          "scatterpolargl": [
           {
            "marker": {
             "colorbar": {
              "outlinewidth": 0,
              "ticks": ""
             }
            },
            "type": "scatterpolargl"
           }
          ],
          "scatterternary": [
           {
            "marker": {
             "colorbar": {
              "outlinewidth": 0,
              "ticks": ""
             }
            },
            "type": "scatterternary"
           }
          ],
          "surface": [
           {
            "colorbar": {
             "outlinewidth": 0,
             "ticks": ""
            },
            "colorscale": [
             [
              0,
              "#0d0887"
             ],
             [
              0.1111111111111111,
              "#46039f"
             ],
             [
              0.2222222222222222,
              "#7201a8"
             ],
             [
              0.3333333333333333,
              "#9c179e"
             ],
             [
              0.4444444444444444,
              "#bd3786"
             ],
             [
              0.5555555555555556,
              "#d8576b"
             ],
             [
              0.6666666666666666,
              "#ed7953"
             ],
             [
              0.7777777777777778,
              "#fb9f3a"
             ],
             [
              0.8888888888888888,
              "#fdca26"
             ],
             [
              1,
              "#f0f921"
             ]
            ],
            "type": "surface"
           }
          ],
          "table": [
           {
            "cells": {
             "fill": {
              "color": "#EBF0F8"
             },
             "line": {
              "color": "white"
             }
            },
            "header": {
             "fill": {
              "color": "#C8D4E3"
             },
             "line": {
              "color": "white"
             }
            },
            "type": "table"
           }
          ]
         },
         "layout": {
          "annotationdefaults": {
           "arrowcolor": "#2a3f5f",
           "arrowhead": 0,
           "arrowwidth": 1
          },
          "autotypenumbers": "strict",
          "coloraxis": {
           "colorbar": {
            "outlinewidth": 0,
            "ticks": ""
           }
          },
          "colorscale": {
           "diverging": [
            [
             0,
             "#8e0152"
            ],
            [
             0.1,
             "#c51b7d"
            ],
            [
             0.2,
             "#de77ae"
            ],
            [
             0.3,
             "#f1b6da"
            ],
            [
             0.4,
             "#fde0ef"
            ],
            [
             0.5,
             "#f7f7f7"
            ],
            [
             0.6,
             "#e6f5d0"
            ],
            [
             0.7,
             "#b8e186"
            ],
            [
             0.8,
             "#7fbc41"
            ],
            [
             0.9,
             "#4d9221"
            ],
            [
             1,
             "#276419"
            ]
           ],
           "sequential": [
            [
             0,
             "#0d0887"
            ],
            [
             0.1111111111111111,
             "#46039f"
            ],
            [
             0.2222222222222222,
             "#7201a8"
            ],
            [
             0.3333333333333333,
             "#9c179e"
            ],
            [
             0.4444444444444444,
             "#bd3786"
            ],
            [
             0.5555555555555556,
             "#d8576b"
            ],
            [
             0.6666666666666666,
             "#ed7953"
            ],
            [
             0.7777777777777778,
             "#fb9f3a"
            ],
            [
             0.8888888888888888,
             "#fdca26"
            ],
            [
             1,
             "#f0f921"
            ]
           ],
           "sequentialminus": [
            [
             0,
             "#0d0887"
            ],
            [
             0.1111111111111111,
             "#46039f"
            ],
            [
             0.2222222222222222,
             "#7201a8"
            ],
            [
             0.3333333333333333,
             "#9c179e"
            ],
            [
             0.4444444444444444,
             "#bd3786"
            ],
            [
             0.5555555555555556,
             "#d8576b"
            ],
            [
             0.6666666666666666,
             "#ed7953"
            ],
            [
             0.7777777777777778,
             "#fb9f3a"
            ],
            [
             0.8888888888888888,
             "#fdca26"
            ],
            [
             1,
             "#f0f921"
            ]
           ]
          },
          "colorway": [
           "#636efa",
           "#EF553B",
           "#00cc96",
           "#ab63fa",
           "#FFA15A",
           "#19d3f3",
           "#FF6692",
           "#B6E880",
           "#FF97FF",
           "#FECB52"
          ],
          "font": {
           "color": "#2a3f5f"
          },
          "geo": {
           "bgcolor": "white",
           "lakecolor": "white",
           "landcolor": "#E5ECF6",
           "showlakes": true,
           "showland": true,
           "subunitcolor": "white"
          },
          "hoverlabel": {
           "align": "left"
          },
          "hovermode": "closest",
          "mapbox": {
           "style": "light"
          },
          "paper_bgcolor": "white",
          "plot_bgcolor": "#E5ECF6",
          "polar": {
           "angularaxis": {
            "gridcolor": "white",
            "linecolor": "white",
            "ticks": ""
           },
           "bgcolor": "#E5ECF6",
           "radialaxis": {
            "gridcolor": "white",
            "linecolor": "white",
            "ticks": ""
           }
          },
          "scene": {
           "xaxis": {
            "backgroundcolor": "#E5ECF6",
            "gridcolor": "white",
            "gridwidth": 2,
            "linecolor": "white",
            "showbackground": true,
            "ticks": "",
            "zerolinecolor": "white"
           },
           "yaxis": {
            "backgroundcolor": "#E5ECF6",
            "gridcolor": "white",
            "gridwidth": 2,
            "linecolor": "white",
            "showbackground": true,
            "ticks": "",
            "zerolinecolor": "white"
           },
           "zaxis": {
            "backgroundcolor": "#E5ECF6",
            "gridcolor": "white",
            "gridwidth": 2,
            "linecolor": "white",
            "showbackground": true,
            "ticks": "",
            "zerolinecolor": "white"
           }
          },
          "shapedefaults": {
           "line": {
            "color": "#2a3f5f"
           }
          },
          "ternary": {
           "aaxis": {
            "gridcolor": "white",
            "linecolor": "white",
            "ticks": ""
           },
           "baxis": {
            "gridcolor": "white",
            "linecolor": "white",
            "ticks": ""
           },
           "bgcolor": "#E5ECF6",
           "caxis": {
            "gridcolor": "white",
            "linecolor": "white",
            "ticks": ""
           }
          },
          "title": {
           "x": 0.05
          },
          "xaxis": {
           "automargin": true,
           "gridcolor": "white",
           "linecolor": "white",
           "ticks": "",
           "title": {
            "standoff": 15
           },
           "zerolinecolor": "white",
           "zerolinewidth": 2
          },
          "yaxis": {
           "automargin": true,
           "gridcolor": "white",
           "linecolor": "white",
           "ticks": "",
           "title": {
            "standoff": 15
           },
           "zerolinecolor": "white",
           "zerolinewidth": 2
          }
         }
        },
        "title": {
         "text": "Nombre de commandes par ville"
        },
        "xaxis": {
         "anchor": "y",
         "categoryarray": [
          " Atlanta",
          " Austin",
          " Boston",
          " Dallas",
          " Los Angeles",
          " New York City",
          " Portland",
          " San Francisco",
          " Seattle"
         ],
         "categoryorder": "array",
         "domain": [
          0,
          1
         ],
         "title": {
          "text": "Ville"
         }
        },
        "yaxis": {
         "anchor": "x",
         "domain": [
          0,
          1
         ],
         "title": {
          "text": "Nombre_commandes"
         }
        }
       }
      }
     },
     "metadata": {},
     "output_type": "display_data"
    }
   ],
   "source": [
    "# Create a DataFrame from the ville_count series\n",
    "ville_df = pd.DataFrame({\n",
    "    'Ville': ville_count.index,\n",
    "    'Nombre_commandes': ville_count.values\n",
    "})\n",
    "\n",
    "# Create the bar plot\n",
    "fig = px.bar(ville_df, \n",
    "             x='Ville', \n",
    "             y='Nombre_commandes',\n",
    "             title='Nombre de commandes par ville',\n",
    "             color='Ville')\n",
    "\n",
    "fig.show()"
   ]
  },
  {
   "cell_type": "markdown",
   "id": "73d1ca31",
   "metadata": {},
   "source": [
    "#### Interprétation du graphique \"Nombre de commandes par ville\"\n",
    "##### Points clés :\n",
    "- Les données montrent une répartition inégale des commandes entre les différentes villes\n",
    "- La ville de San Francisco se démarque nettement avec le plus grand nombre de commandes\n",
    "- Los Angeles et New York suivent en deuxième et troisième position\n",
    "- Les autres villes présentent des volumes de commandes plus modérés\n",
    "##### Observations :\n",
    "- Il existe une forte concentration des commandes dans les grandes métropoles côtières\n",
    "- Les villes du centre du pays (comme Portland et Austin) enregistrent moins de commandes\n",
    "- Cette distribution pourrait s'expliquer par :\n",
    "   * La densité de population dans ces zones\n",
    "   * Le pouvoir d'achat des habitants\n",
    "   * L'efficacité des stratégies marketing locales"
   ]
  },
  {
   "cell_type": "markdown",
   "id": "d70e9a3b",
   "metadata": {},
   "source": [
    "# En quel moment doit on faire une campagne publicitaire pour avoir plus de ventes ?"
   ]
  },
  {
   "cell_type": "code",
   "execution_count": 155,
   "id": "10dd451e",
   "metadata": {},
   "outputs": [],
   "source": [
    "df['heure']= pd.to_datetime(df['Order Date'], format='%m/%d/%y %H:%M').dt.hour"
   ]
  },
  {
   "cell_type": "code",
   "execution_count": 156,
   "id": "1989b811",
   "metadata": {},
   "outputs": [
    {
     "data": {
      "application/vnd.microsoft.datawrangler.viewer.v0+json": {
       "columns": [
        {
         "name": "index",
         "rawType": "int64",
         "type": "integer"
        },
        {
         "name": "Order ID",
         "rawType": "object",
         "type": "string"
        },
        {
         "name": "Product",
         "rawType": "object",
         "type": "string"
        },
        {
         "name": "Quantity Ordered",
         "rawType": "int64",
         "type": "integer"
        },
        {
         "name": "Price Each",
         "rawType": "float64",
         "type": "float"
        },
        {
         "name": "Order Date",
         "rawType": "object",
         "type": "string"
        },
        {
         "name": "Purchase Address",
         "rawType": "object",
         "type": "string"
        },
        {
         "name": "Month",
         "rawType": "int64",
         "type": "integer"
        },
        {
         "name": "Chiffre_d'affaire",
         "rawType": "float64",
         "type": "float"
        },
        {
         "name": "ville",
         "rawType": "object",
         "type": "string"
        },
        {
         "name": "heure",
         "rawType": "int32",
         "type": "integer"
        }
       ],
       "ref": "8d3d4f0f-3cc9-47a4-b8f8-d1c0ee076839",
       "rows": [
        [
         "0",
         "176558",
         "USB-C Charging Cable",
         "2",
         "11.95",
         "04/19/19 08:46",
         "917 1st St, Dallas, TX 75001",
         "4",
         "23.9",
         " Dallas",
         "8"
        ],
        [
         "2",
         "176559",
         "Bose SoundSport Headphones",
         "1",
         "99.99",
         "04/07/19 22:30",
         "682 Chestnut St, Boston, MA 02215",
         "4",
         "99.99",
         " Boston",
         "22"
        ],
        [
         "3",
         "176560",
         "Google Phone",
         "1",
         "600.0",
         "04/12/19 14:38",
         "669 Spruce St, Los Angeles, CA 90001",
         "4",
         "600.0",
         " Los Angeles",
         "14"
        ],
        [
         "4",
         "176560",
         "Wired Headphones",
         "1",
         "11.99",
         "04/12/19 14:38",
         "669 Spruce St, Los Angeles, CA 90001",
         "4",
         "11.99",
         " Los Angeles",
         "14"
        ],
        [
         "5",
         "176561",
         "Wired Headphones",
         "1",
         "11.99",
         "04/30/19 09:27",
         "333 8th St, Los Angeles, CA 90001",
         "4",
         "11.99",
         " Los Angeles",
         "9"
        ],
        [
         "6",
         "176562",
         "USB-C Charging Cable",
         "1",
         "11.95",
         "04/29/19 13:03",
         "381 Wilson St, San Francisco, CA 94016",
         "4",
         "11.95",
         " San Francisco",
         "13"
        ],
        [
         "7",
         "176563",
         "Bose SoundSport Headphones",
         "1",
         "99.99",
         "04/02/19 07:46",
         "668 Center St, Seattle, WA 98101",
         "4",
         "99.99",
         " Seattle",
         "7"
        ],
        [
         "8",
         "176564",
         "USB-C Charging Cable",
         "1",
         "11.95",
         "04/12/19 10:58",
         "790 Ridge St, Atlanta, GA 30301",
         "4",
         "11.95",
         " Atlanta",
         "10"
        ],
        [
         "9",
         "176565",
         "Macbook Pro Laptop",
         "1",
         "1700.0",
         "04/24/19 10:38",
         "915 Willow St, San Francisco, CA 94016",
         "4",
         "1700.0",
         " San Francisco",
         "10"
        ],
        [
         "10",
         "176566",
         "Wired Headphones",
         "1",
         "11.99",
         "04/08/19 14:05",
         "83 7th St, Boston, MA 02215",
         "4",
         "11.99",
         " Boston",
         "14"
        ],
        [
         "11",
         "176567",
         "Google Phone",
         "1",
         "600.0",
         "04/18/19 17:18",
         "444 7th St, Los Angeles, CA 90001",
         "4",
         "600.0",
         " Los Angeles",
         "17"
        ],
        [
         "12",
         "176568",
         "Lightning Charging Cable",
         "1",
         "14.95",
         "04/15/19 12:18",
         "438 Elm St, Seattle, WA 98101",
         "4",
         "14.95",
         " Seattle",
         "12"
        ],
        [
         "13",
         "176569",
         "27in 4K Gaming Monitor",
         "1",
         "389.99",
         "04/16/19 19:23",
         "657 Hill St, Dallas, TX 75001",
         "4",
         "389.99",
         " Dallas",
         "19"
        ],
        [
         "14",
         "176570",
         "AA Batteries (4-pack)",
         "1",
         "3.84",
         "04/22/19 15:09",
         "186 12th St, Dallas, TX 75001",
         "4",
         "3.84",
         " Dallas",
         "15"
        ],
        [
         "15",
         "176571",
         "Lightning Charging Cable",
         "1",
         "14.95",
         "04/19/19 14:29",
         "253 Johnson St, Atlanta, GA 30301",
         "4",
         "14.95",
         " Atlanta",
         "14"
        ],
        [
         "16",
         "176572",
         "Apple Airpods Headphones",
         "1",
         "150.0",
         "04/04/19 20:30",
         "149 Dogwood St, New York City, NY 10001",
         "4",
         "150.0",
         " New York City",
         "20"
        ],
        [
         "17",
         "176573",
         "USB-C Charging Cable",
         "1",
         "11.95",
         "04/27/19 18:41",
         "214 Chestnut St, San Francisco, CA 94016",
         "4",
         "11.95",
         " San Francisco",
         "18"
        ],
        [
         "18",
         "176574",
         "Google Phone",
         "1",
         "600.0",
         "04/03/19 19:42",
         "20 Hill St, Los Angeles, CA 90001",
         "4",
         "600.0",
         " Los Angeles",
         "19"
        ],
        [
         "19",
         "176574",
         "USB-C Charging Cable",
         "1",
         "11.95",
         "04/03/19 19:42",
         "20 Hill St, Los Angeles, CA 90001",
         "4",
         "11.95",
         " Los Angeles",
         "19"
        ],
        [
         "20",
         "176575",
         "AAA Batteries (4-pack)",
         "1",
         "2.99",
         "04/27/19 00:30",
         "433 Hill St, New York City, NY 10001",
         "4",
         "2.99",
         " New York City",
         "0"
        ],
        [
         "21",
         "176576",
         "Apple Airpods Headphones",
         "1",
         "150.0",
         "04/28/19 11:42",
         "771 Ridge St, Los Angeles, CA 90001",
         "4",
         "150.0",
         " Los Angeles",
         "11"
        ],
        [
         "22",
         "176577",
         "Apple Airpods Headphones",
         "1",
         "150.0",
         "04/04/19 19:25",
         "260 Spruce St, Dallas, TX 75001",
         "4",
         "150.0",
         " Dallas",
         "19"
        ],
        [
         "23",
         "176578",
         "Apple Airpods Headphones",
         "1",
         "150.0",
         "04/09/19 23:35",
         "513 Church St, Boston, MA 02215",
         "4",
         "150.0",
         " Boston",
         "23"
        ],
        [
         "24",
         "176579",
         "AA Batteries (4-pack)",
         "1",
         "3.84",
         "04/11/19 10:23",
         "886 Jefferson St, New York City, NY 10001",
         "4",
         "3.84",
         " New York City",
         "10"
        ],
        [
         "25",
         "176580",
         "USB-C Charging Cable",
         "1",
         "11.95",
         "04/05/19 00:35",
         "886 Willow St, Los Angeles, CA 90001",
         "4",
         "11.95",
         " Los Angeles",
         "0"
        ],
        [
         "26",
         "176581",
         "iPhone",
         "1",
         "700.0",
         "04/09/19 21:38",
         "84 Jackson St, Boston, MA 02215",
         "4",
         "700.0",
         " Boston",
         "21"
        ],
        [
         "27",
         "176582",
         "Bose SoundSport Headphones",
         "1",
         "99.99",
         "04/27/19 12:20",
         "178 Lincoln St, Atlanta, GA 30301",
         "4",
         "99.99",
         " Atlanta",
         "12"
        ],
        [
         "28",
         "176583",
         "AAA Batteries (4-pack)",
         "2",
         "2.99",
         "04/20/19 12:00",
         "146 Jackson St, Portland, OR 97035",
         "4",
         "5.98",
         " Portland",
         "12"
        ],
        [
         "29",
         "176584",
         "Flatscreen TV",
         "1",
         "300.0",
         "04/24/19 20:39",
         "936 Church St, San Francisco, CA 94016",
         "4",
         "300.0",
         " San Francisco",
         "20"
        ],
        [
         "30",
         "176585",
         "Bose SoundSport Headphones",
         "1",
         "99.99",
         "04/07/19 11:31",
         "823 Highland St, Boston, MA 02215",
         "4",
         "99.99",
         " Boston",
         "11"
        ],
        [
         "31",
         "176585",
         "Bose SoundSport Headphones",
         "1",
         "99.99",
         "04/07/19 11:31",
         "823 Highland St, Boston, MA 02215",
         "4",
         "99.99",
         " Boston",
         "11"
        ],
        [
         "32",
         "176586",
         "AAA Batteries (4-pack)",
         "2",
         "2.99",
         "04/10/19 17:00",
         "365 Center St, San Francisco, CA 94016",
         "4",
         "5.98",
         " San Francisco",
         "17"
        ],
        [
         "33",
         "176586",
         "Google Phone",
         "1",
         "600.0",
         "04/10/19 17:00",
         "365 Center St, San Francisco, CA 94016",
         "4",
         "600.0",
         " San Francisco",
         "17"
        ],
        [
         "34",
         "176587",
         "27in FHD Monitor",
         "1",
         "149.99",
         "04/29/19 19:38",
         "557 5th St, Los Angeles, CA 90001",
         "4",
         "149.99",
         " Los Angeles",
         "19"
        ],
        [
         "35",
         "176588",
         "20in Monitor",
         "1",
         "109.99",
         "04/02/19 04:00",
         "765 Cherry St, Seattle, WA 98101",
         "4",
         "109.99",
         " Seattle",
         "4"
        ],
        [
         "36",
         "176589",
         "Lightning Charging Cable",
         "1",
         "14.95",
         "04/04/19 12:23",
         "846 Highland St, Atlanta, GA 30301",
         "4",
         "14.95",
         " Atlanta",
         "12"
        ],
        [
         "37",
         "176590",
         "Google Phone",
         "1",
         "600.0",
         "04/11/19 11:46",
         "873 6th St, New York City, NY 10001",
         "4",
         "600.0",
         " New York City",
         "11"
        ],
        [
         "38",
         "176591",
         "Apple Airpods Headphones",
         "1",
         "150.0",
         "04/21/19 07:21",
         "600 Maple St, Austin, TX 73301",
         "4",
         "150.0",
         " Austin",
         "7"
        ],
        [
         "39",
         "176592",
         "USB-C Charging Cable",
         "1",
         "11.95",
         "04/27/19 13:04",
         "352 4th St, Los Angeles, CA 90001",
         "4",
         "11.95",
         " Los Angeles",
         "13"
        ],
        [
         "40",
         "176593",
         "Lightning Charging Cable",
         "2",
         "14.95",
         "04/15/19 13:45",
         "906 7th St, Portland, OR 97035",
         "4",
         "29.9",
         " Portland",
         "13"
        ],
        [
         "41",
         "176594",
         "Wired Headphones",
         "1",
         "11.99",
         "04/17/19 23:04",
         "63 Maple St, San Francisco, CA 94016",
         "4",
         "11.99",
         " San Francisco",
         "23"
        ],
        [
         "42",
         "176595",
         "Wired Headphones",
         "3",
         "11.99",
         "04/02/19 09:11",
         "383 6th St, Los Angeles, CA 90001",
         "4",
         "35.97",
         " Los Angeles",
         "9"
        ],
        [
         "43",
         "176596",
         "Apple Airpods Headphones",
         "1",
         "150.0",
         "04/27/19 20:11",
         "572 Meadow St, Dallas, TX 75001",
         "4",
         "150.0",
         " Dallas",
         "20"
        ],
        [
         "44",
         "176597",
         "USB-C Charging Cable",
         "1",
         "11.95",
         "04/19/19 13:39",
         "681 11th St, San Francisco, CA 94016",
         "4",
         "11.95",
         " San Francisco",
         "13"
        ],
        [
         "45",
         "176598",
         "AAA Batteries (4-pack)",
         "2",
         "2.99",
         "04/21/19 20:33",
         "294 Park St, San Francisco, CA 94016",
         "4",
         "5.98",
         " San Francisco",
         "20"
        ],
        [
         "46",
         "176599",
         "Lightning Charging Cable",
         "1",
         "14.95",
         "04/11/19 15:25",
         "279 Maple St, New York City, NY 10001",
         "4",
         "14.95",
         " New York City",
         "15"
        ],
        [
         "47",
         "176600",
         "27in 4K Gaming Monitor",
         "1",
         "389.99",
         "04/30/19 15:54",
         "87 West St, Boston, MA 02215",
         "4",
         "389.99",
         " Boston",
         "15"
        ],
        [
         "48",
         "176601",
         "USB-C Charging Cable",
         "1",
         "11.95",
         "04/02/19 22:32",
         "754 10th St, Los Angeles, CA 90001",
         "4",
         "11.95",
         " Los Angeles",
         "22"
        ],
        [
         "49",
         "176602",
         "Lightning Charging Cable",
         "1",
         "14.95",
         "04/30/19 09:39",
         "9 Jefferson St, Dallas, TX 75001",
         "4",
         "14.95",
         " Dallas",
         "9"
        ],
        [
         "50",
         "176603",
         "USB-C Charging Cable",
         "1",
         "11.95",
         "04/01/19 07:46",
         "858 6th St, San Francisco, CA 94016",
         "4",
         "11.95",
         " San Francisco",
         "7"
        ]
       ],
       "shape": {
        "columns": 10,
        "rows": 185950
       }
      },
      "text/html": [
       "<div>\n",
       "<style scoped>\n",
       "    .dataframe tbody tr th:only-of-type {\n",
       "        vertical-align: middle;\n",
       "    }\n",
       "\n",
       "    .dataframe tbody tr th {\n",
       "        vertical-align: top;\n",
       "    }\n",
       "\n",
       "    .dataframe thead th {\n",
       "        text-align: right;\n",
       "    }\n",
       "</style>\n",
       "<table border=\"1\" class=\"dataframe\">\n",
       "  <thead>\n",
       "    <tr style=\"text-align: right;\">\n",
       "      <th></th>\n",
       "      <th>Order ID</th>\n",
       "      <th>Product</th>\n",
       "      <th>Quantity Ordered</th>\n",
       "      <th>Price Each</th>\n",
       "      <th>Order Date</th>\n",
       "      <th>Purchase Address</th>\n",
       "      <th>Month</th>\n",
       "      <th>Chiffre_d'affaire</th>\n",
       "      <th>ville</th>\n",
       "      <th>heure</th>\n",
       "    </tr>\n",
       "  </thead>\n",
       "  <tbody>\n",
       "    <tr>\n",
       "      <th>0</th>\n",
       "      <td>176558</td>\n",
       "      <td>USB-C Charging Cable</td>\n",
       "      <td>2</td>\n",
       "      <td>11.95</td>\n",
       "      <td>04/19/19 08:46</td>\n",
       "      <td>917 1st St, Dallas, TX 75001</td>\n",
       "      <td>4</td>\n",
       "      <td>23.90</td>\n",
       "      <td>Dallas</td>\n",
       "      <td>8</td>\n",
       "    </tr>\n",
       "    <tr>\n",
       "      <th>2</th>\n",
       "      <td>176559</td>\n",
       "      <td>Bose SoundSport Headphones</td>\n",
       "      <td>1</td>\n",
       "      <td>99.99</td>\n",
       "      <td>04/07/19 22:30</td>\n",
       "      <td>682 Chestnut St, Boston, MA 02215</td>\n",
       "      <td>4</td>\n",
       "      <td>99.99</td>\n",
       "      <td>Boston</td>\n",
       "      <td>22</td>\n",
       "    </tr>\n",
       "    <tr>\n",
       "      <th>3</th>\n",
       "      <td>176560</td>\n",
       "      <td>Google Phone</td>\n",
       "      <td>1</td>\n",
       "      <td>600.00</td>\n",
       "      <td>04/12/19 14:38</td>\n",
       "      <td>669 Spruce St, Los Angeles, CA 90001</td>\n",
       "      <td>4</td>\n",
       "      <td>600.00</td>\n",
       "      <td>Los Angeles</td>\n",
       "      <td>14</td>\n",
       "    </tr>\n",
       "    <tr>\n",
       "      <th>4</th>\n",
       "      <td>176560</td>\n",
       "      <td>Wired Headphones</td>\n",
       "      <td>1</td>\n",
       "      <td>11.99</td>\n",
       "      <td>04/12/19 14:38</td>\n",
       "      <td>669 Spruce St, Los Angeles, CA 90001</td>\n",
       "      <td>4</td>\n",
       "      <td>11.99</td>\n",
       "      <td>Los Angeles</td>\n",
       "      <td>14</td>\n",
       "    </tr>\n",
       "    <tr>\n",
       "      <th>5</th>\n",
       "      <td>176561</td>\n",
       "      <td>Wired Headphones</td>\n",
       "      <td>1</td>\n",
       "      <td>11.99</td>\n",
       "      <td>04/30/19 09:27</td>\n",
       "      <td>333 8th St, Los Angeles, CA 90001</td>\n",
       "      <td>4</td>\n",
       "      <td>11.99</td>\n",
       "      <td>Los Angeles</td>\n",
       "      <td>9</td>\n",
       "    </tr>\n",
       "    <tr>\n",
       "      <th>...</th>\n",
       "      <td>...</td>\n",
       "      <td>...</td>\n",
       "      <td>...</td>\n",
       "      <td>...</td>\n",
       "      <td>...</td>\n",
       "      <td>...</td>\n",
       "      <td>...</td>\n",
       "      <td>...</td>\n",
       "      <td>...</td>\n",
       "      <td>...</td>\n",
       "    </tr>\n",
       "    <tr>\n",
       "      <th>186845</th>\n",
       "      <td>259353</td>\n",
       "      <td>AAA Batteries (4-pack)</td>\n",
       "      <td>3</td>\n",
       "      <td>2.99</td>\n",
       "      <td>09/17/19 20:56</td>\n",
       "      <td>840 Highland St, Los Angeles, CA 90001</td>\n",
       "      <td>9</td>\n",
       "      <td>8.97</td>\n",
       "      <td>Los Angeles</td>\n",
       "      <td>20</td>\n",
       "    </tr>\n",
       "    <tr>\n",
       "      <th>186846</th>\n",
       "      <td>259354</td>\n",
       "      <td>iPhone</td>\n",
       "      <td>1</td>\n",
       "      <td>700.00</td>\n",
       "      <td>09/01/19 16:00</td>\n",
       "      <td>216 Dogwood St, San Francisco, CA 94016</td>\n",
       "      <td>9</td>\n",
       "      <td>700.00</td>\n",
       "      <td>San Francisco</td>\n",
       "      <td>16</td>\n",
       "    </tr>\n",
       "    <tr>\n",
       "      <th>186847</th>\n",
       "      <td>259355</td>\n",
       "      <td>iPhone</td>\n",
       "      <td>1</td>\n",
       "      <td>700.00</td>\n",
       "      <td>09/23/19 07:39</td>\n",
       "      <td>220 12th St, San Francisco, CA 94016</td>\n",
       "      <td>9</td>\n",
       "      <td>700.00</td>\n",
       "      <td>San Francisco</td>\n",
       "      <td>7</td>\n",
       "    </tr>\n",
       "    <tr>\n",
       "      <th>186848</th>\n",
       "      <td>259356</td>\n",
       "      <td>34in Ultrawide Monitor</td>\n",
       "      <td>1</td>\n",
       "      <td>379.99</td>\n",
       "      <td>09/19/19 17:30</td>\n",
       "      <td>511 Forest St, San Francisco, CA 94016</td>\n",
       "      <td>9</td>\n",
       "      <td>379.99</td>\n",
       "      <td>San Francisco</td>\n",
       "      <td>17</td>\n",
       "    </tr>\n",
       "    <tr>\n",
       "      <th>186849</th>\n",
       "      <td>259357</td>\n",
       "      <td>USB-C Charging Cable</td>\n",
       "      <td>1</td>\n",
       "      <td>11.95</td>\n",
       "      <td>09/30/19 00:18</td>\n",
       "      <td>250 Meadow St, San Francisco, CA 94016</td>\n",
       "      <td>9</td>\n",
       "      <td>11.95</td>\n",
       "      <td>San Francisco</td>\n",
       "      <td>0</td>\n",
       "    </tr>\n",
       "  </tbody>\n",
       "</table>\n",
       "<p>185950 rows × 10 columns</p>\n",
       "</div>"
      ],
      "text/plain": [
       "       Order ID                     Product  Quantity Ordered  Price Each  \\\n",
       "0        176558        USB-C Charging Cable                 2       11.95   \n",
       "2        176559  Bose SoundSport Headphones                 1       99.99   \n",
       "3        176560                Google Phone                 1      600.00   \n",
       "4        176560            Wired Headphones                 1       11.99   \n",
       "5        176561            Wired Headphones                 1       11.99   \n",
       "...         ...                         ...               ...         ...   \n",
       "186845   259353      AAA Batteries (4-pack)                 3        2.99   \n",
       "186846   259354                      iPhone                 1      700.00   \n",
       "186847   259355                      iPhone                 1      700.00   \n",
       "186848   259356      34in Ultrawide Monitor                 1      379.99   \n",
       "186849   259357        USB-C Charging Cable                 1       11.95   \n",
       "\n",
       "            Order Date                         Purchase Address  Month  \\\n",
       "0       04/19/19 08:46             917 1st St, Dallas, TX 75001      4   \n",
       "2       04/07/19 22:30        682 Chestnut St, Boston, MA 02215      4   \n",
       "3       04/12/19 14:38     669 Spruce St, Los Angeles, CA 90001      4   \n",
       "4       04/12/19 14:38     669 Spruce St, Los Angeles, CA 90001      4   \n",
       "5       04/30/19 09:27        333 8th St, Los Angeles, CA 90001      4   \n",
       "...                ...                                      ...    ...   \n",
       "186845  09/17/19 20:56   840 Highland St, Los Angeles, CA 90001      9   \n",
       "186846  09/01/19 16:00  216 Dogwood St, San Francisco, CA 94016      9   \n",
       "186847  09/23/19 07:39     220 12th St, San Francisco, CA 94016      9   \n",
       "186848  09/19/19 17:30   511 Forest St, San Francisco, CA 94016      9   \n",
       "186849  09/30/19 00:18   250 Meadow St, San Francisco, CA 94016      9   \n",
       "\n",
       "        Chiffre_d'affaire           ville  heure  \n",
       "0                   23.90          Dallas      8  \n",
       "2                   99.99          Boston     22  \n",
       "3                  600.00     Los Angeles     14  \n",
       "4                   11.99     Los Angeles     14  \n",
       "5                   11.99     Los Angeles      9  \n",
       "...                   ...             ...    ...  \n",
       "186845               8.97     Los Angeles     20  \n",
       "186846             700.00   San Francisco     16  \n",
       "186847             700.00   San Francisco      7  \n",
       "186848             379.99   San Francisco     17  \n",
       "186849              11.95   San Francisco      0  \n",
       "\n",
       "[185950 rows x 10 columns]"
      ]
     },
     "execution_count": 156,
     "metadata": {},
     "output_type": "execute_result"
    }
   ],
   "source": [
    "df"
   ]
  },
  {
   "cell_type": "code",
   "execution_count": 157,
   "id": "59afd2f2",
   "metadata": {},
   "outputs": [
    {
     "data": {
      "text/plain": [
       "[3910,\n",
       " 2350,\n",
       " 1243,\n",
       " 831,\n",
       " 854,\n",
       " 1321,\n",
       " 2482,\n",
       " 4011,\n",
       " 6256,\n",
       " 8748,\n",
       " 10944,\n",
       " 12411,\n",
       " 12587,\n",
       " 12129,\n",
       " 10984,\n",
       " 10175,\n",
       " 10384,\n",
       " 10899,\n",
       " 12280,\n",
       " 12905,\n",
       " 12228,\n",
       " 10921,\n",
       " 8822,\n",
       " 6275]"
      ]
     },
     "execution_count": 157,
     "metadata": {},
     "output_type": "execute_result"
    }
   ],
   "source": [
    "# Initialisation de deux listes vides pour stocker les heures et le nombre de commandes par heure\n",
    "keys_list = []\n",
    "heures_list = []\n",
    "\n",
    "# Groupement du DataFrame par la colonne 'heure' et itération sur chaque groupe\n",
    "# Pour chaque heure unique, 'key' contiendra l'heure et 'group' sera un sous-DataFrame \n",
    "# contenant toutes les commandes passées à cette heure.\n",
    "for key, group in df.groupby('heure'):\n",
    "    # Ajout de l'heure (la clé du groupe) à la liste des clés\n",
    "    keys_list.append(key)\n",
    "    # Ajout du nombre de commandes (la taille du groupe) à la liste des heures\n",
    "    heures_list.append(len(group))\n",
    "\n",
    "# Affichage de la liste contenant le nombre de commandes pour chaque heure\n",
    "heures_list"
   ]
  },
  {
   "cell_type": "code",
   "execution_count": 158,
   "id": "82c3752d",
   "metadata": {},
   "outputs": [
    {
     "data": {
      "application/vnd.plotly.v1+json": {
       "config": {
        "plotlyServerURL": "https://plot.ly"
       },
       "data": [
        {
         "hovertemplate": "Heure de la journée=%{x}<br>Nombre de commandes=%{y}<extra></extra>",
         "legendgroup": "",
         "line": {
          "color": "#636efa",
          "dash": "solid"
         },
         "marker": {
          "symbol": "circle"
         },
         "mode": "lines+markers",
         "name": "",
         "orientation": "v",
         "showlegend": false,
         "type": "scatter",
         "x": {
          "bdata": "AAECAwQFBgcICQoLDA0ODxAREhMUFRYX",
          "dtype": "i1"
         },
         "xaxis": "x",
         "y": {
          "bdata": "Rg8uCdsEPwNWAykFsgmrD3AYLCLAKnswKzFhL+gqvyeQKJMq+C9pMsQvqSp2IoMY",
          "dtype": "i2"
         },
         "yaxis": "y"
        }
       ],
       "layout": {
        "legend": {
         "tracegroupgap": 0
        },
        "template": {
         "data": {
          "bar": [
           {
            "error_x": {
             "color": "#2a3f5f"
            },
            "error_y": {
             "color": "#2a3f5f"
            },
            "marker": {
             "line": {
              "color": "white",
              "width": 0.5
             },
             "pattern": {
              "fillmode": "overlay",
              "size": 10,
              "solidity": 0.2
             }
            },
            "type": "bar"
           }
          ],
          "barpolar": [
           {
            "marker": {
             "line": {
              "color": "white",
              "width": 0.5
             },
             "pattern": {
              "fillmode": "overlay",
              "size": 10,
              "solidity": 0.2
             }
            },
            "type": "barpolar"
           }
          ],
          "carpet": [
           {
            "aaxis": {
             "endlinecolor": "#2a3f5f",
             "gridcolor": "#C8D4E3",
             "linecolor": "#C8D4E3",
             "minorgridcolor": "#C8D4E3",
             "startlinecolor": "#2a3f5f"
            },
            "baxis": {
             "endlinecolor": "#2a3f5f",
             "gridcolor": "#C8D4E3",
             "linecolor": "#C8D4E3",
             "minorgridcolor": "#C8D4E3",
             "startlinecolor": "#2a3f5f"
            },
            "type": "carpet"
           }
          ],
          "choropleth": [
           {
            "colorbar": {
             "outlinewidth": 0,
             "ticks": ""
            },
            "type": "choropleth"
           }
          ],
          "contour": [
           {
            "colorbar": {
             "outlinewidth": 0,
             "ticks": ""
            },
            "colorscale": [
             [
              0,
              "#0d0887"
             ],
             [
              0.1111111111111111,
              "#46039f"
             ],
             [
              0.2222222222222222,
              "#7201a8"
             ],
             [
              0.3333333333333333,
              "#9c179e"
             ],
             [
              0.4444444444444444,
              "#bd3786"
             ],
             [
              0.5555555555555556,
              "#d8576b"
             ],
             [
              0.6666666666666666,
              "#ed7953"
             ],
             [
              0.7777777777777778,
              "#fb9f3a"
             ],
             [
              0.8888888888888888,
              "#fdca26"
             ],
             [
              1,
              "#f0f921"
             ]
            ],
            "type": "contour"
           }
          ],
          "contourcarpet": [
           {
            "colorbar": {
             "outlinewidth": 0,
             "ticks": ""
            },
            "type": "contourcarpet"
           }
          ],
          "heatmap": [
           {
            "colorbar": {
             "outlinewidth": 0,
             "ticks": ""
            },
            "colorscale": [
             [
              0,
              "#0d0887"
             ],
             [
              0.1111111111111111,
              "#46039f"
             ],
             [
              0.2222222222222222,
              "#7201a8"
             ],
             [
              0.3333333333333333,
              "#9c179e"
             ],
             [
              0.4444444444444444,
              "#bd3786"
             ],
             [
              0.5555555555555556,
              "#d8576b"
             ],
             [
              0.6666666666666666,
              "#ed7953"
             ],
             [
              0.7777777777777778,
              "#fb9f3a"
             ],
             [
              0.8888888888888888,
              "#fdca26"
             ],
             [
              1,
              "#f0f921"
             ]
            ],
            "type": "heatmap"
           }
          ],
          "histogram": [
           {
            "marker": {
             "pattern": {
              "fillmode": "overlay",
              "size": 10,
              "solidity": 0.2
             }
            },
            "type": "histogram"
           }
          ],
          "histogram2d": [
           {
            "colorbar": {
             "outlinewidth": 0,
             "ticks": ""
            },
            "colorscale": [
             [
              0,
              "#0d0887"
             ],
             [
              0.1111111111111111,
              "#46039f"
             ],
             [
              0.2222222222222222,
              "#7201a8"
             ],
             [
              0.3333333333333333,
              "#9c179e"
             ],
             [
              0.4444444444444444,
              "#bd3786"
             ],
             [
              0.5555555555555556,
              "#d8576b"
             ],
             [
              0.6666666666666666,
              "#ed7953"
             ],
             [
              0.7777777777777778,
              "#fb9f3a"
             ],
             [
              0.8888888888888888,
              "#fdca26"
             ],
             [
              1,
              "#f0f921"
             ]
            ],
            "type": "histogram2d"
           }
          ],
          "histogram2dcontour": [
           {
            "colorbar": {
             "outlinewidth": 0,
             "ticks": ""
            },
            "colorscale": [
             [
              0,
              "#0d0887"
             ],
             [
              0.1111111111111111,
              "#46039f"
             ],
             [
              0.2222222222222222,
              "#7201a8"
             ],
             [
              0.3333333333333333,
              "#9c179e"
             ],
             [
              0.4444444444444444,
              "#bd3786"
             ],
             [
              0.5555555555555556,
              "#d8576b"
             ],
             [
              0.6666666666666666,
              "#ed7953"
             ],
             [
              0.7777777777777778,
              "#fb9f3a"
             ],
             [
              0.8888888888888888,
              "#fdca26"
             ],
             [
              1,
              "#f0f921"
             ]
            ],
            "type": "histogram2dcontour"
           }
          ],
          "mesh3d": [
           {
            "colorbar": {
             "outlinewidth": 0,
             "ticks": ""
            },
            "type": "mesh3d"
           }
          ],
          "parcoords": [
           {
            "line": {
             "colorbar": {
              "outlinewidth": 0,
              "ticks": ""
             }
            },
            "type": "parcoords"
           }
          ],
          "pie": [
           {
            "automargin": true,
            "type": "pie"
           }
          ],
          "scatter": [
           {
            "fillpattern": {
             "fillmode": "overlay",
             "size": 10,
             "solidity": 0.2
            },
            "type": "scatter"
           }
          ],
          "scatter3d": [
           {
            "line": {
             "colorbar": {
              "outlinewidth": 0,
              "ticks": ""
             }
            },
            "marker": {
             "colorbar": {
              "outlinewidth": 0,
              "ticks": ""
             }
            },
            "type": "scatter3d"
           }
          ],
          "scattercarpet": [
           {
            "marker": {
             "colorbar": {
              "outlinewidth": 0,
              "ticks": ""
             }
            },
            "type": "scattercarpet"
           }
          ],
          "scattergeo": [
           {
            "marker": {
             "colorbar": {
              "outlinewidth": 0,
              "ticks": ""
             }
            },
            "type": "scattergeo"
           }
          ],
          "scattergl": [
           {
            "marker": {
             "colorbar": {
              "outlinewidth": 0,
              "ticks": ""
             }
            },
            "type": "scattergl"
           }
          ],
          "scattermap": [
           {
            "marker": {
             "colorbar": {
              "outlinewidth": 0,
              "ticks": ""
             }
            },
            "type": "scattermap"
           }
          ],
          "scattermapbox": [
           {
            "marker": {
             "colorbar": {
              "outlinewidth": 0,
              "ticks": ""
             }
            },
            "type": "scattermapbox"
           }
          ],
          "scatterpolar": [
           {
            "marker": {
             "colorbar": {
              "outlinewidth": 0,
              "ticks": ""
             }
            },
            "type": "scatterpolar"
           }
          ],
          "scatterpolargl": [
           {
            "marker": {
             "colorbar": {
              "outlinewidth": 0,
              "ticks": ""
             }
            },
            "type": "scatterpolargl"
           }
          ],
          "scatterternary": [
           {
            "marker": {
             "colorbar": {
              "outlinewidth": 0,
              "ticks": ""
             }
            },
            "type": "scatterternary"
           }
          ],
          "surface": [
           {
            "colorbar": {
             "outlinewidth": 0,
             "ticks": ""
            },
            "colorscale": [
             [
              0,
              "#0d0887"
             ],
             [
              0.1111111111111111,
              "#46039f"
             ],
             [
              0.2222222222222222,
              "#7201a8"
             ],
             [
              0.3333333333333333,
              "#9c179e"
             ],
             [
              0.4444444444444444,
              "#bd3786"
             ],
             [
              0.5555555555555556,
              "#d8576b"
             ],
             [
              0.6666666666666666,
              "#ed7953"
             ],
             [
              0.7777777777777778,
              "#fb9f3a"
             ],
             [
              0.8888888888888888,
              "#fdca26"
             ],
             [
              1,
              "#f0f921"
             ]
            ],
            "type": "surface"
           }
          ],
          "table": [
           {
            "cells": {
             "fill": {
              "color": "#EBF0F8"
             },
             "line": {
              "color": "white"
             }
            },
            "header": {
             "fill": {
              "color": "#C8D4E3"
             },
             "line": {
              "color": "white"
             }
            },
            "type": "table"
           }
          ]
         },
         "layout": {
          "annotationdefaults": {
           "arrowcolor": "#2a3f5f",
           "arrowhead": 0,
           "arrowwidth": 1
          },
          "autotypenumbers": "strict",
          "coloraxis": {
           "colorbar": {
            "outlinewidth": 0,
            "ticks": ""
           }
          },
          "colorscale": {
           "diverging": [
            [
             0,
             "#8e0152"
            ],
            [
             0.1,
             "#c51b7d"
            ],
            [
             0.2,
             "#de77ae"
            ],
            [
             0.3,
             "#f1b6da"
            ],
            [
             0.4,
             "#fde0ef"
            ],
            [
             0.5,
             "#f7f7f7"
            ],
            [
             0.6,
             "#e6f5d0"
            ],
            [
             0.7,
             "#b8e186"
            ],
            [
             0.8,
             "#7fbc41"
            ],
            [
             0.9,
             "#4d9221"
            ],
            [
             1,
             "#276419"
            ]
           ],
           "sequential": [
            [
             0,
             "#0d0887"
            ],
            [
             0.1111111111111111,
             "#46039f"
            ],
            [
             0.2222222222222222,
             "#7201a8"
            ],
            [
             0.3333333333333333,
             "#9c179e"
            ],
            [
             0.4444444444444444,
             "#bd3786"
            ],
            [
             0.5555555555555556,
             "#d8576b"
            ],
            [
             0.6666666666666666,
             "#ed7953"
            ],
            [
             0.7777777777777778,
             "#fb9f3a"
            ],
            [
             0.8888888888888888,
             "#fdca26"
            ],
            [
             1,
             "#f0f921"
            ]
           ],
           "sequentialminus": [
            [
             0,
             "#0d0887"
            ],
            [
             0.1111111111111111,
             "#46039f"
            ],
            [
             0.2222222222222222,
             "#7201a8"
            ],
            [
             0.3333333333333333,
             "#9c179e"
            ],
            [
             0.4444444444444444,
             "#bd3786"
            ],
            [
             0.5555555555555556,
             "#d8576b"
            ],
            [
             0.6666666666666666,
             "#ed7953"
            ],
            [
             0.7777777777777778,
             "#fb9f3a"
            ],
            [
             0.8888888888888888,
             "#fdca26"
            ],
            [
             1,
             "#f0f921"
            ]
           ]
          },
          "colorway": [
           "#636efa",
           "#EF553B",
           "#00cc96",
           "#ab63fa",
           "#FFA15A",
           "#19d3f3",
           "#FF6692",
           "#B6E880",
           "#FF97FF",
           "#FECB52"
          ],
          "font": {
           "color": "#2a3f5f"
          },
          "geo": {
           "bgcolor": "white",
           "lakecolor": "white",
           "landcolor": "white",
           "showlakes": true,
           "showland": true,
           "subunitcolor": "#C8D4E3"
          },
          "hoverlabel": {
           "align": "left"
          },
          "hovermode": "closest",
          "mapbox": {
           "style": "light"
          },
          "paper_bgcolor": "white",
          "plot_bgcolor": "white",
          "polar": {
           "angularaxis": {
            "gridcolor": "#EBF0F8",
            "linecolor": "#EBF0F8",
            "ticks": ""
           },
           "bgcolor": "white",
           "radialaxis": {
            "gridcolor": "#EBF0F8",
            "linecolor": "#EBF0F8",
            "ticks": ""
           }
          },
          "scene": {
           "xaxis": {
            "backgroundcolor": "white",
            "gridcolor": "#DFE8F3",
            "gridwidth": 2,
            "linecolor": "#EBF0F8",
            "showbackground": true,
            "ticks": "",
            "zerolinecolor": "#EBF0F8"
           },
           "yaxis": {
            "backgroundcolor": "white",
            "gridcolor": "#DFE8F3",
            "gridwidth": 2,
            "linecolor": "#EBF0F8",
            "showbackground": true,
            "ticks": "",
            "zerolinecolor": "#EBF0F8"
           },
           "zaxis": {
            "backgroundcolor": "white",
            "gridcolor": "#DFE8F3",
            "gridwidth": 2,
            "linecolor": "#EBF0F8",
            "showbackground": true,
            "ticks": "",
            "zerolinecolor": "#EBF0F8"
           }
          },
          "shapedefaults": {
           "line": {
            "color": "#2a3f5f"
           }
          },
          "ternary": {
           "aaxis": {
            "gridcolor": "#DFE8F3",
            "linecolor": "#A2B1C6",
            "ticks": ""
           },
           "baxis": {
            "gridcolor": "#DFE8F3",
            "linecolor": "#A2B1C6",
            "ticks": ""
           },
           "bgcolor": "white",
           "caxis": {
            "gridcolor": "#DFE8F3",
            "linecolor": "#A2B1C6",
            "ticks": ""
           }
          },
          "title": {
           "x": 0.05
          },
          "xaxis": {
           "automargin": true,
           "gridcolor": "#EBF0F8",
           "linecolor": "#EBF0F8",
           "ticks": "",
           "title": {
            "standoff": 15
           },
           "zerolinecolor": "#EBF0F8",
           "zerolinewidth": 2
          },
          "yaxis": {
           "automargin": true,
           "gridcolor": "#EBF0F8",
           "linecolor": "#EBF0F8",
           "ticks": "",
           "title": {
            "standoff": 15
           },
           "zerolinecolor": "#EBF0F8",
           "zerolinewidth": 2
          }
         }
        },
        "title": {
         "text": "Évolution du nombre de commandes au cours de la journée"
        },
        "xaxis": {
         "anchor": "y",
         "domain": [
          0,
          1
         ],
         "tickmode": "linear",
         "title": {
          "text": "Heure de la journée (0-23h)"
         }
        },
        "yaxis": {
         "anchor": "x",
         "domain": [
          0,
          1
         ],
         "title": {
          "text": "Volume des commandes"
         }
        }
       }
      }
     },
     "metadata": {},
     "output_type": "display_data"
    }
   ],
   "source": [
    "# Créer un DataFrame pour une meilleure manipulation avec Plotly\n",
    "hourly_sales_df = pd.DataFrame({\n",
    "    'Heure': keys_list,\n",
    "    'Nombre_commandes': heures_list\n",
    "}).sort_values('Heure')\n",
    "\n",
    "# Créer le graphique en ligne avec des améliorations\n",
    "fig = px.line(hourly_sales_df, \n",
    "              x='Heure', \n",
    "              y='Nombre_commandes',\n",
    "              title='Évolution du nombre de commandes au cours de la journée',\n",
    "              labels={\n",
    "                  'Heure': 'Heure de la journée',\n",
    "                  'Nombre_commandes': 'Nombre de commandes'\n",
    "              },\n",
    "              markers=True) # Ajoute des points sur la ligne pour chaque heure\n",
    "\n",
    "# Personnaliser davantage l'apparence du graphique\n",
    "fig.update_layout(\n",
    "    xaxis_title='Heure de la journée (0-23h)',\n",
    "    yaxis_title='Volume des commandes',\n",
    "    template='plotly_white', # Utiliser un thème épuré\n",
    "    xaxis=dict(tickmode='linear') # S'assurer que toutes les heures sont affichées\n",
    ")\n",
    "\n",
    "fig.show()"
   ]
  },
  {
   "cell_type": "markdown",
   "id": "dbebc853",
   "metadata": {},
   "source": [
    "#### Interprétation de l'évolution du nombre de commandes au cours de la journée\n",
    "\n",
    "##### Points Clés :\n",
    "- Le graphique montre deux pics d'activité commerciale au cours de la journée.\n",
    "- Le premier pic, plus modéré, se situe autour de midi (11h-13h).\n",
    "- Le second pic, beaucoup plus important, a lieu en soirée, aux alentours de 19h (18h-20h).\n",
    "- L'activité est la plus faible durant la nuit et tôt le matin (entre 0h et 8h).\n",
    "##### Analyse des Pics d'Activité :\n",
    "1) Le pic de midi (11h-13h) : Ce créneau correspond probablement à la pause déjeuner, un moment où les gens ont du temps libre pour naviguer et faire des achats en ligne.\n",
    "2) Le pic du soir (18h-20h) : C'est le moment le plus actif de la journée. Il coïncide avec la fin de la journée de travail, lorsque les clients sont rentrés chez eux et disposent de plus de temps pour leurs achats personnels.\n",
    "##### Recommandations Stratégiques :\n",
    "- Pour maximiser l'impact d'une campagne publicitaire, il est conseillé de la diffuser juste avant et pendant ces pics d'activité.\n",
    "\n",
    "- Campagne du midi : Lancer des publicités entre 10h30 et 13h pour capter l'attention des acheteurs pendant leur pause déjeuner.\n",
    "- Campagne du soir (prioritaire) : Concentrer le budget publicitaire principal entre 18h et 20h. C'est la fenêtre où le potentiel de conversion est le plus élevé, car le plus grand nombre de clients est actif.\n",
    "  \n",
    "En conclusion, les moments les plus opportuns pour une campagne publicitaire sont juste avant midi et, surtout, en début de soirée vers 19h."
   ]
  },
  {
   "cell_type": "markdown",
   "id": "a987439b",
   "metadata": {},
   "source": [
    "# Quel produit se vend le plus ?"
   ]
  },
  {
   "cell_type": "code",
   "execution_count": 159,
   "id": "b6a7d9f8",
   "metadata": {},
   "outputs": [
    {
     "data": {
      "application/vnd.microsoft.datawrangler.viewer.v0+json": {
       "columns": [
        {
         "name": "Product",
         "rawType": "object",
         "type": "string"
        },
        {
         "name": "Quantity Ordered",
         "rawType": "int64",
         "type": "integer"
        }
       ],
       "ref": "7451e526-dadb-44a3-8f4f-afb45f211a7b",
       "rows": [
        [
         "20in Monitor",
         "4129"
        ],
        [
         "27in 4K Gaming Monitor",
         "6244"
        ],
        [
         "27in FHD Monitor",
         "7550"
        ],
        [
         "34in Ultrawide Monitor",
         "6199"
        ],
        [
         "AA Batteries (4-pack)",
         "27635"
        ],
        [
         "AAA Batteries (4-pack)",
         "31017"
        ],
        [
         "Apple Airpods Headphones",
         "15661"
        ],
        [
         "Bose SoundSport Headphones",
         "13457"
        ],
        [
         "Flatscreen TV",
         "4819"
        ],
        [
         "Google Phone",
         "5532"
        ],
        [
         "LG Dryer",
         "646"
        ],
        [
         "LG Washing Machine",
         "666"
        ],
        [
         "Lightning Charging Cable",
         "23217"
        ],
        [
         "Macbook Pro Laptop",
         "4728"
        ],
        [
         "ThinkPad Laptop",
         "4130"
        ],
        [
         "USB-C Charging Cable",
         "23975"
        ],
        [
         "Vareebadd Phone",
         "2068"
        ],
        [
         "Wired Headphones",
         "20557"
        ],
        [
         "iPhone",
         "6849"
        ]
       ],
       "shape": {
        "columns": 1,
        "rows": 19
       }
      },
      "text/plain": [
       "Product\n",
       "20in Monitor                   4129\n",
       "27in 4K Gaming Monitor         6244\n",
       "27in FHD Monitor               7550\n",
       "34in Ultrawide Monitor         6199\n",
       "AA Batteries (4-pack)         27635\n",
       "AAA Batteries (4-pack)        31017\n",
       "Apple Airpods Headphones      15661\n",
       "Bose SoundSport Headphones    13457\n",
       "Flatscreen TV                  4819\n",
       "Google Phone                   5532\n",
       "LG Dryer                        646\n",
       "LG Washing Machine              666\n",
       "Lightning Charging Cable      23217\n",
       "Macbook Pro Laptop             4728\n",
       "ThinkPad Laptop                4130\n",
       "USB-C Charging Cable          23975\n",
       "Vareebadd Phone                2068\n",
       "Wired Headphones              20557\n",
       "iPhone                         6849\n",
       "Name: Quantity Ordered, dtype: int64"
      ]
     },
     "execution_count": 159,
     "metadata": {},
     "output_type": "execute_result"
    }
   ],
   "source": [
    "produit_vendu= df.groupby('Product')['Quantity Ordered'].sum()\n",
    "produit_vendu"
   ]
  },
  {
   "cell_type": "code",
   "execution_count": 160,
   "id": "e44ce6ec",
   "metadata": {},
   "outputs": [
    {
     "data": {
      "application/vnd.plotly.v1+json": {
       "config": {
        "plotlyServerURL": "https://plot.ly"
       },
       "data": [
        {
         "hovertemplate": "variable=Quantity Ordered<br>Product=%{x}<br>value=%{y}<extra></extra>",
         "legendgroup": "Quantity Ordered",
         "marker": {
          "color": "#636efa",
          "pattern": {
           "shape": ""
          }
         },
         "name": "Quantity Ordered",
         "orientation": "v",
         "showlegend": true,
         "textposition": "auto",
         "type": "bar",
         "x": [
          "20in Monitor",
          "27in 4K Gaming Monitor",
          "27in FHD Monitor",
          "34in Ultrawide Monitor",
          "AA Batteries (4-pack)",
          "AAA Batteries (4-pack)",
          "Apple Airpods Headphones",
          "Bose SoundSport Headphones",
          "Flatscreen TV",
          "Google Phone",
          "LG Dryer",
          "LG Washing Machine",
          "Lightning Charging Cable",
          "Macbook Pro Laptop",
          "ThinkPad Laptop",
          "USB-C Charging Cable",
          "Vareebadd Phone",
          "Wired Headphones",
          "iPhone"
         ],
         "xaxis": "x",
         "y": {
          "bdata": "IRBkGH4dNxjzayl5LT2RNNMSnBWGApoCsVp4EiIQp10UCE1QwRo=",
          "dtype": "i2"
         },
         "yaxis": "y"
        }
       ],
       "layout": {
        "barmode": "relative",
        "legend": {
         "title": {
          "text": "variable"
         },
         "tracegroupgap": 0
        },
        "margin": {
         "t": 60
        },
        "template": {
         "data": {
          "bar": [
           {
            "error_x": {
             "color": "#2a3f5f"
            },
            "error_y": {
             "color": "#2a3f5f"
            },
            "marker": {
             "line": {
              "color": "#E5ECF6",
              "width": 0.5
             },
             "pattern": {
              "fillmode": "overlay",
              "size": 10,
              "solidity": 0.2
             }
            },
            "type": "bar"
           }
          ],
          "barpolar": [
           {
            "marker": {
             "line": {
              "color": "#E5ECF6",
              "width": 0.5
             },
             "pattern": {
              "fillmode": "overlay",
              "size": 10,
              "solidity": 0.2
             }
            },
            "type": "barpolar"
           }
          ],
          "carpet": [
           {
            "aaxis": {
             "endlinecolor": "#2a3f5f",
             "gridcolor": "white",
             "linecolor": "white",
             "minorgridcolor": "white",
             "startlinecolor": "#2a3f5f"
            },
            "baxis": {
             "endlinecolor": "#2a3f5f",
             "gridcolor": "white",
             "linecolor": "white",
             "minorgridcolor": "white",
             "startlinecolor": "#2a3f5f"
            },
            "type": "carpet"
           }
          ],
          "choropleth": [
           {
            "colorbar": {
             "outlinewidth": 0,
             "ticks": ""
            },
            "type": "choropleth"
           }
          ],
          "contour": [
           {
            "colorbar": {
             "outlinewidth": 0,
             "ticks": ""
            },
            "colorscale": [
             [
              0,
              "#0d0887"
             ],
             [
              0.1111111111111111,
              "#46039f"
             ],
             [
              0.2222222222222222,
              "#7201a8"
             ],
             [
              0.3333333333333333,
              "#9c179e"
             ],
             [
              0.4444444444444444,
              "#bd3786"
             ],
             [
              0.5555555555555556,
              "#d8576b"
             ],
             [
              0.6666666666666666,
              "#ed7953"
             ],
             [
              0.7777777777777778,
              "#fb9f3a"
             ],
             [
              0.8888888888888888,
              "#fdca26"
             ],
             [
              1,
              "#f0f921"
             ]
            ],
            "type": "contour"
           }
          ],
          "contourcarpet": [
           {
            "colorbar": {
             "outlinewidth": 0,
             "ticks": ""
            },
            "type": "contourcarpet"
           }
          ],
          "heatmap": [
           {
            "colorbar": {
             "outlinewidth": 0,
             "ticks": ""
            },
            "colorscale": [
             [
              0,
              "#0d0887"
             ],
             [
              0.1111111111111111,
              "#46039f"
             ],
             [
              0.2222222222222222,
              "#7201a8"
             ],
             [
              0.3333333333333333,
              "#9c179e"
             ],
             [
              0.4444444444444444,
              "#bd3786"
             ],
             [
              0.5555555555555556,
              "#d8576b"
             ],
             [
              0.6666666666666666,
              "#ed7953"
             ],
             [
              0.7777777777777778,
              "#fb9f3a"
             ],
             [
              0.8888888888888888,
              "#fdca26"
             ],
             [
              1,
              "#f0f921"
             ]
            ],
            "type": "heatmap"
           }
          ],
          "histogram": [
           {
            "marker": {
             "pattern": {
              "fillmode": "overlay",
              "size": 10,
              "solidity": 0.2
             }
            },
            "type": "histogram"
           }
          ],
          "histogram2d": [
           {
            "colorbar": {
             "outlinewidth": 0,
             "ticks": ""
            },
            "colorscale": [
             [
              0,
              "#0d0887"
             ],
             [
              0.1111111111111111,
              "#46039f"
             ],
             [
              0.2222222222222222,
              "#7201a8"
             ],
             [
              0.3333333333333333,
              "#9c179e"
             ],
             [
              0.4444444444444444,
              "#bd3786"
             ],
             [
              0.5555555555555556,
              "#d8576b"
             ],
             [
              0.6666666666666666,
              "#ed7953"
             ],
             [
              0.7777777777777778,
              "#fb9f3a"
             ],
             [
              0.8888888888888888,
              "#fdca26"
             ],
             [
              1,
              "#f0f921"
             ]
            ],
            "type": "histogram2d"
           }
          ],
          "histogram2dcontour": [
           {
            "colorbar": {
             "outlinewidth": 0,
             "ticks": ""
            },
            "colorscale": [
             [
              0,
              "#0d0887"
             ],
             [
              0.1111111111111111,
              "#46039f"
             ],
             [
              0.2222222222222222,
              "#7201a8"
             ],
             [
              0.3333333333333333,
              "#9c179e"
             ],
             [
              0.4444444444444444,
              "#bd3786"
             ],
             [
              0.5555555555555556,
              "#d8576b"
             ],
             [
              0.6666666666666666,
              "#ed7953"
             ],
             [
              0.7777777777777778,
              "#fb9f3a"
             ],
             [
              0.8888888888888888,
              "#fdca26"
             ],
             [
              1,
              "#f0f921"
             ]
            ],
            "type": "histogram2dcontour"
           }
          ],
          "mesh3d": [
           {
            "colorbar": {
             "outlinewidth": 0,
             "ticks": ""
            },
            "type": "mesh3d"
           }
          ],
          "parcoords": [
           {
            "line": {
             "colorbar": {
              "outlinewidth": 0,
              "ticks": ""
             }
            },
            "type": "parcoords"
           }
          ],
          "pie": [
           {
            "automargin": true,
            "type": "pie"
           }
          ],
          "scatter": [
           {
            "fillpattern": {
             "fillmode": "overlay",
             "size": 10,
             "solidity": 0.2
            },
            "type": "scatter"
           }
          ],
          "scatter3d": [
           {
            "line": {
             "colorbar": {
              "outlinewidth": 0,
              "ticks": ""
             }
            },
            "marker": {
             "colorbar": {
              "outlinewidth": 0,
              "ticks": ""
             }
            },
            "type": "scatter3d"
           }
          ],
          "scattercarpet": [
           {
            "marker": {
             "colorbar": {
              "outlinewidth": 0,
              "ticks": ""
             }
            },
            "type": "scattercarpet"
           }
          ],
          "scattergeo": [
           {
            "marker": {
             "colorbar": {
              "outlinewidth": 0,
              "ticks": ""
             }
            },
            "type": "scattergeo"
           }
          ],
          "scattergl": [
           {
            "marker": {
             "colorbar": {
              "outlinewidth": 0,
              "ticks": ""
             }
            },
            "type": "scattergl"
           }
          ],
          "scattermap": [
           {
            "marker": {
             "colorbar": {
              "outlinewidth": 0,
              "ticks": ""
             }
            },
            "type": "scattermap"
           }
          ],
          "scattermapbox": [
           {
            "marker": {
             "colorbar": {
              "outlinewidth": 0,
              "ticks": ""
             }
            },
            "type": "scattermapbox"
           }
          ],
          "scatterpolar": [
           {
            "marker": {
             "colorbar": {
              "outlinewidth": 0,
              "ticks": ""
             }
            },
            "type": "scatterpolar"
           }
          ],
          "scatterpolargl": [
           {
            "marker": {
             "colorbar": {
              "outlinewidth": 0,
              "ticks": ""
             }
            },
            "type": "scatterpolargl"
           }
          ],
          "scatterternary": [
           {
            "marker": {
             "colorbar": {
              "outlinewidth": 0,
              "ticks": ""
             }
            },
            "type": "scatterternary"
           }
          ],
          "surface": [
           {
            "colorbar": {
             "outlinewidth": 0,
             "ticks": ""
            },
            "colorscale": [
             [
              0,
              "#0d0887"
             ],
             [
              0.1111111111111111,
              "#46039f"
             ],
             [
              0.2222222222222222,
              "#7201a8"
             ],
             [
              0.3333333333333333,
              "#9c179e"
             ],
             [
              0.4444444444444444,
              "#bd3786"
             ],
             [
              0.5555555555555556,
              "#d8576b"
             ],
             [
              0.6666666666666666,
              "#ed7953"
             ],
             [
              0.7777777777777778,
              "#fb9f3a"
             ],
             [
              0.8888888888888888,
              "#fdca26"
             ],
             [
              1,
              "#f0f921"
             ]
            ],
            "type": "surface"
           }
          ],
          "table": [
           {
            "cells": {
             "fill": {
              "color": "#EBF0F8"
             },
             "line": {
              "color": "white"
             }
            },
            "header": {
             "fill": {
              "color": "#C8D4E3"
             },
             "line": {
              "color": "white"
             }
            },
            "type": "table"
           }
          ]
         },
         "layout": {
          "annotationdefaults": {
           "arrowcolor": "#2a3f5f",
           "arrowhead": 0,
           "arrowwidth": 1
          },
          "autotypenumbers": "strict",
          "coloraxis": {
           "colorbar": {
            "outlinewidth": 0,
            "ticks": ""
           }
          },
          "colorscale": {
           "diverging": [
            [
             0,
             "#8e0152"
            ],
            [
             0.1,
             "#c51b7d"
            ],
            [
             0.2,
             "#de77ae"
            ],
            [
             0.3,
             "#f1b6da"
            ],
            [
             0.4,
             "#fde0ef"
            ],
            [
             0.5,
             "#f7f7f7"
            ],
            [
             0.6,
             "#e6f5d0"
            ],
            [
             0.7,
             "#b8e186"
            ],
            [
             0.8,
             "#7fbc41"
            ],
            [
             0.9,
             "#4d9221"
            ],
            [
             1,
             "#276419"
            ]
           ],
           "sequential": [
            [
             0,
             "#0d0887"
            ],
            [
             0.1111111111111111,
             "#46039f"
            ],
            [
             0.2222222222222222,
             "#7201a8"
            ],
            [
             0.3333333333333333,
             "#9c179e"
            ],
            [
             0.4444444444444444,
             "#bd3786"
            ],
            [
             0.5555555555555556,
             "#d8576b"
            ],
            [
             0.6666666666666666,
             "#ed7953"
            ],
            [
             0.7777777777777778,
             "#fb9f3a"
            ],
            [
             0.8888888888888888,
             "#fdca26"
            ],
            [
             1,
             "#f0f921"
            ]
           ],
           "sequentialminus": [
            [
             0,
             "#0d0887"
            ],
            [
             0.1111111111111111,
             "#46039f"
            ],
            [
             0.2222222222222222,
             "#7201a8"
            ],
            [
             0.3333333333333333,
             "#9c179e"
            ],
            [
             0.4444444444444444,
             "#bd3786"
            ],
            [
             0.5555555555555556,
             "#d8576b"
            ],
            [
             0.6666666666666666,
             "#ed7953"
            ],
            [
             0.7777777777777778,
             "#fb9f3a"
            ],
            [
             0.8888888888888888,
             "#fdca26"
            ],
            [
             1,
             "#f0f921"
            ]
           ]
          },
          "colorway": [
           "#636efa",
           "#EF553B",
           "#00cc96",
           "#ab63fa",
           "#FFA15A",
           "#19d3f3",
           "#FF6692",
           "#B6E880",
           "#FF97FF",
           "#FECB52"
          ],
          "font": {
           "color": "#2a3f5f"
          },
          "geo": {
           "bgcolor": "white",
           "lakecolor": "white",
           "landcolor": "#E5ECF6",
           "showlakes": true,
           "showland": true,
           "subunitcolor": "white"
          },
          "hoverlabel": {
           "align": "left"
          },
          "hovermode": "closest",
          "mapbox": {
           "style": "light"
          },
          "paper_bgcolor": "white",
          "plot_bgcolor": "#E5ECF6",
          "polar": {
           "angularaxis": {
            "gridcolor": "white",
            "linecolor": "white",
            "ticks": ""
           },
           "bgcolor": "#E5ECF6",
           "radialaxis": {
            "gridcolor": "white",
            "linecolor": "white",
            "ticks": ""
           }
          },
          "scene": {
           "xaxis": {
            "backgroundcolor": "#E5ECF6",
            "gridcolor": "white",
            "gridwidth": 2,
            "linecolor": "white",
            "showbackground": true,
            "ticks": "",
            "zerolinecolor": "white"
           },
           "yaxis": {
            "backgroundcolor": "#E5ECF6",
            "gridcolor": "white",
            "gridwidth": 2,
            "linecolor": "white",
            "showbackground": true,
            "ticks": "",
            "zerolinecolor": "white"
           },
           "zaxis": {
            "backgroundcolor": "#E5ECF6",
            "gridcolor": "white",
            "gridwidth": 2,
            "linecolor": "white",
            "showbackground": true,
            "ticks": "",
            "zerolinecolor": "white"
           }
          },
          "shapedefaults": {
           "line": {
            "color": "#2a3f5f"
           }
          },
          "ternary": {
           "aaxis": {
            "gridcolor": "white",
            "linecolor": "white",
            "ticks": ""
           },
           "baxis": {
            "gridcolor": "white",
            "linecolor": "white",
            "ticks": ""
           },
           "bgcolor": "#E5ECF6",
           "caxis": {
            "gridcolor": "white",
            "linecolor": "white",
            "ticks": ""
           }
          },
          "title": {
           "x": 0.05
          },
          "xaxis": {
           "automargin": true,
           "gridcolor": "white",
           "linecolor": "white",
           "ticks": "",
           "title": {
            "standoff": 15
           },
           "zerolinecolor": "white",
           "zerolinewidth": 2
          },
          "yaxis": {
           "automargin": true,
           "gridcolor": "white",
           "linecolor": "white",
           "ticks": "",
           "title": {
            "standoff": 15
           },
           "zerolinecolor": "white",
           "zerolinewidth": 2
          }
         }
        },
        "xaxis": {
         "anchor": "y",
         "domain": [
          0,
          1
         ],
         "title": {
          "text": "Product"
         }
        },
        "yaxis": {
         "anchor": "x",
         "domain": [
          0,
          1
         ],
         "title": {
          "text": "value"
         }
        }
       }
      }
     },
     "metadata": {},
     "output_type": "display_data"
    }
   ],
   "source": [
    "px.bar(produit_vendu)"
   ]
  },
  {
   "cell_type": "code",
   "execution_count": 161,
   "id": "84093215",
   "metadata": {},
   "outputs": [
    {
     "data": {
      "application/vnd.microsoft.datawrangler.viewer.v0+json": {
       "columns": [
        {
         "name": "Product",
         "rawType": "object",
         "type": "string"
        },
        {
         "name": "Price Each",
         "rawType": "float64",
         "type": "float"
        }
       ],
       "ref": "bdc84799-0d61-4eff-ad55-2bdad24b81ca",
       "rows": [
        [
         "20in Monitor",
         "109.99"
        ],
        [
         "27in 4K Gaming Monitor",
         "389.99"
        ],
        [
         "27in FHD Monitor",
         "149.99"
        ],
        [
         "34in Ultrawide Monitor",
         "379.99"
        ],
        [
         "AA Batteries (4-pack)",
         "3.84"
        ],
        [
         "AAA Batteries (4-pack)",
         "2.99"
        ],
        [
         "Apple Airpods Headphones",
         "150.0"
        ],
        [
         "Bose SoundSport Headphones",
         "99.99"
        ],
        [
         "Flatscreen TV",
         "300.0"
        ],
        [
         "Google Phone",
         "600.0"
        ],
        [
         "LG Dryer",
         "600.0"
        ],
        [
         "LG Washing Machine",
         "600.0"
        ],
        [
         "Lightning Charging Cable",
         "14.95"
        ],
        [
         "Macbook Pro Laptop",
         "1700.0"
        ],
        [
         "ThinkPad Laptop",
         "999.99"
        ],
        [
         "USB-C Charging Cable",
         "11.95"
        ],
        [
         "Vareebadd Phone",
         "400.0"
        ],
        [
         "Wired Headphones",
         "11.99"
        ],
        [
         "iPhone",
         "700.0"
        ]
       ],
       "shape": {
        "columns": 1,
        "rows": 19
       }
      },
      "text/plain": [
       "Product\n",
       "20in Monitor                   109.99\n",
       "27in 4K Gaming Monitor         389.99\n",
       "27in FHD Monitor               149.99\n",
       "34in Ultrawide Monitor         379.99\n",
       "AA Batteries (4-pack)            3.84\n",
       "AAA Batteries (4-pack)           2.99\n",
       "Apple Airpods Headphones       150.00\n",
       "Bose SoundSport Headphones      99.99\n",
       "Flatscreen TV                  300.00\n",
       "Google Phone                   600.00\n",
       "LG Dryer                       600.00\n",
       "LG Washing Machine             600.00\n",
       "Lightning Charging Cable        14.95\n",
       "Macbook Pro Laptop            1700.00\n",
       "ThinkPad Laptop                999.99\n",
       "USB-C Charging Cable            11.95\n",
       "Vareebadd Phone                400.00\n",
       "Wired Headphones                11.99\n",
       "iPhone                         700.00\n",
       "Name: Price Each, dtype: float64"
      ]
     },
     "execution_count": 161,
     "metadata": {},
     "output_type": "execute_result"
    }
   ],
   "source": [
    "prix_vendu =df.groupby('Product')['Price Each'].mean()\n",
    "prix_vendu"
   ]
  },
  {
   "cell_type": "code",
   "execution_count": 162,
   "id": "75915bbc",
   "metadata": {},
   "outputs": [
    {
     "data": {
      "application/vnd.plotly.v1+json": {
       "config": {
        "plotlyServerURL": "https://plot.ly"
       },
       "data": [
        {
         "hovertemplate": "variable=Price Each<br>Product=%{x}<br>value=%{y}<extra></extra>",
         "legendgroup": "Price Each",
         "marker": {
          "color": "#636efa",
          "pattern": {
           "shape": ""
          }
         },
         "name": "Price Each",
         "orientation": "v",
         "showlegend": true,
         "textposition": "auto",
         "type": "bar",
         "x": [
          "20in Monitor",
          "27in 4K Gaming Monitor",
          "27in FHD Monitor",
          "34in Ultrawide Monitor",
          "AA Batteries (4-pack)",
          "AAA Batteries (4-pack)",
          "Apple Airpods Headphones",
          "Bose SoundSport Headphones",
          "Flatscreen TV",
          "Google Phone",
          "LG Dryer",
          "LG Washing Machine",
          "Lightning Charging Cable",
          "Macbook Pro Laptop",
          "ThinkPad Laptop",
          "USB-C Charging Cable",
          "Vareebadd Phone",
          "Wired Headphones",
          "iPhone"
         ],
         "xaxis": "x",
         "y": {
          "bdata": "j8L1KFx/W0CkcD0K1194QEjhehSuv2JApHA9Cte/d0C4HoXrUbgOQOxRuB6F6wdAAAAAAADAYkCPwvUoXP9YQAAAAAAAwHJAAAAAAADAgkAAAAAAAMCCQAAAAAAAwIJAZmZmZmbmLUAAAAAAAJCaQFK4HoXrP49AZmZmZmbmJ0AAAAAAAAB5QHsUrkfh+idAAAAAAADghUA=",
          "dtype": "f8"
         },
         "yaxis": "y"
        }
       ],
       "layout": {
        "barmode": "relative",
        "legend": {
         "title": {
          "text": "variable"
         },
         "tracegroupgap": 0
        },
        "margin": {
         "t": 60
        },
        "template": {
         "data": {
          "bar": [
           {
            "error_x": {
             "color": "#2a3f5f"
            },
            "error_y": {
             "color": "#2a3f5f"
            },
            "marker": {
             "line": {
              "color": "#E5ECF6",
              "width": 0.5
             },
             "pattern": {
              "fillmode": "overlay",
              "size": 10,
              "solidity": 0.2
             }
            },
            "type": "bar"
           }
          ],
          "barpolar": [
           {
            "marker": {
             "line": {
              "color": "#E5ECF6",
              "width": 0.5
             },
             "pattern": {
              "fillmode": "overlay",
              "size": 10,
              "solidity": 0.2
             }
            },
            "type": "barpolar"
           }
          ],
          "carpet": [
           {
            "aaxis": {
             "endlinecolor": "#2a3f5f",
             "gridcolor": "white",
             "linecolor": "white",
             "minorgridcolor": "white",
             "startlinecolor": "#2a3f5f"
            },
            "baxis": {
             "endlinecolor": "#2a3f5f",
             "gridcolor": "white",
             "linecolor": "white",
             "minorgridcolor": "white",
             "startlinecolor": "#2a3f5f"
            },
            "type": "carpet"
           }
          ],
          "choropleth": [
           {
            "colorbar": {
             "outlinewidth": 0,
             "ticks": ""
            },
            "type": "choropleth"
           }
          ],
          "contour": [
           {
            "colorbar": {
             "outlinewidth": 0,
             "ticks": ""
            },
            "colorscale": [
             [
              0,
              "#0d0887"
             ],
             [
              0.1111111111111111,
              "#46039f"
             ],
             [
              0.2222222222222222,
              "#7201a8"
             ],
             [
              0.3333333333333333,
              "#9c179e"
             ],
             [
              0.4444444444444444,
              "#bd3786"
             ],
             [
              0.5555555555555556,
              "#d8576b"
             ],
             [
              0.6666666666666666,
              "#ed7953"
             ],
             [
              0.7777777777777778,
              "#fb9f3a"
             ],
             [
              0.8888888888888888,
              "#fdca26"
             ],
             [
              1,
              "#f0f921"
             ]
            ],
            "type": "contour"
           }
          ],
          "contourcarpet": [
           {
            "colorbar": {
             "outlinewidth": 0,
             "ticks": ""
            },
            "type": "contourcarpet"
           }
          ],
          "heatmap": [
           {
            "colorbar": {
             "outlinewidth": 0,
             "ticks": ""
            },
            "colorscale": [
             [
              0,
              "#0d0887"
             ],
             [
              0.1111111111111111,
              "#46039f"
             ],
             [
              0.2222222222222222,
              "#7201a8"
             ],
             [
              0.3333333333333333,
              "#9c179e"
             ],
             [
              0.4444444444444444,
              "#bd3786"
             ],
             [
              0.5555555555555556,
              "#d8576b"
             ],
             [
              0.6666666666666666,
              "#ed7953"
             ],
             [
              0.7777777777777778,
              "#fb9f3a"
             ],
             [
              0.8888888888888888,
              "#fdca26"
             ],
             [
              1,
              "#f0f921"
             ]
            ],
            "type": "heatmap"
           }
          ],
          "histogram": [
           {
            "marker": {
             "pattern": {
              "fillmode": "overlay",
              "size": 10,
              "solidity": 0.2
             }
            },
            "type": "histogram"
           }
          ],
          "histogram2d": [
           {
            "colorbar": {
             "outlinewidth": 0,
             "ticks": ""
            },
            "colorscale": [
             [
              0,
              "#0d0887"
             ],
             [
              0.1111111111111111,
              "#46039f"
             ],
             [
              0.2222222222222222,
              "#7201a8"
             ],
             [
              0.3333333333333333,
              "#9c179e"
             ],
             [
              0.4444444444444444,
              "#bd3786"
             ],
             [
              0.5555555555555556,
              "#d8576b"
             ],
             [
              0.6666666666666666,
              "#ed7953"
             ],
             [
              0.7777777777777778,
              "#fb9f3a"
             ],
             [
              0.8888888888888888,
              "#fdca26"
             ],
             [
              1,
              "#f0f921"
             ]
            ],
            "type": "histogram2d"
           }
          ],
          "histogram2dcontour": [
           {
            "colorbar": {
             "outlinewidth": 0,
             "ticks": ""
            },
            "colorscale": [
             [
              0,
              "#0d0887"
             ],
             [
              0.1111111111111111,
              "#46039f"
             ],
             [
              0.2222222222222222,
              "#7201a8"
             ],
             [
              0.3333333333333333,
              "#9c179e"
             ],
             [
              0.4444444444444444,
              "#bd3786"
             ],
             [
              0.5555555555555556,
              "#d8576b"
             ],
             [
              0.6666666666666666,
              "#ed7953"
             ],
             [
              0.7777777777777778,
              "#fb9f3a"
             ],
             [
              0.8888888888888888,
              "#fdca26"
             ],
             [
              1,
              "#f0f921"
             ]
            ],
            "type": "histogram2dcontour"
           }
          ],
          "mesh3d": [
           {
            "colorbar": {
             "outlinewidth": 0,
             "ticks": ""
            },
            "type": "mesh3d"
           }
          ],
          "parcoords": [
           {
            "line": {
             "colorbar": {
              "outlinewidth": 0,
              "ticks": ""
             }
            },
            "type": "parcoords"
           }
          ],
          "pie": [
           {
            "automargin": true,
            "type": "pie"
           }
          ],
          "scatter": [
           {
            "fillpattern": {
             "fillmode": "overlay",
             "size": 10,
             "solidity": 0.2
            },
            "type": "scatter"
           }
          ],
          "scatter3d": [
           {
            "line": {
             "colorbar": {
              "outlinewidth": 0,
              "ticks": ""
             }
            },
            "marker": {
             "colorbar": {
              "outlinewidth": 0,
              "ticks": ""
             }
            },
            "type": "scatter3d"
           }
          ],
          "scattercarpet": [
           {
            "marker": {
             "colorbar": {
              "outlinewidth": 0,
              "ticks": ""
             }
            },
            "type": "scattercarpet"
           }
          ],
          "scattergeo": [
           {
            "marker": {
             "colorbar": {
              "outlinewidth": 0,
              "ticks": ""
             }
            },
            "type": "scattergeo"
           }
          ],
          "scattergl": [
           {
            "marker": {
             "colorbar": {
              "outlinewidth": 0,
              "ticks": ""
             }
            },
            "type": "scattergl"
           }
          ],
          "scattermap": [
           {
            "marker": {
             "colorbar": {
              "outlinewidth": 0,
              "ticks": ""
             }
            },
            "type": "scattermap"
           }
          ],
          "scattermapbox": [
           {
            "marker": {
             "colorbar": {
              "outlinewidth": 0,
              "ticks": ""
             }
            },
            "type": "scattermapbox"
           }
          ],
          "scatterpolar": [
           {
            "marker": {
             "colorbar": {
              "outlinewidth": 0,
              "ticks": ""
             }
            },
            "type": "scatterpolar"
           }
          ],
          "scatterpolargl": [
           {
            "marker": {
             "colorbar": {
              "outlinewidth": 0,
              "ticks": ""
             }
            },
            "type": "scatterpolargl"
           }
          ],
          "scatterternary": [
           {
            "marker": {
             "colorbar": {
              "outlinewidth": 0,
              "ticks": ""
             }
            },
            "type": "scatterternary"
           }
          ],
          "surface": [
           {
            "colorbar": {
             "outlinewidth": 0,
             "ticks": ""
            },
            "colorscale": [
             [
              0,
              "#0d0887"
             ],
             [
              0.1111111111111111,
              "#46039f"
             ],
             [
              0.2222222222222222,
              "#7201a8"
             ],
             [
              0.3333333333333333,
              "#9c179e"
             ],
             [
              0.4444444444444444,
              "#bd3786"
             ],
             [
              0.5555555555555556,
              "#d8576b"
             ],
             [
              0.6666666666666666,
              "#ed7953"
             ],
             [
              0.7777777777777778,
              "#fb9f3a"
             ],
             [
              0.8888888888888888,
              "#fdca26"
             ],
             [
              1,
              "#f0f921"
             ]
            ],
            "type": "surface"
           }
          ],
          "table": [
           {
            "cells": {
             "fill": {
              "color": "#EBF0F8"
             },
             "line": {
              "color": "white"
             }
            },
            "header": {
             "fill": {
              "color": "#C8D4E3"
             },
             "line": {
              "color": "white"
             }
            },
            "type": "table"
           }
          ]
         },
         "layout": {
          "annotationdefaults": {
           "arrowcolor": "#2a3f5f",
           "arrowhead": 0,
           "arrowwidth": 1
          },
          "autotypenumbers": "strict",
          "coloraxis": {
           "colorbar": {
            "outlinewidth": 0,
            "ticks": ""
           }
          },
          "colorscale": {
           "diverging": [
            [
             0,
             "#8e0152"
            ],
            [
             0.1,
             "#c51b7d"
            ],
            [
             0.2,
             "#de77ae"
            ],
            [
             0.3,
             "#f1b6da"
            ],
            [
             0.4,
             "#fde0ef"
            ],
            [
             0.5,
             "#f7f7f7"
            ],
            [
             0.6,
             "#e6f5d0"
            ],
            [
             0.7,
             "#b8e186"
            ],
            [
             0.8,
             "#7fbc41"
            ],
            [
             0.9,
             "#4d9221"
            ],
            [
             1,
             "#276419"
            ]
           ],
           "sequential": [
            [
             0,
             "#0d0887"
            ],
            [
             0.1111111111111111,
             "#46039f"
            ],
            [
             0.2222222222222222,
             "#7201a8"
            ],
            [
             0.3333333333333333,
             "#9c179e"
            ],
            [
             0.4444444444444444,
             "#bd3786"
            ],
            [
             0.5555555555555556,
             "#d8576b"
            ],
            [
             0.6666666666666666,
             "#ed7953"
            ],
            [
             0.7777777777777778,
             "#fb9f3a"
            ],
            [
             0.8888888888888888,
             "#fdca26"
            ],
            [
             1,
             "#f0f921"
            ]
           ],
           "sequentialminus": [
            [
             0,
             "#0d0887"
            ],
            [
             0.1111111111111111,
             "#46039f"
            ],
            [
             0.2222222222222222,
             "#7201a8"
            ],
            [
             0.3333333333333333,
             "#9c179e"
            ],
            [
             0.4444444444444444,
             "#bd3786"
            ],
            [
             0.5555555555555556,
             "#d8576b"
            ],
            [
             0.6666666666666666,
             "#ed7953"
            ],
            [
             0.7777777777777778,
             "#fb9f3a"
            ],
            [
             0.8888888888888888,
             "#fdca26"
            ],
            [
             1,
             "#f0f921"
            ]
           ]
          },
          "colorway": [
           "#636efa",
           "#EF553B",
           "#00cc96",
           "#ab63fa",
           "#FFA15A",
           "#19d3f3",
           "#FF6692",
           "#B6E880",
           "#FF97FF",
           "#FECB52"
          ],
          "font": {
           "color": "#2a3f5f"
          },
          "geo": {
           "bgcolor": "white",
           "lakecolor": "white",
           "landcolor": "#E5ECF6",
           "showlakes": true,
           "showland": true,
           "subunitcolor": "white"
          },
          "hoverlabel": {
           "align": "left"
          },
          "hovermode": "closest",
          "mapbox": {
           "style": "light"
          },
          "paper_bgcolor": "white",
          "plot_bgcolor": "#E5ECF6",
          "polar": {
           "angularaxis": {
            "gridcolor": "white",
            "linecolor": "white",
            "ticks": ""
           },
           "bgcolor": "#E5ECF6",
           "radialaxis": {
            "gridcolor": "white",
            "linecolor": "white",
            "ticks": ""
           }
          },
          "scene": {
           "xaxis": {
            "backgroundcolor": "#E5ECF6",
            "gridcolor": "white",
            "gridwidth": 2,
            "linecolor": "white",
            "showbackground": true,
            "ticks": "",
            "zerolinecolor": "white"
           },
           "yaxis": {
            "backgroundcolor": "#E5ECF6",
            "gridcolor": "white",
            "gridwidth": 2,
            "linecolor": "white",
            "showbackground": true,
            "ticks": "",
            "zerolinecolor": "white"
           },
           "zaxis": {
            "backgroundcolor": "#E5ECF6",
            "gridcolor": "white",
            "gridwidth": 2,
            "linecolor": "white",
            "showbackground": true,
            "ticks": "",
            "zerolinecolor": "white"
           }
          },
          "shapedefaults": {
           "line": {
            "color": "#2a3f5f"
           }
          },
          "ternary": {
           "aaxis": {
            "gridcolor": "white",
            "linecolor": "white",
            "ticks": ""
           },
           "baxis": {
            "gridcolor": "white",
            "linecolor": "white",
            "ticks": ""
           },
           "bgcolor": "#E5ECF6",
           "caxis": {
            "gridcolor": "white",
            "linecolor": "white",
            "ticks": ""
           }
          },
          "title": {
           "x": 0.05
          },
          "xaxis": {
           "automargin": true,
           "gridcolor": "white",
           "linecolor": "white",
           "ticks": "",
           "title": {
            "standoff": 15
           },
           "zerolinecolor": "white",
           "zerolinewidth": 2
          },
          "yaxis": {
           "automargin": true,
           "gridcolor": "white",
           "linecolor": "white",
           "ticks": "",
           "title": {
            "standoff": 15
           },
           "zerolinecolor": "white",
           "zerolinewidth": 2
          }
         }
        },
        "xaxis": {
         "anchor": "y",
         "domain": [
          0,
          1
         ],
         "title": {
          "text": "Product"
         }
        },
        "yaxis": {
         "anchor": "x",
         "domain": [
          0,
          1
         ],
         "title": {
          "text": "value"
         }
        }
       }
      }
     },
     "metadata": {},
     "output_type": "display_data"
    }
   ],
   "source": [
    "px.bar(prix_vendu)"
   ]
  },
  {
   "cell_type": "code",
   "execution_count": 163,
   "id": "188033fc",
   "metadata": {},
   "outputs": [
    {
     "data": {
      "application/vnd.microsoft.datawrangler.viewer.v0+json": {
       "columns": [
        {
         "name": "Product",
         "rawType": "object",
         "type": "string"
        },
        {
         "name": "prix",
         "rawType": "float64",
         "type": "float"
        },
        {
         "name": "quantity",
         "rawType": "int64",
         "type": "integer"
        }
       ],
       "ref": "f1a57694-07f9-4447-abdd-2797c6915724",
       "rows": [
        [
         "AAA Batteries (4-pack)",
         "2.99",
         "31017"
        ],
        [
         "AA Batteries (4-pack)",
         "3.84",
         "27635"
        ],
        [
         "USB-C Charging Cable",
         "11.95",
         "23975"
        ],
        [
         "Wired Headphones",
         "11.99",
         "20557"
        ],
        [
         "Lightning Charging Cable",
         "14.95",
         "23217"
        ],
        [
         "Bose SoundSport Headphones",
         "99.99",
         "13457"
        ],
        [
         "20in Monitor",
         "109.99",
         "4129"
        ],
        [
         "27in FHD Monitor",
         "149.99",
         "7550"
        ],
        [
         "Apple Airpods Headphones",
         "150.0",
         "15661"
        ],
        [
         "Flatscreen TV",
         "300.0",
         "4819"
        ],
        [
         "34in Ultrawide Monitor",
         "379.99",
         "6199"
        ],
        [
         "27in 4K Gaming Monitor",
         "389.99",
         "6244"
        ],
        [
         "Vareebadd Phone",
         "400.0",
         "2068"
        ],
        [
         "LG Dryer",
         "600.0",
         "646"
        ],
        [
         "LG Washing Machine",
         "600.0",
         "666"
        ],
        [
         "Google Phone",
         "600.0",
         "5532"
        ],
        [
         "iPhone",
         "700.0",
         "6849"
        ],
        [
         "ThinkPad Laptop",
         "999.99",
         "4130"
        ],
        [
         "Macbook Pro Laptop",
         "1700.0",
         "4728"
        ]
       ],
       "shape": {
        "columns": 2,
        "rows": 19
       }
      },
      "text/html": [
       "<div>\n",
       "<style scoped>\n",
       "    .dataframe tbody tr th:only-of-type {\n",
       "        vertical-align: middle;\n",
       "    }\n",
       "\n",
       "    .dataframe tbody tr th {\n",
       "        vertical-align: top;\n",
       "    }\n",
       "\n",
       "    .dataframe thead th {\n",
       "        text-align: right;\n",
       "    }\n",
       "</style>\n",
       "<table border=\"1\" class=\"dataframe\">\n",
       "  <thead>\n",
       "    <tr style=\"text-align: right;\">\n",
       "      <th></th>\n",
       "      <th>prix</th>\n",
       "      <th>quantity</th>\n",
       "    </tr>\n",
       "    <tr>\n",
       "      <th>Product</th>\n",
       "      <th></th>\n",
       "      <th></th>\n",
       "    </tr>\n",
       "  </thead>\n",
       "  <tbody>\n",
       "    <tr>\n",
       "      <th>AAA Batteries (4-pack)</th>\n",
       "      <td>2.99</td>\n",
       "      <td>31017</td>\n",
       "    </tr>\n",
       "    <tr>\n",
       "      <th>AA Batteries (4-pack)</th>\n",
       "      <td>3.84</td>\n",
       "      <td>27635</td>\n",
       "    </tr>\n",
       "    <tr>\n",
       "      <th>USB-C Charging Cable</th>\n",
       "      <td>11.95</td>\n",
       "      <td>23975</td>\n",
       "    </tr>\n",
       "    <tr>\n",
       "      <th>Wired Headphones</th>\n",
       "      <td>11.99</td>\n",
       "      <td>20557</td>\n",
       "    </tr>\n",
       "    <tr>\n",
       "      <th>Lightning Charging Cable</th>\n",
       "      <td>14.95</td>\n",
       "      <td>23217</td>\n",
       "    </tr>\n",
       "    <tr>\n",
       "      <th>Bose SoundSport Headphones</th>\n",
       "      <td>99.99</td>\n",
       "      <td>13457</td>\n",
       "    </tr>\n",
       "    <tr>\n",
       "      <th>20in Monitor</th>\n",
       "      <td>109.99</td>\n",
       "      <td>4129</td>\n",
       "    </tr>\n",
       "    <tr>\n",
       "      <th>27in FHD Monitor</th>\n",
       "      <td>149.99</td>\n",
       "      <td>7550</td>\n",
       "    </tr>\n",
       "    <tr>\n",
       "      <th>Apple Airpods Headphones</th>\n",
       "      <td>150.00</td>\n",
       "      <td>15661</td>\n",
       "    </tr>\n",
       "    <tr>\n",
       "      <th>Flatscreen TV</th>\n",
       "      <td>300.00</td>\n",
       "      <td>4819</td>\n",
       "    </tr>\n",
       "    <tr>\n",
       "      <th>34in Ultrawide Monitor</th>\n",
       "      <td>379.99</td>\n",
       "      <td>6199</td>\n",
       "    </tr>\n",
       "    <tr>\n",
       "      <th>27in 4K Gaming Monitor</th>\n",
       "      <td>389.99</td>\n",
       "      <td>6244</td>\n",
       "    </tr>\n",
       "    <tr>\n",
       "      <th>Vareebadd Phone</th>\n",
       "      <td>400.00</td>\n",
       "      <td>2068</td>\n",
       "    </tr>\n",
       "    <tr>\n",
       "      <th>LG Dryer</th>\n",
       "      <td>600.00</td>\n",
       "      <td>646</td>\n",
       "    </tr>\n",
       "    <tr>\n",
       "      <th>LG Washing Machine</th>\n",
       "      <td>600.00</td>\n",
       "      <td>666</td>\n",
       "    </tr>\n",
       "    <tr>\n",
       "      <th>Google Phone</th>\n",
       "      <td>600.00</td>\n",
       "      <td>5532</td>\n",
       "    </tr>\n",
       "    <tr>\n",
       "      <th>iPhone</th>\n",
       "      <td>700.00</td>\n",
       "      <td>6849</td>\n",
       "    </tr>\n",
       "    <tr>\n",
       "      <th>ThinkPad Laptop</th>\n",
       "      <td>999.99</td>\n",
       "      <td>4130</td>\n",
       "    </tr>\n",
       "    <tr>\n",
       "      <th>Macbook Pro Laptop</th>\n",
       "      <td>1700.00</td>\n",
       "      <td>4728</td>\n",
       "    </tr>\n",
       "  </tbody>\n",
       "</table>\n",
       "</div>"
      ],
      "text/plain": [
       "                               prix  quantity\n",
       "Product                                      \n",
       "AAA Batteries (4-pack)         2.99     31017\n",
       "AA Batteries (4-pack)          3.84     27635\n",
       "USB-C Charging Cable          11.95     23975\n",
       "Wired Headphones              11.99     20557\n",
       "Lightning Charging Cable      14.95     23217\n",
       "Bose SoundSport Headphones    99.99     13457\n",
       "20in Monitor                 109.99      4129\n",
       "27in FHD Monitor             149.99      7550\n",
       "Apple Airpods Headphones     150.00     15661\n",
       "Flatscreen TV                300.00      4819\n",
       "34in Ultrawide Monitor       379.99      6199\n",
       "27in 4K Gaming Monitor       389.99      6244\n",
       "Vareebadd Phone              400.00      2068\n",
       "LG Dryer                     600.00       646\n",
       "LG Washing Machine           600.00       666\n",
       "Google Phone                 600.00      5532\n",
       "iPhone                       700.00      6849\n",
       "ThinkPad Laptop              999.99      4130\n",
       "Macbook Pro Laptop          1700.00      4728"
      ]
     },
     "execution_count": 163,
     "metadata": {},
     "output_type": "execute_result"
    }
   ],
   "source": [
    "prix_quantity = pd.DataFrame({'prix': prix_vendu, 'quantity': produit_vendu}).sort_values('prix')\n",
    "prix_quantity"
   ]
  },
  {
   "cell_type": "code",
   "execution_count": 164,
   "id": "e5f658e2",
   "metadata": {},
   "outputs": [
    {
     "data": {
      "application/vnd.plotly.v1+json": {
       "config": {
        "plotlyServerURL": "https://plot.ly"
       },
       "data": [
        {
         "marker": {
          "color": "rgb(55, 83, 109)"
         },
         "name": "Quantité Vendue",
         "type": "bar",
         "x": [
          "AAA Batteries (4-pack)",
          "AA Batteries (4-pack)",
          "USB-C Charging Cable",
          "Wired Headphones",
          "Lightning Charging Cable",
          "Bose SoundSport Headphones",
          "20in Monitor",
          "27in FHD Monitor",
          "Apple Airpods Headphones",
          "Flatscreen TV",
          "34in Ultrawide Monitor",
          "27in 4K Gaming Monitor",
          "Vareebadd Phone",
          "LG Dryer",
          "LG Washing Machine",
          "Google Phone",
          "iPhone",
          "ThinkPad Laptop",
          "Macbook Pro Laptop"
         ],
         "xaxis": "x",
         "y": {
          "bdata": "KXnza6ddTVCxWpE0IRB+HS090xI3GGQYFAiGApoCnBXBGiIQeBI=",
          "dtype": "i2"
         },
         "yaxis": "y"
        },
        {
         "marker": {
          "color": "rgb(26, 118, 255)"
         },
         "mode": "lines+markers",
         "name": "Prix Unitaire Moyen",
         "type": "scatter",
         "x": [
          "AAA Batteries (4-pack)",
          "AA Batteries (4-pack)",
          "USB-C Charging Cable",
          "Wired Headphones",
          "Lightning Charging Cable",
          "Bose SoundSport Headphones",
          "20in Monitor",
          "27in FHD Monitor",
          "Apple Airpods Headphones",
          "Flatscreen TV",
          "34in Ultrawide Monitor",
          "27in 4K Gaming Monitor",
          "Vareebadd Phone",
          "LG Dryer",
          "LG Washing Machine",
          "Google Phone",
          "iPhone",
          "ThinkPad Laptop",
          "Macbook Pro Laptop"
         ],
         "xaxis": "x",
         "y": {
          "bdata": "7FG4HoXrB0C4HoXrUbgOQGZmZmZm5idAexSuR+H6J0BmZmZmZuYtQI/C9Shc/1hAj8L1KFx/W0BI4XoUrr9iQAAAAAAAwGJAAAAAAADAckCkcD0K1793QKRwPQrXX3hAAAAAAAAAeUAAAAAAAMCCQAAAAAAAwIJAAAAAAADAgkAAAAAAAOCFQFK4HoXrP49AAAAAAACQmkA=",
          "dtype": "f8"
         },
         "yaxis": "y2"
        }
       ],
       "layout": {
        "legend": {
         "x": 0.01,
         "y": 0.99
        },
        "template": {
         "data": {
          "bar": [
           {
            "error_x": {
             "color": "#2a3f5f"
            },
            "error_y": {
             "color": "#2a3f5f"
            },
            "marker": {
             "line": {
              "color": "white",
              "width": 0.5
             },
             "pattern": {
              "fillmode": "overlay",
              "size": 10,
              "solidity": 0.2
             }
            },
            "type": "bar"
           }
          ],
          "barpolar": [
           {
            "marker": {
             "line": {
              "color": "white",
              "width": 0.5
             },
             "pattern": {
              "fillmode": "overlay",
              "size": 10,
              "solidity": 0.2
             }
            },
            "type": "barpolar"
           }
          ],
          "carpet": [
           {
            "aaxis": {
             "endlinecolor": "#2a3f5f",
             "gridcolor": "#C8D4E3",
             "linecolor": "#C8D4E3",
             "minorgridcolor": "#C8D4E3",
             "startlinecolor": "#2a3f5f"
            },
            "baxis": {
             "endlinecolor": "#2a3f5f",
             "gridcolor": "#C8D4E3",
             "linecolor": "#C8D4E3",
             "minorgridcolor": "#C8D4E3",
             "startlinecolor": "#2a3f5f"
            },
            "type": "carpet"
           }
          ],
          "choropleth": [
           {
            "colorbar": {
             "outlinewidth": 0,
             "ticks": ""
            },
            "type": "choropleth"
           }
          ],
          "contour": [
           {
            "colorbar": {
             "outlinewidth": 0,
             "ticks": ""
            },
            "colorscale": [
             [
              0,
              "#0d0887"
             ],
             [
              0.1111111111111111,
              "#46039f"
             ],
             [
              0.2222222222222222,
              "#7201a8"
             ],
             [
              0.3333333333333333,
              "#9c179e"
             ],
             [
              0.4444444444444444,
              "#bd3786"
             ],
             [
              0.5555555555555556,
              "#d8576b"
             ],
             [
              0.6666666666666666,
              "#ed7953"
             ],
             [
              0.7777777777777778,
              "#fb9f3a"
             ],
             [
              0.8888888888888888,
              "#fdca26"
             ],
             [
              1,
              "#f0f921"
             ]
            ],
            "type": "contour"
           }
          ],
          "contourcarpet": [
           {
            "colorbar": {
             "outlinewidth": 0,
             "ticks": ""
            },
            "type": "contourcarpet"
           }
          ],
          "heatmap": [
           {
            "colorbar": {
             "outlinewidth": 0,
             "ticks": ""
            },
            "colorscale": [
             [
              0,
              "#0d0887"
             ],
             [
              0.1111111111111111,
              "#46039f"
             ],
             [
              0.2222222222222222,
              "#7201a8"
             ],
             [
              0.3333333333333333,
              "#9c179e"
             ],
             [
              0.4444444444444444,
              "#bd3786"
             ],
             [
              0.5555555555555556,
              "#d8576b"
             ],
             [
              0.6666666666666666,
              "#ed7953"
             ],
             [
              0.7777777777777778,
              "#fb9f3a"
             ],
             [
              0.8888888888888888,
              "#fdca26"
             ],
             [
              1,
              "#f0f921"
             ]
            ],
            "type": "heatmap"
           }
          ],
          "histogram": [
           {
            "marker": {
             "pattern": {
              "fillmode": "overlay",
              "size": 10,
              "solidity": 0.2
             }
            },
            "type": "histogram"
           }
          ],
          "histogram2d": [
           {
            "colorbar": {
             "outlinewidth": 0,
             "ticks": ""
            },
            "colorscale": [
             [
              0,
              "#0d0887"
             ],
             [
              0.1111111111111111,
              "#46039f"
             ],
             [
              0.2222222222222222,
              "#7201a8"
             ],
             [
              0.3333333333333333,
              "#9c179e"
             ],
             [
              0.4444444444444444,
              "#bd3786"
             ],
             [
              0.5555555555555556,
              "#d8576b"
             ],
             [
              0.6666666666666666,
              "#ed7953"
             ],
             [
              0.7777777777777778,
              "#fb9f3a"
             ],
             [
              0.8888888888888888,
              "#fdca26"
             ],
             [
              1,
              "#f0f921"
             ]
            ],
            "type": "histogram2d"
           }
          ],
          "histogram2dcontour": [
           {
            "colorbar": {
             "outlinewidth": 0,
             "ticks": ""
            },
            "colorscale": [
             [
              0,
              "#0d0887"
             ],
             [
              0.1111111111111111,
              "#46039f"
             ],
             [
              0.2222222222222222,
              "#7201a8"
             ],
             [
              0.3333333333333333,
              "#9c179e"
             ],
             [
              0.4444444444444444,
              "#bd3786"
             ],
             [
              0.5555555555555556,
              "#d8576b"
             ],
             [
              0.6666666666666666,
              "#ed7953"
             ],
             [
              0.7777777777777778,
              "#fb9f3a"
             ],
             [
              0.8888888888888888,
              "#fdca26"
             ],
             [
              1,
              "#f0f921"
             ]
            ],
            "type": "histogram2dcontour"
           }
          ],
          "mesh3d": [
           {
            "colorbar": {
             "outlinewidth": 0,
             "ticks": ""
            },
            "type": "mesh3d"
           }
          ],
          "parcoords": [
           {
            "line": {
             "colorbar": {
              "outlinewidth": 0,
              "ticks": ""
             }
            },
            "type": "parcoords"
           }
          ],
          "pie": [
           {
            "automargin": true,
            "type": "pie"
           }
          ],
          "scatter": [
           {
            "fillpattern": {
             "fillmode": "overlay",
             "size": 10,
             "solidity": 0.2
            },
            "type": "scatter"
           }
          ],
          "scatter3d": [
           {
            "line": {
             "colorbar": {
              "outlinewidth": 0,
              "ticks": ""
             }
            },
            "marker": {
             "colorbar": {
              "outlinewidth": 0,
              "ticks": ""
             }
            },
            "type": "scatter3d"
           }
          ],
          "scattercarpet": [
           {
            "marker": {
             "colorbar": {
              "outlinewidth": 0,
              "ticks": ""
             }
            },
            "type": "scattercarpet"
           }
          ],
          "scattergeo": [
           {
            "marker": {
             "colorbar": {
              "outlinewidth": 0,
              "ticks": ""
             }
            },
            "type": "scattergeo"
           }
          ],
          "scattergl": [
           {
            "marker": {
             "colorbar": {
              "outlinewidth": 0,
              "ticks": ""
             }
            },
            "type": "scattergl"
           }
          ],
          "scattermap": [
           {
            "marker": {
             "colorbar": {
              "outlinewidth": 0,
              "ticks": ""
             }
            },
            "type": "scattermap"
           }
          ],
          "scattermapbox": [
           {
            "marker": {
             "colorbar": {
              "outlinewidth": 0,
              "ticks": ""
             }
            },
            "type": "scattermapbox"
           }
          ],
          "scatterpolar": [
           {
            "marker": {
             "colorbar": {
              "outlinewidth": 0,
              "ticks": ""
             }
            },
            "type": "scatterpolar"
           }
          ],
          "scatterpolargl": [
           {
            "marker": {
             "colorbar": {
              "outlinewidth": 0,
              "ticks": ""
             }
            },
            "type": "scatterpolargl"
           }
          ],
          "scatterternary": [
           {
            "marker": {
             "colorbar": {
              "outlinewidth": 0,
              "ticks": ""
             }
            },
            "type": "scatterternary"
           }
          ],
          "surface": [
           {
            "colorbar": {
             "outlinewidth": 0,
             "ticks": ""
            },
            "colorscale": [
             [
              0,
              "#0d0887"
             ],
             [
              0.1111111111111111,
              "#46039f"
             ],
             [
              0.2222222222222222,
              "#7201a8"
             ],
             [
              0.3333333333333333,
              "#9c179e"
             ],
             [
              0.4444444444444444,
              "#bd3786"
             ],
             [
              0.5555555555555556,
              "#d8576b"
             ],
             [
              0.6666666666666666,
              "#ed7953"
             ],
             [
              0.7777777777777778,
              "#fb9f3a"
             ],
             [
              0.8888888888888888,
              "#fdca26"
             ],
             [
              1,
              "#f0f921"
             ]
            ],
            "type": "surface"
           }
          ],
          "table": [
           {
            "cells": {
             "fill": {
              "color": "#EBF0F8"
             },
             "line": {
              "color": "white"
             }
            },
            "header": {
             "fill": {
              "color": "#C8D4E3"
             },
             "line": {
              "color": "white"
             }
            },
            "type": "table"
           }
          ]
         },
         "layout": {
          "annotationdefaults": {
           "arrowcolor": "#2a3f5f",
           "arrowhead": 0,
           "arrowwidth": 1
          },
          "autotypenumbers": "strict",
          "coloraxis": {
           "colorbar": {
            "outlinewidth": 0,
            "ticks": ""
           }
          },
          "colorscale": {
           "diverging": [
            [
             0,
             "#8e0152"
            ],
            [
             0.1,
             "#c51b7d"
            ],
            [
             0.2,
             "#de77ae"
            ],
            [
             0.3,
             "#f1b6da"
            ],
            [
             0.4,
             "#fde0ef"
            ],
            [
             0.5,
             "#f7f7f7"
            ],
            [
             0.6,
             "#e6f5d0"
            ],
            [
             0.7,
             "#b8e186"
            ],
            [
             0.8,
             "#7fbc41"
            ],
            [
             0.9,
             "#4d9221"
            ],
            [
             1,
             "#276419"
            ]
           ],
           "sequential": [
            [
             0,
             "#0d0887"
            ],
            [
             0.1111111111111111,
             "#46039f"
            ],
            [
             0.2222222222222222,
             "#7201a8"
            ],
            [
             0.3333333333333333,
             "#9c179e"
            ],
            [
             0.4444444444444444,
             "#bd3786"
            ],
            [
             0.5555555555555556,
             "#d8576b"
            ],
            [
             0.6666666666666666,
             "#ed7953"
            ],
            [
             0.7777777777777778,
             "#fb9f3a"
            ],
            [
             0.8888888888888888,
             "#fdca26"
            ],
            [
             1,
             "#f0f921"
            ]
           ],
           "sequentialminus": [
            [
             0,
             "#0d0887"
            ],
            [
             0.1111111111111111,
             "#46039f"
            ],
            [
             0.2222222222222222,
             "#7201a8"
            ],
            [
             0.3333333333333333,
             "#9c179e"
            ],
            [
             0.4444444444444444,
             "#bd3786"
            ],
            [
             0.5555555555555556,
             "#d8576b"
            ],
            [
             0.6666666666666666,
             "#ed7953"
            ],
            [
             0.7777777777777778,
             "#fb9f3a"
            ],
            [
             0.8888888888888888,
             "#fdca26"
            ],
            [
             1,
             "#f0f921"
            ]
           ]
          },
          "colorway": [
           "#636efa",
           "#EF553B",
           "#00cc96",
           "#ab63fa",
           "#FFA15A",
           "#19d3f3",
           "#FF6692",
           "#B6E880",
           "#FF97FF",
           "#FECB52"
          ],
          "font": {
           "color": "#2a3f5f"
          },
          "geo": {
           "bgcolor": "white",
           "lakecolor": "white",
           "landcolor": "white",
           "showlakes": true,
           "showland": true,
           "subunitcolor": "#C8D4E3"
          },
          "hoverlabel": {
           "align": "left"
          },
          "hovermode": "closest",
          "mapbox": {
           "style": "light"
          },
          "paper_bgcolor": "white",
          "plot_bgcolor": "white",
          "polar": {
           "angularaxis": {
            "gridcolor": "#EBF0F8",
            "linecolor": "#EBF0F8",
            "ticks": ""
           },
           "bgcolor": "white",
           "radialaxis": {
            "gridcolor": "#EBF0F8",
            "linecolor": "#EBF0F8",
            "ticks": ""
           }
          },
          "scene": {
           "xaxis": {
            "backgroundcolor": "white",
            "gridcolor": "#DFE8F3",
            "gridwidth": 2,
            "linecolor": "#EBF0F8",
            "showbackground": true,
            "ticks": "",
            "zerolinecolor": "#EBF0F8"
           },
           "yaxis": {
            "backgroundcolor": "white",
            "gridcolor": "#DFE8F3",
            "gridwidth": 2,
            "linecolor": "#EBF0F8",
            "showbackground": true,
            "ticks": "",
            "zerolinecolor": "#EBF0F8"
           },
           "zaxis": {
            "backgroundcolor": "white",
            "gridcolor": "#DFE8F3",
            "gridwidth": 2,
            "linecolor": "#EBF0F8",
            "showbackground": true,
            "ticks": "",
            "zerolinecolor": "#EBF0F8"
           }
          },
          "shapedefaults": {
           "line": {
            "color": "#2a3f5f"
           }
          },
          "ternary": {
           "aaxis": {
            "gridcolor": "#DFE8F3",
            "linecolor": "#A2B1C6",
            "ticks": ""
           },
           "baxis": {
            "gridcolor": "#DFE8F3",
            "linecolor": "#A2B1C6",
            "ticks": ""
           },
           "bgcolor": "white",
           "caxis": {
            "gridcolor": "#DFE8F3",
            "linecolor": "#A2B1C6",
            "ticks": ""
           }
          },
          "title": {
           "x": 0.05
          },
          "xaxis": {
           "automargin": true,
           "gridcolor": "#EBF0F8",
           "linecolor": "#EBF0F8",
           "ticks": "",
           "title": {
            "standoff": 15
           },
           "zerolinecolor": "#EBF0F8",
           "zerolinewidth": 2
          },
          "yaxis": {
           "automargin": true,
           "gridcolor": "#EBF0F8",
           "linecolor": "#EBF0F8",
           "ticks": "",
           "title": {
            "standoff": 15
           },
           "zerolinecolor": "#EBF0F8",
           "zerolinewidth": 2
          }
         }
        },
        "title": {
         "text": "Quantité Vendue et Prix Moyen par Produit"
        },
        "xaxis": {
         "anchor": "y",
         "domain": [
          0,
          0.94
         ],
         "title": {
          "text": "Produit"
         }
        },
        "yaxis": {
         "anchor": "x",
         "domain": [
          0,
          1
         ],
         "title": {
          "text": "<b>Quantité Vendue</b>"
         }
        },
        "yaxis2": {
         "anchor": "x",
         "overlaying": "y",
         "side": "right",
         "title": {
          "text": "<b>Prix Unitaire Moyen ($)</b>"
         }
        }
       }
      }
     },
     "metadata": {},
     "output_type": "display_data"
    }
   ],
   "source": [
    "# Créer une figure avec un axe Y secondaire\n",
    "fig = make_subplots(specs=[[{\"secondary_y\": True}]])\n",
    "\n",
    "# Ajouter la trace pour la quantité (graphique en barres)\n",
    "fig.add_trace(\n",
    "    go.Bar(\n",
    "        x=prix_quantity.index, \n",
    "        y=prix_quantity['quantity'], \n",
    "        name=\"Quantité Vendue\",\n",
    "        marker_color='rgb(55, 83, 109)' # Couleur pour les barres\n",
    "    ),\n",
    "    secondary_y=False,\n",
    ")\n",
    "\n",
    "# Ajouter la trace pour le prix (graphique en ligne)\n",
    "fig.add_trace(\n",
    "    go.Scatter(\n",
    "        x=prix_quantity.index, \n",
    "        y=prix_quantity['prix'], \n",
    "        name=\"Prix Unitaire Moyen\",\n",
    "        mode='lines+markers',\n",
    "        marker_color='rgb(26, 118, 255)' # Couleur pour la ligne\n",
    "    ),\n",
    "    secondary_y=True,\n",
    ")\n",
    "\n",
    "# Mettre à jour le layout du graphique pour les titres et les axes\n",
    "fig.update_layout(\n",
    "    title_text=\"Quantité Vendue et Prix Moyen par Produit\",\n",
    "    template='plotly_white',\n",
    "    legend=dict(x=0.01, y=0.99) # Position de la légende\n",
    ")\n",
    "\n",
    "# Nommer les axes\n",
    "fig.update_xaxes(title_text=\"Produit\")\n",
    "fig.update_yaxes(title_text=\"<b>Quantité Vendue</b>\", secondary_y=False)\n",
    "fig.update_yaxes(title_text=\"<b>Prix Unitaire Moyen ($)</b>\", secondary_y=True)\n",
    "\n",
    "fig.show()"
   ]
  },
  {
   "cell_type": "markdown",
   "id": "b78fe7ef",
   "metadata": {},
   "source": [
    "### Analyse des Ventes par Produit\n",
    "\n",
    "#### Points Clés :\n",
    "- Les produits les plus vendus en termes de quantité sont les **accessoires à bas prix et à forte demande**.\n",
    "- Les produits les moins vendus sont les **articles les plus chers**.\n",
    "\n",
    "#### Produits les Plus Vendus :\n",
    "1.  **Piles AAA (4-pack)** et **Piles AA (4-pack)**\n",
    "2.  **Câble de chargement USB-C** et **Câble de chargement Lightning**\n",
    "3.  **Écouteurs filaires (Wired Headphones)**\n",
    "\n",
    "Ces produits se caractérisent par leur faible coût et leur grande utilité, ce qui explique les volumes de vente élevés.\n",
    "\n",
    "#### Corrélation entre Prix et Quantité :\n",
    "Le graphique illustre une **corrélation négative très nette** entre le prix d'un produit et la quantité vendue :\n",
    "- **Quand le prix est bas (ligne bleue), la quantité vendue est élevée (barres grises).**\n",
    "- **Inversement, quand le prix est élevé, la quantité vendue est faible.**\n",
    "\n",
    "Par exemple, le **Macbook Pro Laptop** et le **ThinkPad Laptop** ont les prix les plus élevés et, par conséquent, les quantités vendues les plus faibles.\n",
    "\n",
    "#### Recommandations Stratégiques :\n",
    "- **Moteurs de volume** : Les accessoires comme les piles et les câbles sont excellents pour attirer les clients et générer du trafic.\n",
    "- **Ventes croisées (Cross-selling)** : Proposez ces accessoires à forte vente lors de l'achat d'articles plus chers. Par exemple, offrez une réduction sur un chargeur USB-C pour l'achat d'un Macbook Pro.\n",
    "- **Offres groupées (Bundling)** : Créez des offres groupées en associant un produit cher et peu vendu avec un accessoire populaire pour augmenter l'attractivité de l'offre globale."
   ]
  },
  {
   "cell_type": "markdown",
   "id": "e27dbcc2",
   "metadata": {},
   "source": [
    "# Quelles sont les combinaison de produits qui se vendent le plus ?"
   ]
  },
  {
   "cell_type": "code",
   "execution_count": 165,
   "id": "61e84c76",
   "metadata": {},
   "outputs": [],
   "source": [
    "df =df[df['Order ID'].duplicated(keep=False)]"
   ]
  },
  {
   "cell_type": "code",
   "execution_count": 166,
   "id": "f34b6c19",
   "metadata": {},
   "outputs": [
    {
     "name": "stderr",
     "output_type": "stream",
     "text": [
      "C:\\Users\\Mamad\\AppData\\Local\\Temp\\ipykernel_12884\\368989265.py:1: SettingWithCopyWarning:\n",
      "\n",
      "\n",
      "A value is trying to be set on a copy of a slice from a DataFrame.\n",
      "Try using .loc[row_indexer,col_indexer] = value instead\n",
      "\n",
      "See the caveats in the documentation: https://pandas.pydata.org/pandas-docs/stable/user_guide/indexing.html#returning-a-view-versus-a-copy\n",
      "\n"
     ]
    },
    {
     "data": {
      "application/vnd.microsoft.datawrangler.viewer.v0+json": {
       "columns": [
        {
         "name": "index",
         "rawType": "int64",
         "type": "integer"
        },
        {
         "name": "Order ID",
         "rawType": "object",
         "type": "string"
        },
        {
         "name": "Product",
         "rawType": "object",
         "type": "string"
        },
        {
         "name": "Quantity Ordered",
         "rawType": "int64",
         "type": "integer"
        },
        {
         "name": "Price Each",
         "rawType": "float64",
         "type": "float"
        },
        {
         "name": "Order Date",
         "rawType": "object",
         "type": "string"
        },
        {
         "name": "Purchase Address",
         "rawType": "object",
         "type": "string"
        },
        {
         "name": "Month",
         "rawType": "int64",
         "type": "integer"
        },
        {
         "name": "Chiffre_d'affaire",
         "rawType": "float64",
         "type": "float"
        },
        {
         "name": "ville",
         "rawType": "object",
         "type": "string"
        },
        {
         "name": "heure",
         "rawType": "int32",
         "type": "integer"
        },
        {
         "name": "Grouped",
         "rawType": "object",
         "type": "string"
        }
       ],
       "ref": "efa4beb5-e3bb-4c35-96bd-2770c9699216",
       "rows": [
        [
         "3",
         "176560",
         "Google Phone",
         "1",
         "600.0",
         "04/12/19 14:38",
         "669 Spruce St, Los Angeles, CA 90001",
         "4",
         "600.0",
         " Los Angeles",
         "14",
         "Google Phone,Wired Headphones"
        ],
        [
         "4",
         "176560",
         "Wired Headphones",
         "1",
         "11.99",
         "04/12/19 14:38",
         "669 Spruce St, Los Angeles, CA 90001",
         "4",
         "11.99",
         " Los Angeles",
         "14",
         "Google Phone,Wired Headphones"
        ],
        [
         "18",
         "176574",
         "Google Phone",
         "1",
         "600.0",
         "04/03/19 19:42",
         "20 Hill St, Los Angeles, CA 90001",
         "4",
         "600.0",
         " Los Angeles",
         "19",
         "Google Phone,USB-C Charging Cable"
        ],
        [
         "19",
         "176574",
         "USB-C Charging Cable",
         "1",
         "11.95",
         "04/03/19 19:42",
         "20 Hill St, Los Angeles, CA 90001",
         "4",
         "11.95",
         " Los Angeles",
         "19",
         "Google Phone,USB-C Charging Cable"
        ],
        [
         "30",
         "176585",
         "Bose SoundSport Headphones",
         "1",
         "99.99",
         "04/07/19 11:31",
         "823 Highland St, Boston, MA 02215",
         "4",
         "99.99",
         " Boston",
         "11",
         "Bose SoundSport Headphones,Bose SoundSport Headphones"
        ]
       ],
       "shape": {
        "columns": 11,
        "rows": 5
       }
      },
      "text/html": [
       "<div>\n",
       "<style scoped>\n",
       "    .dataframe tbody tr th:only-of-type {\n",
       "        vertical-align: middle;\n",
       "    }\n",
       "\n",
       "    .dataframe tbody tr th {\n",
       "        vertical-align: top;\n",
       "    }\n",
       "\n",
       "    .dataframe thead th {\n",
       "        text-align: right;\n",
       "    }\n",
       "</style>\n",
       "<table border=\"1\" class=\"dataframe\">\n",
       "  <thead>\n",
       "    <tr style=\"text-align: right;\">\n",
       "      <th></th>\n",
       "      <th>Order ID</th>\n",
       "      <th>Product</th>\n",
       "      <th>Quantity Ordered</th>\n",
       "      <th>Price Each</th>\n",
       "      <th>Order Date</th>\n",
       "      <th>Purchase Address</th>\n",
       "      <th>Month</th>\n",
       "      <th>Chiffre_d'affaire</th>\n",
       "      <th>ville</th>\n",
       "      <th>heure</th>\n",
       "      <th>Grouped</th>\n",
       "    </tr>\n",
       "  </thead>\n",
       "  <tbody>\n",
       "    <tr>\n",
       "      <th>3</th>\n",
       "      <td>176560</td>\n",
       "      <td>Google Phone</td>\n",
       "      <td>1</td>\n",
       "      <td>600.00</td>\n",
       "      <td>04/12/19 14:38</td>\n",
       "      <td>669 Spruce St, Los Angeles, CA 90001</td>\n",
       "      <td>4</td>\n",
       "      <td>600.00</td>\n",
       "      <td>Los Angeles</td>\n",
       "      <td>14</td>\n",
       "      <td>Google Phone,Wired Headphones</td>\n",
       "    </tr>\n",
       "    <tr>\n",
       "      <th>4</th>\n",
       "      <td>176560</td>\n",
       "      <td>Wired Headphones</td>\n",
       "      <td>1</td>\n",
       "      <td>11.99</td>\n",
       "      <td>04/12/19 14:38</td>\n",
       "      <td>669 Spruce St, Los Angeles, CA 90001</td>\n",
       "      <td>4</td>\n",
       "      <td>11.99</td>\n",
       "      <td>Los Angeles</td>\n",
       "      <td>14</td>\n",
       "      <td>Google Phone,Wired Headphones</td>\n",
       "    </tr>\n",
       "    <tr>\n",
       "      <th>18</th>\n",
       "      <td>176574</td>\n",
       "      <td>Google Phone</td>\n",
       "      <td>1</td>\n",
       "      <td>600.00</td>\n",
       "      <td>04/03/19 19:42</td>\n",
       "      <td>20 Hill St, Los Angeles, CA 90001</td>\n",
       "      <td>4</td>\n",
       "      <td>600.00</td>\n",
       "      <td>Los Angeles</td>\n",
       "      <td>19</td>\n",
       "      <td>Google Phone,USB-C Charging Cable</td>\n",
       "    </tr>\n",
       "    <tr>\n",
       "      <th>19</th>\n",
       "      <td>176574</td>\n",
       "      <td>USB-C Charging Cable</td>\n",
       "      <td>1</td>\n",
       "      <td>11.95</td>\n",
       "      <td>04/03/19 19:42</td>\n",
       "      <td>20 Hill St, Los Angeles, CA 90001</td>\n",
       "      <td>4</td>\n",
       "      <td>11.95</td>\n",
       "      <td>Los Angeles</td>\n",
       "      <td>19</td>\n",
       "      <td>Google Phone,USB-C Charging Cable</td>\n",
       "    </tr>\n",
       "    <tr>\n",
       "      <th>30</th>\n",
       "      <td>176585</td>\n",
       "      <td>Bose SoundSport Headphones</td>\n",
       "      <td>1</td>\n",
       "      <td>99.99</td>\n",
       "      <td>04/07/19 11:31</td>\n",
       "      <td>823 Highland St, Boston, MA 02215</td>\n",
       "      <td>4</td>\n",
       "      <td>99.99</td>\n",
       "      <td>Boston</td>\n",
       "      <td>11</td>\n",
       "      <td>Bose SoundSport Headphones,Bose SoundSport Hea...</td>\n",
       "    </tr>\n",
       "  </tbody>\n",
       "</table>\n",
       "</div>"
      ],
      "text/plain": [
       "   Order ID                     Product  Quantity Ordered  Price Each  \\\n",
       "3    176560                Google Phone                 1      600.00   \n",
       "4    176560            Wired Headphones                 1       11.99   \n",
       "18   176574                Google Phone                 1      600.00   \n",
       "19   176574        USB-C Charging Cable                 1       11.95   \n",
       "30   176585  Bose SoundSport Headphones                 1       99.99   \n",
       "\n",
       "        Order Date                      Purchase Address  Month  \\\n",
       "3   04/12/19 14:38  669 Spruce St, Los Angeles, CA 90001      4   \n",
       "4   04/12/19 14:38  669 Spruce St, Los Angeles, CA 90001      4   \n",
       "18  04/03/19 19:42     20 Hill St, Los Angeles, CA 90001      4   \n",
       "19  04/03/19 19:42     20 Hill St, Los Angeles, CA 90001      4   \n",
       "30  04/07/19 11:31     823 Highland St, Boston, MA 02215      4   \n",
       "\n",
       "    Chiffre_d'affaire         ville  heure  \\\n",
       "3              600.00   Los Angeles     14   \n",
       "4               11.99   Los Angeles     14   \n",
       "18             600.00   Los Angeles     19   \n",
       "19              11.95   Los Angeles     19   \n",
       "30              99.99        Boston     11   \n",
       "\n",
       "                                              Grouped  \n",
       "3                       Google Phone,Wired Headphones  \n",
       "4                       Google Phone,Wired Headphones  \n",
       "18                  Google Phone,USB-C Charging Cable  \n",
       "19                  Google Phone,USB-C Charging Cable  \n",
       "30  Bose SoundSport Headphones,Bose SoundSport Hea...  "
      ]
     },
     "execution_count": 166,
     "metadata": {},
     "output_type": "execute_result"
    }
   ],
   "source": [
    "df['Grouped'] = df.groupby('Order ID')['Product'].transform(lambda x:','.join(x))\n",
    "df.head()"
   ]
  },
  {
   "cell_type": "code",
   "execution_count": 167,
   "id": "188ca59e",
   "metadata": {},
   "outputs": [],
   "source": [
    "df2 = df.drop_duplicates(subset=['Order ID'])"
   ]
  },
  {
   "cell_type": "code",
   "execution_count": 168,
   "id": "a3d51ee4",
   "metadata": {},
   "outputs": [
    {
     "data": {
      "application/vnd.plotly.v1+json": {
       "config": {
        "plotlyServerURL": "https://plot.ly"
       },
       "data": [
        {
         "domain": {
          "x": [
           0,
           1
          ],
          "y": [
           0,
           1
          ]
         },
         "hole": 0.4,
         "hovertemplate": "Combinaison=%{label}<br>Nombre de Ventes=%{value}<extra></extra>",
         "labels": [
          "iPhone,Lightning Charging Cable",
          "Google Phone,USB-C Charging Cable",
          "iPhone,Wired Headphones",
          "Vareebadd Phone,USB-C Charging Cable",
          "Google Phone,Wired Headphones"
         ],
         "legendgroup": "",
         "name": "",
         "pull": [
          0.05,
          0,
          0,
          0,
          0
         ],
         "showlegend": true,
         "textinfo": "percent+label",
         "textposition": "inside",
         "type": "pie",
         "values": {
          "bdata": "cgNYA2kBOAEvAQ==",
          "dtype": "i2"
         }
        }
       ],
       "layout": {
        "legend": {
         "tracegroupgap": 0
        },
        "piecolorway": [
         "rgb(102, 197, 204)",
         "rgb(246, 207, 113)",
         "rgb(248, 156, 116)",
         "rgb(220, 176, 242)",
         "rgb(135, 197, 95)",
         "rgb(158, 185, 243)",
         "rgb(254, 136, 177)",
         "rgb(201, 219, 116)",
         "rgb(139, 224, 164)",
         "rgb(180, 151, 231)",
         "rgb(179, 179, 179)"
        ],
        "showlegend": false,
        "template": {
         "data": {
          "bar": [
           {
            "error_x": {
             "color": "#2a3f5f"
            },
            "error_y": {
             "color": "#2a3f5f"
            },
            "marker": {
             "line": {
              "color": "#E5ECF6",
              "width": 0.5
             },
             "pattern": {
              "fillmode": "overlay",
              "size": 10,
              "solidity": 0.2
             }
            },
            "type": "bar"
           }
          ],
          "barpolar": [
           {
            "marker": {
             "line": {
              "color": "#E5ECF6",
              "width": 0.5
             },
             "pattern": {
              "fillmode": "overlay",
              "size": 10,
              "solidity": 0.2
             }
            },
            "type": "barpolar"
           }
          ],
          "carpet": [
           {
            "aaxis": {
             "endlinecolor": "#2a3f5f",
             "gridcolor": "white",
             "linecolor": "white",
             "minorgridcolor": "white",
             "startlinecolor": "#2a3f5f"
            },
            "baxis": {
             "endlinecolor": "#2a3f5f",
             "gridcolor": "white",
             "linecolor": "white",
             "minorgridcolor": "white",
             "startlinecolor": "#2a3f5f"
            },
            "type": "carpet"
           }
          ],
          "choropleth": [
           {
            "colorbar": {
             "outlinewidth": 0,
             "ticks": ""
            },
            "type": "choropleth"
           }
          ],
          "contour": [
           {
            "colorbar": {
             "outlinewidth": 0,
             "ticks": ""
            },
            "colorscale": [
             [
              0,
              "#0d0887"
             ],
             [
              0.1111111111111111,
              "#46039f"
             ],
             [
              0.2222222222222222,
              "#7201a8"
             ],
             [
              0.3333333333333333,
              "#9c179e"
             ],
             [
              0.4444444444444444,
              "#bd3786"
             ],
             [
              0.5555555555555556,
              "#d8576b"
             ],
             [
              0.6666666666666666,
              "#ed7953"
             ],
             [
              0.7777777777777778,
              "#fb9f3a"
             ],
             [
              0.8888888888888888,
              "#fdca26"
             ],
             [
              1,
              "#f0f921"
             ]
            ],
            "type": "contour"
           }
          ],
          "contourcarpet": [
           {
            "colorbar": {
             "outlinewidth": 0,
             "ticks": ""
            },
            "type": "contourcarpet"
           }
          ],
          "heatmap": [
           {
            "colorbar": {
             "outlinewidth": 0,
             "ticks": ""
            },
            "colorscale": [
             [
              0,
              "#0d0887"
             ],
             [
              0.1111111111111111,
              "#46039f"
             ],
             [
              0.2222222222222222,
              "#7201a8"
             ],
             [
              0.3333333333333333,
              "#9c179e"
             ],
             [
              0.4444444444444444,
              "#bd3786"
             ],
             [
              0.5555555555555556,
              "#d8576b"
             ],
             [
              0.6666666666666666,
              "#ed7953"
             ],
             [
              0.7777777777777778,
              "#fb9f3a"
             ],
             [
              0.8888888888888888,
              "#fdca26"
             ],
             [
              1,
              "#f0f921"
             ]
            ],
            "type": "heatmap"
           }
          ],
          "histogram": [
           {
            "marker": {
             "pattern": {
              "fillmode": "overlay",
              "size": 10,
              "solidity": 0.2
             }
            },
            "type": "histogram"
           }
          ],
          "histogram2d": [
           {
            "colorbar": {
             "outlinewidth": 0,
             "ticks": ""
            },
            "colorscale": [
             [
              0,
              "#0d0887"
             ],
             [
              0.1111111111111111,
              "#46039f"
             ],
             [
              0.2222222222222222,
              "#7201a8"
             ],
             [
              0.3333333333333333,
              "#9c179e"
             ],
             [
              0.4444444444444444,
              "#bd3786"
             ],
             [
              0.5555555555555556,
              "#d8576b"
             ],
             [
              0.6666666666666666,
              "#ed7953"
             ],
             [
              0.7777777777777778,
              "#fb9f3a"
             ],
             [
              0.8888888888888888,
              "#fdca26"
             ],
             [
              1,
              "#f0f921"
             ]
            ],
            "type": "histogram2d"
           }
          ],
          "histogram2dcontour": [
           {
            "colorbar": {
             "outlinewidth": 0,
             "ticks": ""
            },
            "colorscale": [
             [
              0,
              "#0d0887"
             ],
             [
              0.1111111111111111,
              "#46039f"
             ],
             [
              0.2222222222222222,
              "#7201a8"
             ],
             [
              0.3333333333333333,
              "#9c179e"
             ],
             [
              0.4444444444444444,
              "#bd3786"
             ],
             [
              0.5555555555555556,
              "#d8576b"
             ],
             [
              0.6666666666666666,
              "#ed7953"
             ],
             [
              0.7777777777777778,
              "#fb9f3a"
             ],
             [
              0.8888888888888888,
              "#fdca26"
             ],
             [
              1,
              "#f0f921"
             ]
            ],
            "type": "histogram2dcontour"
           }
          ],
          "mesh3d": [
           {
            "colorbar": {
             "outlinewidth": 0,
             "ticks": ""
            },
            "type": "mesh3d"
           }
          ],
          "parcoords": [
           {
            "line": {
             "colorbar": {
              "outlinewidth": 0,
              "ticks": ""
             }
            },
            "type": "parcoords"
           }
          ],
          "pie": [
           {
            "automargin": true,
            "type": "pie"
           }
          ],
          "scatter": [
           {
            "fillpattern": {
             "fillmode": "overlay",
             "size": 10,
             "solidity": 0.2
            },
            "type": "scatter"
           }
          ],
          "scatter3d": [
           {
            "line": {
             "colorbar": {
              "outlinewidth": 0,
              "ticks": ""
             }
            },
            "marker": {
             "colorbar": {
              "outlinewidth": 0,
              "ticks": ""
             }
            },
            "type": "scatter3d"
           }
          ],
          "scattercarpet": [
           {
            "marker": {
             "colorbar": {
              "outlinewidth": 0,
              "ticks": ""
             }
            },
            "type": "scattercarpet"
           }
          ],
          "scattergeo": [
           {
            "marker": {
             "colorbar": {
              "outlinewidth": 0,
              "ticks": ""
             }
            },
            "type": "scattergeo"
           }
          ],
          "scattergl": [
           {
            "marker": {
             "colorbar": {
              "outlinewidth": 0,
              "ticks": ""
             }
            },
            "type": "scattergl"
           }
          ],
          "scattermap": [
           {
            "marker": {
             "colorbar": {
              "outlinewidth": 0,
              "ticks": ""
             }
            },
            "type": "scattermap"
           }
          ],
          "scattermapbox": [
           {
            "marker": {
             "colorbar": {
              "outlinewidth": 0,
              "ticks": ""
             }
            },
            "type": "scattermapbox"
           }
          ],
          "scatterpolar": [
           {
            "marker": {
             "colorbar": {
              "outlinewidth": 0,
              "ticks": ""
             }
            },
            "type": "scatterpolar"
           }
          ],
          "scatterpolargl": [
           {
            "marker": {
             "colorbar": {
              "outlinewidth": 0,
              "ticks": ""
             }
            },
            "type": "scatterpolargl"
           }
          ],
          "scatterternary": [
           {
            "marker": {
             "colorbar": {
              "outlinewidth": 0,
              "ticks": ""
             }
            },
            "type": "scatterternary"
           }
          ],
          "surface": [
           {
            "colorbar": {
             "outlinewidth": 0,
             "ticks": ""
            },
            "colorscale": [
             [
              0,
              "#0d0887"
             ],
             [
              0.1111111111111111,
              "#46039f"
             ],
             [
              0.2222222222222222,
              "#7201a8"
             ],
             [
              0.3333333333333333,
              "#9c179e"
             ],
             [
              0.4444444444444444,
              "#bd3786"
             ],
             [
              0.5555555555555556,
              "#d8576b"
             ],
             [
              0.6666666666666666,
              "#ed7953"
             ],
             [
              0.7777777777777778,
              "#fb9f3a"
             ],
             [
              0.8888888888888888,
              "#fdca26"
             ],
             [
              1,
              "#f0f921"
             ]
            ],
            "type": "surface"
           }
          ],
          "table": [
           {
            "cells": {
             "fill": {
              "color": "#EBF0F8"
             },
             "line": {
              "color": "white"
             }
            },
            "header": {
             "fill": {
              "color": "#C8D4E3"
             },
             "line": {
              "color": "white"
             }
            },
            "type": "table"
           }
          ]
         },
         "layout": {
          "annotationdefaults": {
           "arrowcolor": "#2a3f5f",
           "arrowhead": 0,
           "arrowwidth": 1
          },
          "autotypenumbers": "strict",
          "coloraxis": {
           "colorbar": {
            "outlinewidth": 0,
            "ticks": ""
           }
          },
          "colorscale": {
           "diverging": [
            [
             0,
             "#8e0152"
            ],
            [
             0.1,
             "#c51b7d"
            ],
            [
             0.2,
             "#de77ae"
            ],
            [
             0.3,
             "#f1b6da"
            ],
            [
             0.4,
             "#fde0ef"
            ],
            [
             0.5,
             "#f7f7f7"
            ],
            [
             0.6,
             "#e6f5d0"
            ],
            [
             0.7,
             "#b8e186"
            ],
            [
             0.8,
             "#7fbc41"
            ],
            [
             0.9,
             "#4d9221"
            ],
            [
             1,
             "#276419"
            ]
           ],
           "sequential": [
            [
             0,
             "#0d0887"
            ],
            [
             0.1111111111111111,
             "#46039f"
            ],
            [
             0.2222222222222222,
             "#7201a8"
            ],
            [
             0.3333333333333333,
             "#9c179e"
            ],
            [
             0.4444444444444444,
             "#bd3786"
            ],
            [
             0.5555555555555556,
             "#d8576b"
            ],
            [
             0.6666666666666666,
             "#ed7953"
            ],
            [
             0.7777777777777778,
             "#fb9f3a"
            ],
            [
             0.8888888888888888,
             "#fdca26"
            ],
            [
             1,
             "#f0f921"
            ]
           ],
           "sequentialminus": [
            [
             0,
             "#0d0887"
            ],
            [
             0.1111111111111111,
             "#46039f"
            ],
            [
             0.2222222222222222,
             "#7201a8"
            ],
            [
             0.3333333333333333,
             "#9c179e"
            ],
            [
             0.4444444444444444,
             "#bd3786"
            ],
            [
             0.5555555555555556,
             "#d8576b"
            ],
            [
             0.6666666666666666,
             "#ed7953"
            ],
            [
             0.7777777777777778,
             "#fb9f3a"
            ],
            [
             0.8888888888888888,
             "#fdca26"
            ],
            [
             1,
             "#f0f921"
            ]
           ]
          },
          "colorway": [
           "#636efa",
           "#EF553B",
           "#00cc96",
           "#ab63fa",
           "#FFA15A",
           "#19d3f3",
           "#FF6692",
           "#B6E880",
           "#FF97FF",
           "#FECB52"
          ],
          "font": {
           "color": "#2a3f5f"
          },
          "geo": {
           "bgcolor": "white",
           "lakecolor": "white",
           "landcolor": "#E5ECF6",
           "showlakes": true,
           "showland": true,
           "subunitcolor": "white"
          },
          "hoverlabel": {
           "align": "left"
          },
          "hovermode": "closest",
          "mapbox": {
           "style": "light"
          },
          "paper_bgcolor": "white",
          "plot_bgcolor": "#E5ECF6",
          "polar": {
           "angularaxis": {
            "gridcolor": "white",
            "linecolor": "white",
            "ticks": ""
           },
           "bgcolor": "#E5ECF6",
           "radialaxis": {
            "gridcolor": "white",
            "linecolor": "white",
            "ticks": ""
           }
          },
          "scene": {
           "xaxis": {
            "backgroundcolor": "#E5ECF6",
            "gridcolor": "white",
            "gridwidth": 2,
            "linecolor": "white",
            "showbackground": true,
            "ticks": "",
            "zerolinecolor": "white"
           },
           "yaxis": {
            "backgroundcolor": "#E5ECF6",
            "gridcolor": "white",
            "gridwidth": 2,
            "linecolor": "white",
            "showbackground": true,
            "ticks": "",
            "zerolinecolor": "white"
           },
           "zaxis": {
            "backgroundcolor": "#E5ECF6",
            "gridcolor": "white",
            "gridwidth": 2,
            "linecolor": "white",
            "showbackground": true,
            "ticks": "",
            "zerolinecolor": "white"
           }
          },
          "shapedefaults": {
           "line": {
            "color": "#2a3f5f"
           }
          },
          "ternary": {
           "aaxis": {
            "gridcolor": "white",
            "linecolor": "white",
            "ticks": ""
           },
           "baxis": {
            "gridcolor": "white",
            "linecolor": "white",
            "ticks": ""
           },
           "bgcolor": "#E5ECF6",
           "caxis": {
            "gridcolor": "white",
            "linecolor": "white",
            "ticks": ""
           }
          },
          "title": {
           "x": 0.05
          },
          "xaxis": {
           "automargin": true,
           "gridcolor": "white",
           "linecolor": "white",
           "ticks": "",
           "title": {
            "standoff": 15
           },
           "zerolinecolor": "white",
           "zerolinewidth": 2
          },
          "yaxis": {
           "automargin": true,
           "gridcolor": "white",
           "linecolor": "white",
           "ticks": "",
           "title": {
            "standoff": 15
           },
           "zerolinecolor": "white",
           "zerolinewidth": 2
          }
         }
        },
        "title": {
         "text": "Top 5 des combinaisons de produits les plus vendues"
        },
        "uniformtext": {
         "minsize": 10,
         "mode": "hide"
        }
       }
      }
     },
     "metadata": {},
     "output_type": "display_data"
    }
   ],
   "source": [
    "# 1. Compter les combinaisons et sélectionner le top 5\n",
    "top_5_combinations = df2['Grouped'].value_counts().nlargest(5)\n",
    "\n",
    "# 2. Créer un DataFrame propre pour le graphique\n",
    "plot_df = top_5_combinations.reset_index()\n",
    "plot_df.columns = ['Combinaison', 'Nombre de Ventes'] # Renommer les colonnes\n",
    "\n",
    "# 3. Créer le graphique à partir du DataFrame avec Plotly Express\n",
    "fig = px.pie(plot_df, \n",
    "             values='Nombre de Ventes', \n",
    "             names='Combinaison',\n",
    "             title='Top 5 des combinaisons de produits les plus vendues',\n",
    "             hole=0.4, # Pour un effet \"donut\"\n",
    "             color_discrete_sequence=px.colors.qualitative.Pastel)\n",
    "\n",
    "# 4. Améliorer la lisibilité\n",
    "fig.update_traces(textposition='inside', textinfo='percent+label', pull=[0.05, 0, 0, 0, 0]) # Met en avant la 1ère part\n",
    "fig.update_layout(showlegend=False, uniformtext_minsize=10, uniformtext_mode='hide')\n",
    "\n",
    "fig.show()"
   ]
  },
  {
   "cell_type": "markdown",
   "id": "f4194622",
   "metadata": {},
   "source": [
    "#### Interprétation \n",
    "##### Analyse des Combinaisons de Produits les Plus Vendues\n",
    "##### Points Clés :\n",
    "- La combinaison la plus populaire est l'achat d'un smartphone avec son accessoire de charge essentiel.\n",
    "- Les produits du même écosystème (par exemple, Apple) sont très souvent achetés ensemble.\n",
    "##### Combinaisons les Plus Fréquentes :\n",
    "- iPhone et Câble de chargement Lightning : C'est de loin la combinaison la plus vendue. Les clients achètent souvent un câble supplémentaire ou de remplacement avec leur nouveau téléphone.\n",
    "- Google Phone et Câble de chargement USB-C : On observe la même tendance pour les téléphones Google, ce qui confirme que les clients associent l'achat d'un téléphone à son chargeur.\n",
    "- iPhone et Écouteurs filaires (Wired Headphones) : De nombreux clients complètent leur achat de téléphone avec des écouteurs, un accessoire de base souvent nécessaire.\n",
    "##### Insights Stratégiques :\n",
    "- Opportunités de Ventes Groupées (Bundling) : Les données montrent une forte tendance des clients à acheter des accessoires en même temps que le produit principal.\n",
    "- Comportement Client : Les clients cherchent à obtenir une solution complète (téléphone + chargeur + écouteurs) lors de leur achat.\n",
    "##### Recommandations :\n",
    "- Créer des Offres Spéciales : Proposez des \"packs\" ou \"bundles\" (ex: \"Pack Démarrage iPhone\" avec un téléphone, un câble et des écouteurs) à un prix légèrement réduit pour encourager ces achats groupés et augmenter la valeur moyenne du panier.\n",
    "- Optimiser les Ventes Croisées (Cross-selling) : Sur la page produit d'un iPhone, suggérez automatiquement l'ajout d'un câble Lightning et d'écouteurs au panier avec une mention comme \"Fréquemment achetés ensemble\".\n"
   ]
  }
 ],
 "metadata": {
  "kernelspec": {
   "display_name": "Python 3",
   "language": "python",
   "name": "python3"
  },
  "language_info": {
   "codemirror_mode": {
    "name": "ipython",
    "version": 3
   },
   "file_extension": ".py",
   "mimetype": "text/x-python",
   "name": "python",
   "nbconvert_exporter": "python",
   "pygments_lexer": "ipython3",
   "version": "3.13.3"
  }
 },
 "nbformat": 4,
 "nbformat_minor": 5
}
